{
 "cells": [
  {
   "cell_type": "markdown",
   "id": "b12d0d80",
   "metadata": {},
   "source": [
    "# Problem Statement:\n",
    "\n",
    "With a dataset of over 50million hand drawn drawings and 340 labels, we are tasked by Google to build a better classifier for the existing Quick, Draw! dataset. This will have an immediate impact on handwriting recognition and its robust applications in areas including OCR (Optical Character Recognition), ASR (Automatic Speech Recognition) & NLP (Natural Language Processing).\n",
    "\n",
    "As data scientists, we would like to build a predictive model that can predict accurately the label of the drawings with a maximum of 3 guesses. Hence our target metric is accuracy or more specifically the top 3 accuracy. With a better predictive model, Google will be able to immediately improve their handwritten recognition models."
   ]
  },
  {
   "cell_type": "markdown",
   "id": "8bbc3352",
   "metadata": {},
   "source": [
    "## Dataset\n",
    "\n",
    "This data and challenge comes from [this kaggle competition](https://www.kaggle.com/c/quickdraw-doodle-recognition)"
   ]
  },
  {
   "cell_type": "markdown",
   "id": "c140d298",
   "metadata": {},
   "source": [
    "## Imports and libraries"
   ]
  },
  {
   "cell_type": "code",
   "execution_count": 1,
   "id": "bcbe489e",
   "metadata": {},
   "outputs": [],
   "source": [
    "# imports\n",
    "\n",
    "import pandas as pd\n",
    "import numpy as np\n",
    "import matplotlib.pyplot as plt\n",
    "\n",
    "from sklearn.model_selection import train_test_split\n",
    "\n",
    "import tensorflow as tf\n",
    "from tensorflow.keras.models import Sequential\n",
    "from tensorflow.keras.layers import Dense, Dropout, Activation, Flatten\n",
    "from tensorflow.keras.layers import Conv2D, MaxPooling2D\n",
    "\n",
    "from tensorflow.keras.utils import to_categorical\n",
    "\n",
    "from tensorflow.keras import regularizers\n",
    "from tensorflow.keras.callbacks import EarlyStopping, ReduceLROnPlateau\n",
    "from tensorflow.keras.metrics import top_k_categorical_accuracy\n",
    "\n",
    "%matplotlib inline\n",
    "\n",
    "import os\n",
    "import ast\n",
    "from glob import glob\n",
    "from tqdm.notebook import tqdm \n",
    "from PIL import Image, ImageDraw\n",
    "import math"
   ]
  },
  {
   "cell_type": "code",
   "execution_count": 2,
   "id": "e85ab453",
   "metadata": {},
   "outputs": [
    {
     "data": {
      "application/javascript": [
       "if (!(\"Notification\" in window)) {\n",
       "    alert(\"This browser does not support desktop notifications, so the %%notify magic will not work.\");\n",
       "} else if (Notification.permission !== 'granted' && Notification.permission !== 'denied') {\n",
       "    Notification.requestPermission(function (permission) {\n",
       "        if(!('permission' in Notification)) {\n",
       "            Notification.permission = permission;\n",
       "        }\n",
       "    })\n",
       "}\n"
      ],
      "text/plain": [
       "<IPython.core.display.Javascript object>"
      ]
     },
     "metadata": {},
     "output_type": "display_data"
    }
   ],
   "source": [
    "## External add on to notify when cell is executed.\n",
    "%load_ext jupyternotify"
   ]
  },
  {
   "cell_type": "markdown",
   "id": "ba15d60f",
   "metadata": {},
   "source": [
    "## Data cleaning and EDA"
   ]
  },
  {
   "cell_type": "markdown",
   "id": "b2cdae1a",
   "metadata": {},
   "source": [
    "The dataset is from Kaggle and there is no cleaning to be done as the data has been preprocessed by them. There are no missing values and the labels are in the training dataset. "
   ]
  },
  {
   "cell_type": "code",
   "execution_count": 3,
   "id": "5a98d531",
   "metadata": {},
   "outputs": [],
   "source": [
    "# take a look at first train set (airplane.csv)\n",
    "df_train = pd.read_csv('train_simplified/airplane.csv')"
   ]
  },
  {
   "cell_type": "code",
   "execution_count": 4,
   "id": "d0d9deec",
   "metadata": {},
   "outputs": [
    {
     "data": {
      "text/html": [
       "<div>\n",
       "<style scoped>\n",
       "    .dataframe tbody tr th:only-of-type {\n",
       "        vertical-align: middle;\n",
       "    }\n",
       "\n",
       "    .dataframe tbody tr th {\n",
       "        vertical-align: top;\n",
       "    }\n",
       "\n",
       "    .dataframe thead th {\n",
       "        text-align: right;\n",
       "    }\n",
       "</style>\n",
       "<table border=\"1\" class=\"dataframe\">\n",
       "  <thead>\n",
       "    <tr style=\"text-align: right;\">\n",
       "      <th></th>\n",
       "      <th>countrycode</th>\n",
       "      <th>drawing</th>\n",
       "      <th>key_id</th>\n",
       "      <th>recognized</th>\n",
       "      <th>timestamp</th>\n",
       "      <th>word</th>\n",
       "    </tr>\n",
       "  </thead>\n",
       "  <tbody>\n",
       "    <tr>\n",
       "      <th>0</th>\n",
       "      <td>US</td>\n",
       "      <td>[[[167, 109, 80, 69, 58, 31, 57, 117, 99, 52, ...</td>\n",
       "      <td>5152802093400064</td>\n",
       "      <td>True</td>\n",
       "      <td>2017-03-08 21:12:07.266040</td>\n",
       "      <td>airplane</td>\n",
       "    </tr>\n",
       "    <tr>\n",
       "      <th>1</th>\n",
       "      <td>CA</td>\n",
       "      <td>[[[2, 14, 34, 126], [57, 45, 38, 47]], [[41, 4...</td>\n",
       "      <td>6622904974311424</td>\n",
       "      <td>False</td>\n",
       "      <td>2017-03-06 21:39:04.690130</td>\n",
       "      <td>airplane</td>\n",
       "    </tr>\n",
       "    <tr>\n",
       "      <th>2</th>\n",
       "      <td>US</td>\n",
       "      <td>[[[90, 88, 95, 104, 112, 122], [65, 31, 12, 0,...</td>\n",
       "      <td>6577010312740864</td>\n",
       "      <td>True</td>\n",
       "      <td>2017-03-23 02:08:35.229980</td>\n",
       "      <td>airplane</td>\n",
       "    </tr>\n",
       "    <tr>\n",
       "      <th>3</th>\n",
       "      <td>US</td>\n",
       "      <td>[[[82, 49, 15, 4, 0, 5, 30, 85, 89, 93, 112, 1...</td>\n",
       "      <td>5643224746033152</td>\n",
       "      <td>True</td>\n",
       "      <td>2017-03-10 00:35:17.531970</td>\n",
       "      <td>airplane</td>\n",
       "    </tr>\n",
       "    <tr>\n",
       "      <th>4</th>\n",
       "      <td>IL</td>\n",
       "      <td>[[[64, 38, 23, 8, 0, 6, 26, 68], [74, 77, 84, ...</td>\n",
       "      <td>6670046841536512</td>\n",
       "      <td>True</td>\n",
       "      <td>2017-01-23 18:11:11.658170</td>\n",
       "      <td>airplane</td>\n",
       "    </tr>\n",
       "    <tr>\n",
       "      <th>5</th>\n",
       "      <td>US</td>\n",
       "      <td>[[[195, 164, 127, 40, 13, 0, 4, 28, 93, 172, 2...</td>\n",
       "      <td>5509429904539648</td>\n",
       "      <td>True</td>\n",
       "      <td>2017-03-02 19:06:55.494650</td>\n",
       "      <td>airplane</td>\n",
       "    </tr>\n",
       "    <tr>\n",
       "      <th>6</th>\n",
       "      <td>CZ</td>\n",
       "      <td>[[[105, 102, 106, 112, 126, 133, 137, 139, 209...</td>\n",
       "      <td>4885112569200640</td>\n",
       "      <td>True</td>\n",
       "      <td>2017-03-27 19:32:38.753680</td>\n",
       "      <td>airplane</td>\n",
       "    </tr>\n",
       "    <tr>\n",
       "      <th>7</th>\n",
       "      <td>AU</td>\n",
       "      <td>[[[93, 68, 17, 0, 3, 13, 38, 66, 109, 114, 153...</td>\n",
       "      <td>5445677096108032</td>\n",
       "      <td>True</td>\n",
       "      <td>2017-03-29 09:25:50.212600</td>\n",
       "      <td>airplane</td>\n",
       "    </tr>\n",
       "    <tr>\n",
       "      <th>8</th>\n",
       "      <td>MY</td>\n",
       "      <td>[[[1, 2, 8, 17, 22, 28, 94, 99, 99, 102, 105, ...</td>\n",
       "      <td>6687207765049344</td>\n",
       "      <td>True</td>\n",
       "      <td>2017-03-25 10:17:56.501990</td>\n",
       "      <td>airplane</td>\n",
       "    </tr>\n",
       "    <tr>\n",
       "      <th>9</th>\n",
       "      <td>BR</td>\n",
       "      <td>[[[2, 34, 48, 102, 191], [20, 38, 42, 46, 44]]...</td>\n",
       "      <td>5838857872343040</td>\n",
       "      <td>True</td>\n",
       "      <td>2017-03-15 23:26:35.328150</td>\n",
       "      <td>airplane</td>\n",
       "    </tr>\n",
       "  </tbody>\n",
       "</table>\n",
       "</div>"
      ],
      "text/plain": [
       "  countrycode                                            drawing  \\\n",
       "0          US  [[[167, 109, 80, 69, 58, 31, 57, 117, 99, 52, ...   \n",
       "1          CA  [[[2, 14, 34, 126], [57, 45, 38, 47]], [[41, 4...   \n",
       "2          US  [[[90, 88, 95, 104, 112, 122], [65, 31, 12, 0,...   \n",
       "3          US  [[[82, 49, 15, 4, 0, 5, 30, 85, 89, 93, 112, 1...   \n",
       "4          IL  [[[64, 38, 23, 8, 0, 6, 26, 68], [74, 77, 84, ...   \n",
       "5          US  [[[195, 164, 127, 40, 13, 0, 4, 28, 93, 172, 2...   \n",
       "6          CZ  [[[105, 102, 106, 112, 126, 133, 137, 139, 209...   \n",
       "7          AU  [[[93, 68, 17, 0, 3, 13, 38, 66, 109, 114, 153...   \n",
       "8          MY  [[[1, 2, 8, 17, 22, 28, 94, 99, 99, 102, 105, ...   \n",
       "9          BR  [[[2, 34, 48, 102, 191], [20, 38, 42, 46, 44]]...   \n",
       "\n",
       "             key_id  recognized                   timestamp      word  \n",
       "0  5152802093400064        True  2017-03-08 21:12:07.266040  airplane  \n",
       "1  6622904974311424       False  2017-03-06 21:39:04.690130  airplane  \n",
       "2  6577010312740864        True  2017-03-23 02:08:35.229980  airplane  \n",
       "3  5643224746033152        True  2017-03-10 00:35:17.531970  airplane  \n",
       "4  6670046841536512        True  2017-01-23 18:11:11.658170  airplane  \n",
       "5  5509429904539648        True  2017-03-02 19:06:55.494650  airplane  \n",
       "6  4885112569200640        True  2017-03-27 19:32:38.753680  airplane  \n",
       "7  5445677096108032        True  2017-03-29 09:25:50.212600  airplane  \n",
       "8  6687207765049344        True  2017-03-25 10:17:56.501990  airplane  \n",
       "9  5838857872343040        True  2017-03-15 23:26:35.328150  airplane  "
      ]
     },
     "execution_count": 4,
     "metadata": {},
     "output_type": "execute_result"
    }
   ],
   "source": [
    "df_train[:10]"
   ]
  },
  {
   "cell_type": "code",
   "execution_count": 5,
   "id": "80a7103d",
   "metadata": {},
   "outputs": [],
   "source": [
    "# to retain only the python expressions in the values (e.g. remove the single quotes '')\n",
    "\n",
    "example_10 = [ast.literal_eval(pts) for pts in df_train[:10].drawing.values]"
   ]
  },
  {
   "cell_type": "code",
   "execution_count": 6,
   "id": "a45ca412",
   "metadata": {
    "scrolled": true
   },
   "outputs": [
    {
     "data": {
      "text/plain": [
       "[[[167,\n",
       "   109,\n",
       "   80,\n",
       "   69,\n",
       "   58,\n",
       "   31,\n",
       "   57,\n",
       "   117,\n",
       "   99,\n",
       "   52,\n",
       "   30,\n",
       "   6,\n",
       "   1,\n",
       "   2,\n",
       "   66,\n",
       "   98,\n",
       "   253,\n",
       "   254,\n",
       "   246,\n",
       "   182,\n",
       "   165],\n",
       "  [140,\n",
       "   194,\n",
       "   227,\n",
       "   232,\n",
       "   229,\n",
       "   229,\n",
       "   206,\n",
       "   124,\n",
       "   123,\n",
       "   149,\n",
       "   157,\n",
       "   159,\n",
       "   153,\n",
       "   110,\n",
       "   82,\n",
       "   77,\n",
       "   74,\n",
       "   109,\n",
       "   121,\n",
       "   127,\n",
       "   120]],\n",
       " [[207, 207, 210, 221, 238], [74, 103, 114, 128, 135]],\n",
       " [[119, 107, 76, 70, 49, 39, 60, 93], [72, 41, 3, 0, 1, 5, 38, 70]]]"
      ]
     },
     "execution_count": 6,
     "metadata": {},
     "output_type": "execute_result"
    }
   ],
   "source": [
    "ast.literal_eval(df_train.drawing[0])"
   ]
  },
  {
   "cell_type": "code",
   "execution_count": 7,
   "id": "045069e2",
   "metadata": {
    "scrolled": false
   },
   "outputs": [
    {
     "name": "stderr",
     "output_type": "stream",
     "text": [
      "<ipython-input-7-e3e157622b06>:5: MatplotlibDeprecationWarning: Adding an axes using the same arguments as a previous axes currently reuses the earlier instance.  In a future version, a new instance will always be created and returned.  Meanwhile, this warning can be suppressed, and the future behavior ensured, by passing a unique label to each axes instance.\n",
      "  plt.subplot(1,2,1)\n",
      "<ipython-input-7-e3e157622b06>:11: MatplotlibDeprecationWarning: Adding an axes using the same arguments as a previous axes currently reuses the earlier instance.  In a future version, a new instance will always be created and returned.  Meanwhile, this warning can be suppressed, and the future behavior ensured, by passing a unique label to each axes instance.\n",
      "  plt.subplot(1,2,2)\n"
     ]
    },
    {
     "data": {
      "image/png": "[encoded data removed]",
      "text/plain": [
       "<Figure size 864x432 with 2 Axes>"
      ]
     },
     "metadata": {
      "needs_background": "light"
     },
     "output_type": "display_data"
    }
   ],
   "source": [
    "# example of a wrongly drawn airplane and correctly drawn airplane\n",
    "plt.figure(figsize=(12,6))\n",
    "\n",
    "for x, y in example_10[1]:\n",
    "    plt.subplot(1,2,1)\n",
    "    plt.plot(x, y, marker='.')\n",
    "    plt.axis('off')\n",
    "    plt.title('Wrong airplane')\n",
    "    \n",
    "for x, y in example_10[0]:\n",
    "    plt.subplot(1,2,2)\n",
    "    plt.plot(x, y, marker='.')\n",
    "    plt.axis('off')\n",
    "    plt.title('Correct airplane')"
   ]
  },
  {
   "cell_type": "markdown",
   "id": "a8d35058",
   "metadata": {},
   "source": [
    "We can see that the difference between a False and True recognized airplane. The False one on the left does not look like an airplane and there are also random strokes on the side. The True one on the right looks more like an airplane.  "
   ]
  },
  {
   "cell_type": "code",
   "execution_count": 3,
   "id": "b0fc1423",
   "metadata": {},
   "outputs": [],
   "source": [
    "# lets take a look at 2 correct drawings from 10 random csv files\n",
    "paths = glob('train_simplified/*.csv') # saves the 340 file paths as a list\n",
    "columns = ['countrycode', 'drawing', 'key_id', 'recognized', 'timestamp', 'word'] # columns of our train df"
   ]
  },
  {
   "cell_type": "code",
   "execution_count": 4,
   "id": "14d53c2a",
   "metadata": {
    "scrolled": false
   },
   "outputs": [
    {
     "data": {
      "text/html": [
       "<div>\n",
       "<style scoped>\n",
       "    .dataframe tbody tr th:only-of-type {\n",
       "        vertical-align: middle;\n",
       "    }\n",
       "\n",
       "    .dataframe tbody tr th {\n",
       "        vertical-align: top;\n",
       "    }\n",
       "\n",
       "    .dataframe thead th {\n",
       "        text-align: right;\n",
       "    }\n",
       "</style>\n",
       "<table border=\"1\" class=\"dataframe\">\n",
       "  <thead>\n",
       "    <tr style=\"text-align: right;\">\n",
       "      <th></th>\n",
       "      <th>countrycode</th>\n",
       "      <th>drawing</th>\n",
       "      <th>key_id</th>\n",
       "      <th>recognized</th>\n",
       "      <th>timestamp</th>\n",
       "      <th>word</th>\n",
       "    </tr>\n",
       "  </thead>\n",
       "  <tbody>\n",
       "    <tr>\n",
       "      <th>0</th>\n",
       "      <td>US</td>\n",
       "      <td>[[[167, 109, 80, 69, 58, 31, 57, 117, 99, 52, ...</td>\n",
       "      <td>5152802093400064</td>\n",
       "      <td>True</td>\n",
       "      <td>2017-03-08 21:12:07.266040</td>\n",
       "      <td>airplane</td>\n",
       "    </tr>\n",
       "    <tr>\n",
       "      <th>1</th>\n",
       "      <td>US</td>\n",
       "      <td>[[[90, 88, 95, 104, 112, 122], [65, 31, 12, 0,...</td>\n",
       "      <td>6577010312740864</td>\n",
       "      <td>True</td>\n",
       "      <td>2017-03-23 02:08:35.229980</td>\n",
       "      <td>airplane</td>\n",
       "    </tr>\n",
       "    <tr>\n",
       "      <th>2</th>\n",
       "      <td>KR</td>\n",
       "      <td>[[[2, 38, 71, 108, 128, 139], [10, 24, 31, 22,...</td>\n",
       "      <td>5344373355053056</td>\n",
       "      <td>True</td>\n",
       "      <td>2017-03-22 06:30:48.171460</td>\n",
       "      <td>axe</td>\n",
       "    </tr>\n",
       "    <tr>\n",
       "      <th>3</th>\n",
       "      <td>SE</td>\n",
       "      <td>[[[54, 37, 7, 5, 12, 0, 7, 34, 52, 56, 52, 42,...</td>\n",
       "      <td>6545061917491200</td>\n",
       "      <td>True</td>\n",
       "      <td>2017-01-27 21:49:54.406820</td>\n",
       "      <td>axe</td>\n",
       "    </tr>\n",
       "    <tr>\n",
       "      <th>4</th>\n",
       "      <td>BR</td>\n",
       "      <td>[[[48, 119, 208, 222, 228, 209, 175, 80, 25, 7...</td>\n",
       "      <td>4801185506656256</td>\n",
       "      <td>True</td>\n",
       "      <td>2017-01-26 00:40:23.964940</td>\n",
       "      <td>bathtub</td>\n",
       "    </tr>\n",
       "    <tr>\n",
       "      <th>5</th>\n",
       "      <td>GB</td>\n",
       "      <td>[[[17, 230], [138, 136]], [[1, 8, 21, 33, 55, ...</td>\n",
       "      <td>5242011433041920</td>\n",
       "      <td>True</td>\n",
       "      <td>2017-03-21 19:08:39.365000</td>\n",
       "      <td>bathtub</td>\n",
       "    </tr>\n",
       "    <tr>\n",
       "      <th>6</th>\n",
       "      <td>US</td>\n",
       "      <td>[[[0, 11, 23, 50, 72, 96, 97, 132, 158, 224, 2...</td>\n",
       "      <td>4926006882205696</td>\n",
       "      <td>True</td>\n",
       "      <td>2017-03-09 00:28:55.637750</td>\n",
       "      <td>bird</td>\n",
       "    </tr>\n",
       "    <tr>\n",
       "      <th>7</th>\n",
       "      <td>US</td>\n",
       "      <td>[[[65, 194, 221, 240, 250, 255, 251, 242, 227,...</td>\n",
       "      <td>5357674197680128</td>\n",
       "      <td>True</td>\n",
       "      <td>2017-03-29 04:22:58.822970</td>\n",
       "      <td>bird</td>\n",
       "    </tr>\n",
       "    <tr>\n",
       "      <th>8</th>\n",
       "      <td>US</td>\n",
       "      <td>[[[0, 17, 25, 31, 63, 72, 78, 99, 101, 109, 11...</td>\n",
       "      <td>5740525556596736</td>\n",
       "      <td>True</td>\n",
       "      <td>2017-01-25 19:53:24.835000</td>\n",
       "      <td>bread</td>\n",
       "    </tr>\n",
       "    <tr>\n",
       "      <th>9</th>\n",
       "      <td>US</td>\n",
       "      <td>[[[44, 43, 47, 65, 133, 155, 163, 161, 137], [...</td>\n",
       "      <td>6272884819361792</td>\n",
       "      <td>True</td>\n",
       "      <td>2017-03-27 14:35:09.998750</td>\n",
       "      <td>bread</td>\n",
       "    </tr>\n",
       "    <tr>\n",
       "      <th>10</th>\n",
       "      <td>SA</td>\n",
       "      <td>[[[161, 135, 109, 87, 62, 34, 3, 0, 6, 26, 78,...</td>\n",
       "      <td>4746689887862784</td>\n",
       "      <td>True</td>\n",
       "      <td>2017-01-23 10:09:25.236830</td>\n",
       "      <td>ear</td>\n",
       "    </tr>\n",
       "    <tr>\n",
       "      <th>11</th>\n",
       "      <td>US</td>\n",
       "      <td>[[[38, 58], [6, 0]], [[69, 84], [0, 8]], [[87,...</td>\n",
       "      <td>4561902254424064</td>\n",
       "      <td>True</td>\n",
       "      <td>2017-03-23 16:48:01.337340</td>\n",
       "      <td>ear</td>\n",
       "    </tr>\n",
       "    <tr>\n",
       "      <th>12</th>\n",
       "      <td>PH</td>\n",
       "      <td>[[[4, 0, 2, 12, 23], [103, 119, 174, 206, 219]...</td>\n",
       "      <td>5352332600541184</td>\n",
       "      <td>True</td>\n",
       "      <td>2017-03-23 07:28:41.614740</td>\n",
       "      <td>hot tub</td>\n",
       "    </tr>\n",
       "    <tr>\n",
       "      <th>13</th>\n",
       "      <td>TH</td>\n",
       "      <td>[[[249, 215, 164, 110, 76, 21, 6, 16, 255], [7...</td>\n",
       "      <td>5703388765356032</td>\n",
       "      <td>True</td>\n",
       "      <td>2017-03-21 11:22:28.953270</td>\n",
       "      <td>hot tub</td>\n",
       "    </tr>\n",
       "    <tr>\n",
       "      <th>14</th>\n",
       "      <td>US</td>\n",
       "      <td>[[[11, 14, 35, 42], [8, 36, 121, 189]], [[0, 4...</td>\n",
       "      <td>5352250580926464</td>\n",
       "      <td>True</td>\n",
       "      <td>2017-01-27 22:19:37.987450</td>\n",
       "      <td>oven</td>\n",
       "    </tr>\n",
       "    <tr>\n",
       "      <th>15</th>\n",
       "      <td>TH</td>\n",
       "      <td>[[[41, 30], [0, 94]], [[40, 190, 237, 247, 254...</td>\n",
       "      <td>6701726566449152</td>\n",
       "      <td>True</td>\n",
       "      <td>2017-03-29 17:09:50.120520</td>\n",
       "      <td>oven</td>\n",
       "    </tr>\n",
       "    <tr>\n",
       "      <th>16</th>\n",
       "      <td>GB</td>\n",
       "      <td>[[[38, 61, 92, 63, 39, 1, 0, 29, 36, 41], [114...</td>\n",
       "      <td>4627145810771968</td>\n",
       "      <td>True</td>\n",
       "      <td>2017-03-10 17:38:11.905520</td>\n",
       "      <td>screwdriver</td>\n",
       "    </tr>\n",
       "    <tr>\n",
       "      <th>17</th>\n",
       "      <td>US</td>\n",
       "      <td>[[[95, 132, 42, 14, 9, 1, 0, 6, 85, 99, 97], [...</td>\n",
       "      <td>5429199747678208</td>\n",
       "      <td>True</td>\n",
       "      <td>2017-03-05 00:29:32.153580</td>\n",
       "      <td>screwdriver</td>\n",
       "    </tr>\n",
       "    <tr>\n",
       "      <th>18</th>\n",
       "      <td>US</td>\n",
       "      <td>[[[23, 21, 29, 29, 38, 82, 136, 177, 214, 229,...</td>\n",
       "      <td>5456478225825792</td>\n",
       "      <td>True</td>\n",
       "      <td>2017-03-10 22:49:38.002940</td>\n",
       "      <td>telephone</td>\n",
       "    </tr>\n",
       "    <tr>\n",
       "      <th>19</th>\n",
       "      <td>US</td>\n",
       "      <td>[[[19, 1, 1, 6, 35, 50, 54, 54, 49, 31, 27, 24...</td>\n",
       "      <td>5432090059341824</td>\n",
       "      <td>True</td>\n",
       "      <td>2017-03-09 15:11:30.479880</td>\n",
       "      <td>telephone</td>\n",
       "    </tr>\n",
       "  </tbody>\n",
       "</table>\n",
       "</div>"
      ],
      "text/plain": [
       "   countrycode                                            drawing  \\\n",
       "0           US  [[[167, 109, 80, 69, 58, 31, 57, 117, 99, 52, ...   \n",
       "1           US  [[[90, 88, 95, 104, 112, 122], [65, 31, 12, 0,...   \n",
       "2           KR  [[[2, 38, 71, 108, 128, 139], [10, 24, 31, 22,...   \n",
       "3           SE  [[[54, 37, 7, 5, 12, 0, 7, 34, 52, 56, 52, 42,...   \n",
       "4           BR  [[[48, 119, 208, 222, 228, 209, 175, 80, 25, 7...   \n",
       "5           GB  [[[17, 230], [138, 136]], [[1, 8, 21, 33, 55, ...   \n",
       "6           US  [[[0, 11, 23, 50, 72, 96, 97, 132, 158, 224, 2...   \n",
       "7           US  [[[65, 194, 221, 240, 250, 255, 251, 242, 227,...   \n",
       "8           US  [[[0, 17, 25, 31, 63, 72, 78, 99, 101, 109, 11...   \n",
       "9           US  [[[44, 43, 47, 65, 133, 155, 163, 161, 137], [...   \n",
       "10          SA  [[[161, 135, 109, 87, 62, 34, 3, 0, 6, 26, 78,...   \n",
       "11          US  [[[38, 58], [6, 0]], [[69, 84], [0, 8]], [[87,...   \n",
       "12          PH  [[[4, 0, 2, 12, 23], [103, 119, 174, 206, 219]...   \n",
       "13          TH  [[[249, 215, 164, 110, 76, 21, 6, 16, 255], [7...   \n",
       "14          US  [[[11, 14, 35, 42], [8, 36, 121, 189]], [[0, 4...   \n",
       "15          TH  [[[41, 30], [0, 94]], [[40, 190, 237, 247, 254...   \n",
       "16          GB  [[[38, 61, 92, 63, 39, 1, 0, 29, 36, 41], [114...   \n",
       "17          US  [[[95, 132, 42, 14, 9, 1, 0, 6, 85, 99, 97], [...   \n",
       "18          US  [[[23, 21, 29, 29, 38, 82, 136, 177, 214, 229,...   \n",
       "19          US  [[[19, 1, 1, 6, 35, 50, 54, 54, 49, 31, 27, 24...   \n",
       "\n",
       "              key_id recognized                   timestamp         word  \n",
       "0   5152802093400064       True  2017-03-08 21:12:07.266040     airplane  \n",
       "1   6577010312740864       True  2017-03-23 02:08:35.229980     airplane  \n",
       "2   5344373355053056       True  2017-03-22 06:30:48.171460          axe  \n",
       "3   6545061917491200       True  2017-01-27 21:49:54.406820          axe  \n",
       "4   4801185506656256       True  2017-01-26 00:40:23.964940      bathtub  \n",
       "5   5242011433041920       True  2017-03-21 19:08:39.365000      bathtub  \n",
       "6   4926006882205696       True  2017-03-09 00:28:55.637750         bird  \n",
       "7   5357674197680128       True  2017-03-29 04:22:58.822970         bird  \n",
       "8   5740525556596736       True  2017-01-25 19:53:24.835000        bread  \n",
       "9   6272884819361792       True  2017-03-27 14:35:09.998750        bread  \n",
       "10  4746689887862784       True  2017-01-23 10:09:25.236830          ear  \n",
       "11  4561902254424064       True  2017-03-23 16:48:01.337340          ear  \n",
       "12  5352332600541184       True  2017-03-23 07:28:41.614740      hot tub  \n",
       "13  5703388765356032       True  2017-03-21 11:22:28.953270      hot tub  \n",
       "14  5352250580926464       True  2017-01-27 22:19:37.987450         oven  \n",
       "15  6701726566449152       True  2017-03-29 17:09:50.120520         oven  \n",
       "16  4627145810771968       True  2017-03-10 17:38:11.905520  screwdriver  \n",
       "17  5429199747678208       True  2017-03-05 00:29:32.153580  screwdriver  \n",
       "18  5456478225825792       True  2017-03-10 22:49:38.002940    telephone  \n",
       "19  5432090059341824       True  2017-03-09 15:11:30.479880    telephone  "
      ]
     },
     "execution_count": 4,
     "metadata": {},
     "output_type": "execute_result"
    }
   ],
   "source": [
    "sketchlist = []\n",
    "for i in [0, 10, 20, 30, 40, 100, 150, 200, 250, 300]:\n",
    "    sketch = pd.read_csv(paths[i], nrows=10) # read in 10 rows from the csv file\n",
    "    sketch = sketch[sketch.recognized==True].head(2) # take the first 2 Correct drawings\n",
    "    sketchlist.append(sketch)\n",
    "\n",
    "sketch_df = pd.DataFrame(np.concatenate(sketchlist), columns = columns)\n",
    "sketch_df"
   ]
  },
  {
   "cell_type": "code",
   "execution_count": 8,
   "id": "a0965d54",
   "metadata": {},
   "outputs": [],
   "source": [
    "evens = range(0,19,2)\n",
    "odds = range(1,20, 2)\n",
    "df1 = sketch_df[sketch_df.index.isin(evens)]\n",
    "df2 = sketch_df[sketch_df.index.isin(odds)]\n",
    "\n",
    "example1s = [ast.literal_eval(pts) for pts in df1.drawing.values]\n",
    "example2s = [ast.literal_eval(pts) for pts in df2.drawing.values]"
   ]
  },
  {
   "cell_type": "code",
   "execution_count": 12,
   "id": "807f2797",
   "metadata": {
    "scrolled": false
   },
   "outputs": [
    {
     "name": "stderr",
     "output_type": "stream",
     "text": [
      "<ipython-input-12-90ef6f7d35c2>:6: MatplotlibDeprecationWarning: Adding an axes using the same arguments as a previous axes currently reuses the earlier instance.  In a future version, a new instance will always be created and returned.  Meanwhile, this warning can be suppressed, and the future behavior ensured, by passing a unique label to each axes instance.\n",
      "  plt.subplot(1,2,1)\n",
      "<ipython-input-12-90ef6f7d35c2>:11: MatplotlibDeprecationWarning: Adding an axes using the same arguments as a previous axes currently reuses the earlier instance.  In a future version, a new instance will always be created and returned.  Meanwhile, this warning can be suppressed, and the future behavior ensured, by passing a unique label to each axes instance.\n",
      "  plt.subplot(1,2,2)\n"
     ]
    },
    {
     "data": {
      "image/png": "[encoded data removed]",
      "text/plain": [
       "<Figure size 432x216 with 2 Axes>"
      ]
     },
     "metadata": {
      "needs_background": "light"
     },
     "output_type": "display_data"
    },
    {
     "data": {
      "image/png": "[encoded data removed]",
      "text/plain": [
       "<Figure size 432x216 with 2 Axes>"
      ]
     },
     "metadata": {
      "needs_background": "light"
     },
     "output_type": "display_data"
    },
    {
     "data": {
      "image/png": "[encoded data removed]",
      "text/plain": [
       "<Figure size 432x216 with 2 Axes>"
      ]
     },
     "metadata": {
      "needs_background": "light"
     },
     "output_type": "display_data"
    },
    {
     "data": {
      "image/png": "[encoded data removed]",
      "text/plain": [
       "<Figure size 432x216 with 2 Axes>"
      ]
     },
     "metadata": {
      "needs_background": "light"
     },
     "output_type": "display_data"
    },
    {
     "data": {
      "image/png": "[encoded data removed]",
      "text/plain": [
       "<Figure size 432x216 with 2 Axes>"
      ]
     },
     "metadata": {
      "needs_background": "light"
     },
     "output_type": "display_data"
    },
    {
     "data": {
      "image/png": "[encoded data removed]",
      "text/plain": [
       "<Figure size 432x216 with 2 Axes>"
      ]
     },
     "metadata": {
      "needs_background": "light"
     },
     "output_type": "display_data"
    },
    {
     "data": {
      "image/png": "[encoded data removed]",
      "text/plain": [
       "<Figure size 432x216 with 2 Axes>"
      ]
     },
     "metadata": {
      "needs_background": "light"
     },
     "output_type": "display_data"
    },
    {
     "data": {
      "image/png": "[encoded data removed]",
      "text/plain": [
       "<Figure size 432x216 with 2 Axes>"
      ]
     },
     "metadata": {
      "needs_background": "light"
     },
     "output_type": "display_data"
    },
    {
     "data": {
      "image/png": "[encoded data removed]",
      "text/plain": [
       "<Figure size 432x216 with 2 Axes>"
      ]
     },
     "metadata": {
      "needs_background": "light"
     },
     "output_type": "display_data"
    },
    {
     "data": {
      "image/png": "[encoded data removed]",
      "text/plain": [
       "<Figure size 432x216 with 2 Axes>"
      ]
     },
     "metadata": {
      "needs_background": "light"
     },
     "output_type": "display_data"
    }
   ],
   "source": [
    "# 2 correct example of each class\n",
    "\n",
    "labels = df2.word.tolist()\n",
    "for i, example in enumerate(example1s):\n",
    "    plt.figure(figsize=(6,3))\n",
    "    \n",
    "    for x,y in example:\n",
    "        plt.subplot(1,2,1)\n",
    "        plt.plot(x, y, marker='.')\n",
    "        plt.axis('off')\n",
    "\n",
    "    for x,y in example2s[i]:\n",
    "        plt.subplot(1,2,2)\n",
    "        plt.plot(x, y, marker='.')\n",
    "        plt.axis('off')\n",
    "        label = labels[i]\n",
    "        plt.title(label, fontsize=10)\n",
    "\n",
    "    plt.show()  "
   ]
  },
  {
   "cell_type": "markdown",
   "id": "e613da7a",
   "metadata": {},
   "source": [
    "Here we see that the images recognized as True comes in different augmentation depending on how the user chooses to start drawing from. The 2 correct Airplanes are facing left and right. The bread is drawn upside down. Screwdriver is facing different angles. This will help our model with generalizing to new images and reduce variance. Also we might not need to manually add a layer for data augmentation."
   ]
  },
  {
   "cell_type": "code",
   "execution_count": 6,
   "id": "ddb5aea8",
   "metadata": {
    "scrolled": true
   },
   "outputs": [
    {
     "data": {
      "text/html": [
       "<div>\n",
       "<style scoped>\n",
       "    .dataframe tbody tr th:only-of-type {\n",
       "        vertical-align: middle;\n",
       "    }\n",
       "\n",
       "    .dataframe tbody tr th {\n",
       "        vertical-align: top;\n",
       "    }\n",
       "\n",
       "    .dataframe thead th {\n",
       "        text-align: right;\n",
       "    }\n",
       "</style>\n",
       "<table border=\"1\" class=\"dataframe\">\n",
       "  <thead>\n",
       "    <tr style=\"text-align: right;\">\n",
       "      <th></th>\n",
       "      <th>countrycode</th>\n",
       "      <th>drawing</th>\n",
       "      <th>key_id</th>\n",
       "      <th>recognized</th>\n",
       "      <th>timestamp</th>\n",
       "      <th>word</th>\n",
       "    </tr>\n",
       "  </thead>\n",
       "  <tbody>\n",
       "    <tr>\n",
       "      <th>0</th>\n",
       "      <td>CA</td>\n",
       "      <td>[[[2, 14, 34, 126], [57, 45, 38, 47]], [[41, 4...</td>\n",
       "      <td>6622904974311424</td>\n",
       "      <td>False</td>\n",
       "      <td>2017-03-06 21:39:04.690130</td>\n",
       "      <td>airplane</td>\n",
       "    </tr>\n",
       "    <tr>\n",
       "      <th>1</th>\n",
       "      <td>AU</td>\n",
       "      <td>[[[3, 5, 15], [3, 34, 62]], [[0, 36], [1, 56]]...</td>\n",
       "      <td>4927566257324032</td>\n",
       "      <td>False</td>\n",
       "      <td>2017-03-01 02:33:27.642600</td>\n",
       "      <td>airplane</td>\n",
       "    </tr>\n",
       "    <tr>\n",
       "      <th>2</th>\n",
       "      <td>US</td>\n",
       "      <td>[[[146, 145, 154, 154, 197, 196, 189, 191, 178...</td>\n",
       "      <td>4767264018530304</td>\n",
       "      <td>False</td>\n",
       "      <td>2017-03-09 22:13:02.245390</td>\n",
       "      <td>axe</td>\n",
       "    </tr>\n",
       "    <tr>\n",
       "      <th>3</th>\n",
       "      <td>SK</td>\n",
       "      <td>[[[31, 30, 33, 50, 55, 53, 56, 52, 35, 32, 34]...</td>\n",
       "      <td>5543808265617408</td>\n",
       "      <td>False</td>\n",
       "      <td>2017-03-08 11:16:09.315190</td>\n",
       "      <td>axe</td>\n",
       "    </tr>\n",
       "    <tr>\n",
       "      <th>4</th>\n",
       "      <td>RO</td>\n",
       "      <td>[[[57, 57], [255, 215]], [[133, 122], [252, 20...</td>\n",
       "      <td>5022555733753856</td>\n",
       "      <td>False</td>\n",
       "      <td>2017-03-04 18:36:19.714880</td>\n",
       "      <td>bathtub</td>\n",
       "    </tr>\n",
       "    <tr>\n",
       "      <th>5</th>\n",
       "      <td>US</td>\n",
       "      <td>[[[61, 65], [70, 60]], [[3, 80, 189, 232, 255,...</td>\n",
       "      <td>5844467921715200</td>\n",
       "      <td>False</td>\n",
       "      <td>2017-03-11 01:35:38.598940</td>\n",
       "      <td>bathtub</td>\n",
       "    </tr>\n",
       "    <tr>\n",
       "      <th>6</th>\n",
       "      <td>ZA</td>\n",
       "      <td>[[[28, 25, 36, 49, 70, 88, 113, 126, 139, 157,...</td>\n",
       "      <td>5696703329992704</td>\n",
       "      <td>False</td>\n",
       "      <td>2017-03-10 13:05:10.002030</td>\n",
       "      <td>bird</td>\n",
       "    </tr>\n",
       "    <tr>\n",
       "      <th>7</th>\n",
       "      <td>CA</td>\n",
       "      <td>[[[91, 79, 77, 77, 87], [73, 54, 44, 33, 19]],...</td>\n",
       "      <td>6713028990992384</td>\n",
       "      <td>False</td>\n",
       "      <td>2017-03-04 18:41:53.608630</td>\n",
       "      <td>bird</td>\n",
       "    </tr>\n",
       "    <tr>\n",
       "      <th>8</th>\n",
       "      <td>KH</td>\n",
       "      <td>[[[74, 101, 139, 181, 201, 232, 243, 250, 255,...</td>\n",
       "      <td>4823385550880768</td>\n",
       "      <td>False</td>\n",
       "      <td>2017-03-12 06:51:14.315750</td>\n",
       "      <td>bread</td>\n",
       "    </tr>\n",
       "    <tr>\n",
       "      <th>9</th>\n",
       "      <td>PK</td>\n",
       "      <td>[[[14, 8, 6, 9, 84, 199, 204, 205, 204, 183, 1...</td>\n",
       "      <td>5303740162637824</td>\n",
       "      <td>False</td>\n",
       "      <td>2017-03-02 17:28:00.284910</td>\n",
       "      <td>bread</td>\n",
       "    </tr>\n",
       "    <tr>\n",
       "      <th>10</th>\n",
       "      <td>US</td>\n",
       "      <td>[[[38, 37, 17, 2, 2, 7, 17, 50, 64, 72, 73, 56...</td>\n",
       "      <td>6235155192610816</td>\n",
       "      <td>False</td>\n",
       "      <td>2017-03-06 14:53:32.451950</td>\n",
       "      <td>ear</td>\n",
       "    </tr>\n",
       "    <tr>\n",
       "      <th>11</th>\n",
       "      <td>US</td>\n",
       "      <td>[[[169, 168, 147, 138, 117, 76, 34, 22, 13, 0,...</td>\n",
       "      <td>5936262512902144</td>\n",
       "      <td>False</td>\n",
       "      <td>2017-03-03 17:32:19.749880</td>\n",
       "      <td>ear</td>\n",
       "    </tr>\n",
       "    <tr>\n",
       "      <th>12</th>\n",
       "      <td>CA</td>\n",
       "      <td>[[[2, 8, 20, 59, 93, 141, 157, 157, 151, 139, ...</td>\n",
       "      <td>5389321546760192</td>\n",
       "      <td>False</td>\n",
       "      <td>2017-03-04 18:28:06.554020</td>\n",
       "      <td>hot tub</td>\n",
       "    </tr>\n",
       "    <tr>\n",
       "      <th>13</th>\n",
       "      <td>GB</td>\n",
       "      <td>[[[0, 2, 82, 114, 237, 252, 255, 240, 236, 237...</td>\n",
       "      <td>6328623747301376</td>\n",
       "      <td>False</td>\n",
       "      <td>2017-03-05 22:24:07.949280</td>\n",
       "      <td>hot tub</td>\n",
       "    </tr>\n",
       "    <tr>\n",
       "      <th>14</th>\n",
       "      <td>CA</td>\n",
       "      <td>[[[15, 19], [126, 239]], [[24, 79, 162, 166, 1...</td>\n",
       "      <td>4982517662744576</td>\n",
       "      <td>False</td>\n",
       "      <td>2017-03-24 01:41:27.610710</td>\n",
       "      <td>oven</td>\n",
       "    </tr>\n",
       "    <tr>\n",
       "      <th>15</th>\n",
       "      <td>US</td>\n",
       "      <td>[[[133, 131, 133, 158, 156, 180, 221, 203, 200...</td>\n",
       "      <td>5156074657153024</td>\n",
       "      <td>False</td>\n",
       "      <td>2017-03-12 20:14:13.941940</td>\n",
       "      <td>oven</td>\n",
       "    </tr>\n",
       "    <tr>\n",
       "      <th>16</th>\n",
       "      <td>AU</td>\n",
       "      <td>[[[34, 4, 0, 0, 43, 63, 68, 72, 64, 62, 131, 1...</td>\n",
       "      <td>5507245276135424</td>\n",
       "      <td>False</td>\n",
       "      <td>2017-03-10 23:44:04.585710</td>\n",
       "      <td>screwdriver</td>\n",
       "    </tr>\n",
       "    <tr>\n",
       "      <th>17</th>\n",
       "      <td>US</td>\n",
       "      <td>[[[1, 0, 5, 18], [4, 19, 60, 99]], [[2, 11, 48...</td>\n",
       "      <td>5301053023059968</td>\n",
       "      <td>False</td>\n",
       "      <td>2017-03-12 03:04:54.782140</td>\n",
       "      <td>screwdriver</td>\n",
       "    </tr>\n",
       "    <tr>\n",
       "      <th>18</th>\n",
       "      <td>NZ</td>\n",
       "      <td>[[[83, 10, 0, 6, 56, 83, 93, 109, 125, 159, 16...</td>\n",
       "      <td>6321156342677504</td>\n",
       "      <td>False</td>\n",
       "      <td>2017-03-12 04:54:35.553850</td>\n",
       "      <td>telephone</td>\n",
       "    </tr>\n",
       "    <tr>\n",
       "      <th>19</th>\n",
       "      <td>US</td>\n",
       "      <td>[[[32, 42, 49, 58, 62, 59, 54, 45, 36, 22, 6, ...</td>\n",
       "      <td>6308324154802176</td>\n",
       "      <td>False</td>\n",
       "      <td>2017-03-04 16:06:27.773700</td>\n",
       "      <td>telephone</td>\n",
       "    </tr>\n",
       "  </tbody>\n",
       "</table>\n",
       "</div>"
      ],
      "text/plain": [
       "   countrycode                                            drawing  \\\n",
       "0           CA  [[[2, 14, 34, 126], [57, 45, 38, 47]], [[41, 4...   \n",
       "1           AU  [[[3, 5, 15], [3, 34, 62]], [[0, 36], [1, 56]]...   \n",
       "2           US  [[[146, 145, 154, 154, 197, 196, 189, 191, 178...   \n",
       "3           SK  [[[31, 30, 33, 50, 55, 53, 56, 52, 35, 32, 34]...   \n",
       "4           RO  [[[57, 57], [255, 215]], [[133, 122], [252, 20...   \n",
       "5           US  [[[61, 65], [70, 60]], [[3, 80, 189, 232, 255,...   \n",
       "6           ZA  [[[28, 25, 36, 49, 70, 88, 113, 126, 139, 157,...   \n",
       "7           CA  [[[91, 79, 77, 77, 87], [73, 54, 44, 33, 19]],...   \n",
       "8           KH  [[[74, 101, 139, 181, 201, 232, 243, 250, 255,...   \n",
       "9           PK  [[[14, 8, 6, 9, 84, 199, 204, 205, 204, 183, 1...   \n",
       "10          US  [[[38, 37, 17, 2, 2, 7, 17, 50, 64, 72, 73, 56...   \n",
       "11          US  [[[169, 168, 147, 138, 117, 76, 34, 22, 13, 0,...   \n",
       "12          CA  [[[2, 8, 20, 59, 93, 141, 157, 157, 151, 139, ...   \n",
       "13          GB  [[[0, 2, 82, 114, 237, 252, 255, 240, 236, 237...   \n",
       "14          CA  [[[15, 19], [126, 239]], [[24, 79, 162, 166, 1...   \n",
       "15          US  [[[133, 131, 133, 158, 156, 180, 221, 203, 200...   \n",
       "16          AU  [[[34, 4, 0, 0, 43, 63, 68, 72, 64, 62, 131, 1...   \n",
       "17          US  [[[1, 0, 5, 18], [4, 19, 60, 99]], [[2, 11, 48...   \n",
       "18          NZ  [[[83, 10, 0, 6, 56, 83, 93, 109, 125, 159, 16...   \n",
       "19          US  [[[32, 42, 49, 58, 62, 59, 54, 45, 36, 22, 6, ...   \n",
       "\n",
       "              key_id recognized                   timestamp         word  \n",
       "0   6622904974311424      False  2017-03-06 21:39:04.690130     airplane  \n",
       "1   4927566257324032      False  2017-03-01 02:33:27.642600     airplane  \n",
       "2   4767264018530304      False  2017-03-09 22:13:02.245390          axe  \n",
       "3   5543808265617408      False  2017-03-08 11:16:09.315190          axe  \n",
       "4   5022555733753856      False  2017-03-04 18:36:19.714880      bathtub  \n",
       "5   5844467921715200      False  2017-03-11 01:35:38.598940      bathtub  \n",
       "6   5696703329992704      False  2017-03-10 13:05:10.002030         bird  \n",
       "7   6713028990992384      False  2017-03-04 18:41:53.608630         bird  \n",
       "8   4823385550880768      False  2017-03-12 06:51:14.315750        bread  \n",
       "9   5303740162637824      False  2017-03-02 17:28:00.284910        bread  \n",
       "10  6235155192610816      False  2017-03-06 14:53:32.451950          ear  \n",
       "11  5936262512902144      False  2017-03-03 17:32:19.749880          ear  \n",
       "12  5389321546760192      False  2017-03-04 18:28:06.554020      hot tub  \n",
       "13  6328623747301376      False  2017-03-05 22:24:07.949280      hot tub  \n",
       "14  4982517662744576      False  2017-03-24 01:41:27.610710         oven  \n",
       "15  5156074657153024      False  2017-03-12 20:14:13.941940         oven  \n",
       "16  5507245276135424      False  2017-03-10 23:44:04.585710  screwdriver  \n",
       "17  5301053023059968      False  2017-03-12 03:04:54.782140  screwdriver  \n",
       "18  6321156342677504      False  2017-03-12 04:54:35.553850    telephone  \n",
       "19  6308324154802176      False  2017-03-04 16:06:27.773700    telephone  "
      ]
     },
     "execution_count": 6,
     "metadata": {},
     "output_type": "execute_result"
    }
   ],
   "source": [
    "# 2 wrong example of each class\n",
    "sketchlist_wrong = []\n",
    "for i in [0, 10, 20, 30, 40, 100, 150, 200, 250, 300]:\n",
    "    sketch = pd.read_csv(paths[i], nrows=100) # read in 10 rows from the csv file\n",
    "    sketch = sketch[sketch.recognized==False].head(2) # take the first 2 Correct drawings\n",
    "    sketchlist_wrong.append(sketch)\n",
    "\n",
    "sketch_df_wrong = pd.DataFrame(np.concatenate(sketchlist_wrong), columns = columns)\n",
    "sketch_df_wrong"
   ]
  },
  {
   "cell_type": "code",
   "execution_count": 9,
   "id": "dceed725",
   "metadata": {},
   "outputs": [],
   "source": [
    "df3 = sketch_df_wrong[sketch_df_wrong.index.isin(evens)]\n",
    "df4 = sketch_df_wrong[sketch_df_wrong.index.isin(odds)]\n",
    "\n",
    "example3 = [ast.literal_eval(pts) for pts in df3.drawing.values]\n",
    "example4 = [ast.literal_eval(pts) for pts in df4.drawing.values]"
   ]
  },
  {
   "cell_type": "code",
   "execution_count": 10,
   "id": "b0fda451",
   "metadata": {
    "scrolled": false
   },
   "outputs": [
    {
     "name": "stderr",
     "output_type": "stream",
     "text": [
      "<ipython-input-10-bf32040389d8>:6: MatplotlibDeprecationWarning: Adding an axes using the same arguments as a previous axes currently reuses the earlier instance.  In a future version, a new instance will always be created and returned.  Meanwhile, this warning can be suppressed, and the future behavior ensured, by passing a unique label to each axes instance.\n",
      "  plt.subplot(1,2,1)\n",
      "<ipython-input-10-bf32040389d8>:11: MatplotlibDeprecationWarning: Adding an axes using the same arguments as a previous axes currently reuses the earlier instance.  In a future version, a new instance will always be created and returned.  Meanwhile, this warning can be suppressed, and the future behavior ensured, by passing a unique label to each axes instance.\n",
      "  plt.subplot(1,2,2)\n"
     ]
    },
    {
     "data": {
      "image/png": "[encoded data removed]",
      "text/plain": [
       "<Figure size 432x216 with 2 Axes>"
      ]
     },
     "metadata": {
      "needs_background": "light"
     },
     "output_type": "display_data"
    },
    {
     "data": {
      "image/png": "[encoded data removed]",
      "text/plain": [
       "<Figure size 432x216 with 2 Axes>"
      ]
     },
     "metadata": {
      "needs_background": "light"
     },
     "output_type": "display_data"
    },
    {
     "data": {
      "image/png": "[encoded data removed]",
      "text/plain": [
       "<Figure size 432x216 with 2 Axes>"
      ]
     },
     "metadata": {
      "needs_background": "light"
     },
     "output_type": "display_data"
    },
    {
     "data": {
      "image/png": "[encoded data removed]",
      "text/plain": [
       "<Figure size 432x216 with 2 Axes>"
      ]
     },
     "metadata": {
      "needs_background": "light"
     },
     "output_type": "display_data"
    },
    {
     "data": {
      "image/png": "[encoded data removed]",
      "text/plain": [
       "<Figure size 432x216 with 2 Axes>"
      ]
     },
     "metadata": {
      "needs_background": "light"
     },
     "output_type": "display_data"
    },
    {
     "data": {
      "image/png": "[encoded data removed]",
      "text/plain": [
       "<Figure size 432x216 with 2 Axes>"
      ]
     },
     "metadata": {
      "needs_background": "light"
     },
     "output_type": "display_data"
    },
    {
     "data": {
      "image/png": "[encoded data removed]",
      "text/plain": [
       "<Figure size 432x216 with 2 Axes>"
      ]
     },
     "metadata": {
      "needs_background": "light"
     },
     "output_type": "display_data"
    },
    {
     "data": {
      "image/png": "[encoded data removed]",
      "text/plain": [
       "<Figure size 432x216 with 2 Axes>"
      ]
     },
     "metadata": {
      "needs_background": "light"
     },
     "output_type": "display_data"
    },
    {
     "data": {
      "image/png": "[encoded data removed]",
      "text/plain": [
       "<Figure size 432x216 with 2 Axes>"
      ]
     },
     "metadata": {
      "needs_background": "light"
     },
     "output_type": "display_data"
    },
    {
     "data": {
      "image/png": "[encoded data removed]",
      "text/plain": [
       "<Figure size 432x216 with 2 Axes>"
      ]
     },
     "metadata": {
      "needs_background": "light"
     },
     "output_type": "display_data"
    }
   ],
   "source": [
    "labels = df4.word.tolist()\n",
    "for i, example in enumerate(example3):\n",
    "    plt.figure(figsize=(6,3))\n",
    "    \n",
    "    for x,y in example:\n",
    "        plt.subplot(1,2,1)\n",
    "        plt.plot(x, y, marker='.')\n",
    "        plt.axis('off')\n",
    "\n",
    "    for x,y in example4[i]:\n",
    "        plt.subplot(1,2,2)\n",
    "        plt.plot(x, y, marker='.')\n",
    "        plt.axis('off')\n",
    "        label = labels[i]\n",
    "        plt.title(label, fontsize=10)"
   ]
  },
  {
   "cell_type": "markdown",
   "id": "43840391",
   "metadata": {},
   "source": [
    "Here we see the images recognized as False. Most of the drawings do not fit the label and seem to be excessively drawn containing too much information. The wrong airplane is a bunch of scribbles, bathtub contains human in it and bread has the word 'bread' in it. There are however some images that looks to be correct such as the bird on the left and the axe on the left. However the wrong drawings far outweigh those correctly drawn. Hence we will not be including images recognized as False as it might confuse our model. "
   ]
  },
  {
   "cell_type": "code",
   "execution_count": 3,
   "id": "87c9159b",
   "metadata": {},
   "outputs": [],
   "source": [
    "# define labels and dimensions of data to be fitted into CNN\n",
    "classfiles = os.listdir('train_simplified/')\n",
    "numstonames = {i: v[:-4].replace(\" \", \"_\") for i, v in enumerate(classfiles)} # get the label names and add underscore\n",
    "\n",
    "num_classes = 340 # total of 340 classes\n",
    "imheight, imwidth = 32, 32"
   ]
  },
  {
   "cell_type": "code",
   "execution_count": 5,
   "id": "b75ec8fc",
   "metadata": {
    "scrolled": true
   },
   "outputs": [
    {
     "data": {
      "text/plain": [
       "{0: 'airplane',\n",
       " 1: 'alarm_clock',\n",
       " 2: 'ambulance',\n",
       " 3: 'angel',\n",
       " 4: 'animal_migration',\n",
       " 5: 'ant',\n",
       " 6: 'anvil',\n",
       " 7: 'apple',\n",
       " 8: 'arm',\n",
       " 9: 'asparagus',\n",
       " 10: 'axe',\n",
       " 11: 'backpack',\n",
       " 12: 'banana',\n",
       " 13: 'bandage',\n",
       " 14: 'barn',\n",
       " 15: 'baseball_bat',\n",
       " 16: 'baseball',\n",
       " 17: 'basket',\n",
       " 18: 'basketball',\n",
       " 19: 'bat',\n",
       " 20: 'bathtub',\n",
       " 21: 'beach',\n",
       " 22: 'bear',\n",
       " 23: 'beard',\n",
       " 24: 'bed',\n",
       " 25: 'bee',\n",
       " 26: 'belt',\n",
       " 27: 'bench',\n",
       " 28: 'bicycle',\n",
       " 29: 'binoculars',\n",
       " 30: 'bird',\n",
       " 31: 'birthday_cake',\n",
       " 32: 'blackberry',\n",
       " 33: 'blueberry',\n",
       " 34: 'book',\n",
       " 35: 'boomerang',\n",
       " 36: 'bottlecap',\n",
       " 37: 'bowtie',\n",
       " 38: 'bracelet',\n",
       " 39: 'brain',\n",
       " 40: 'bread',\n",
       " 41: 'bridge',\n",
       " 42: 'broccoli',\n",
       " 43: 'broom',\n",
       " 44: 'bucket',\n",
       " 45: 'bulldozer',\n",
       " 46: 'bus',\n",
       " 47: 'bush',\n",
       " 48: 'butterfly',\n",
       " 49: 'cactus',\n",
       " 50: 'cake',\n",
       " 51: 'calculator',\n",
       " 52: 'calendar',\n",
       " 53: 'camel',\n",
       " 54: 'camera',\n",
       " 55: 'camouflage',\n",
       " 56: 'campfire',\n",
       " 57: 'candle',\n",
       " 58: 'cannon',\n",
       " 59: 'canoe',\n",
       " 60: 'car',\n",
       " 61: 'carrot',\n",
       " 62: 'castle',\n",
       " 63: 'cat',\n",
       " 64: 'ceiling_fan',\n",
       " 65: 'cell_phone',\n",
       " 66: 'cello',\n",
       " 67: 'chair',\n",
       " 68: 'chandelier',\n",
       " 69: 'church',\n",
       " 70: 'circle',\n",
       " 71: 'clarinet',\n",
       " 72: 'clock',\n",
       " 73: 'cloud',\n",
       " 74: 'coffee_cup',\n",
       " 75: 'compass',\n",
       " 76: 'computer',\n",
       " 77: 'cookie',\n",
       " 78: 'cooler',\n",
       " 79: 'couch',\n",
       " 80: 'cow',\n",
       " 81: 'crab',\n",
       " 82: 'crayon',\n",
       " 83: 'crocodile',\n",
       " 84: 'crown',\n",
       " 85: 'cruise_ship',\n",
       " 86: 'cup',\n",
       " 87: 'diamond',\n",
       " 88: 'dishwasher',\n",
       " 89: 'diving_board',\n",
       " 90: 'dog',\n",
       " 91: 'dolphin',\n",
       " 92: 'donut',\n",
       " 93: 'door',\n",
       " 94: 'dragon',\n",
       " 95: 'dresser',\n",
       " 96: 'drill',\n",
       " 97: 'drums',\n",
       " 98: 'duck',\n",
       " 99: 'dumbbell',\n",
       " 100: 'ear',\n",
       " 101: 'elbow',\n",
       " 102: 'elephant',\n",
       " 103: 'envelope',\n",
       " 104: 'eraser',\n",
       " 105: 'eye',\n",
       " 106: 'eyeglasses',\n",
       " 107: 'face',\n",
       " 108: 'fan',\n",
       " 109: 'feather',\n",
       " 110: 'fence',\n",
       " 111: 'finger',\n",
       " 112: 'fire_hydrant',\n",
       " 113: 'fireplace',\n",
       " 114: 'firetruck',\n",
       " 115: 'fish',\n",
       " 116: 'flamingo',\n",
       " 117: 'flashlight',\n",
       " 118: 'flip_flops',\n",
       " 119: 'floor_lamp',\n",
       " 120: 'flower',\n",
       " 121: 'flying_saucer',\n",
       " 122: 'foot',\n",
       " 123: 'fork',\n",
       " 124: 'frog',\n",
       " 125: 'frying_pan',\n",
       " 126: 'garden_hose',\n",
       " 127: 'garden',\n",
       " 128: 'giraffe',\n",
       " 129: 'goatee',\n",
       " 130: 'golf_club',\n",
       " 131: 'grapes',\n",
       " 132: 'grass',\n",
       " 133: 'guitar',\n",
       " 134: 'hamburger',\n",
       " 135: 'hammer',\n",
       " 136: 'hand',\n",
       " 137: 'harp',\n",
       " 138: 'hat',\n",
       " 139: 'headphones',\n",
       " 140: 'hedgehog',\n",
       " 141: 'helicopter',\n",
       " 142: 'helmet',\n",
       " 143: 'hexagon',\n",
       " 144: 'hockey_puck',\n",
       " 145: 'hockey_stick',\n",
       " 146: 'horse',\n",
       " 147: 'hospital',\n",
       " 148: 'hot_air_balloon',\n",
       " 149: 'hot_dog',\n",
       " 150: 'hot_tub',\n",
       " 151: 'hourglass',\n",
       " 152: 'house_plant',\n",
       " 153: 'house',\n",
       " 154: 'hurricane',\n",
       " 155: 'ice_cream',\n",
       " 156: 'jacket',\n",
       " 157: 'jail',\n",
       " 158: 'kangaroo',\n",
       " 159: 'key',\n",
       " 160: 'keyboard',\n",
       " 161: 'knee',\n",
       " 162: 'ladder',\n",
       " 163: 'lantern',\n",
       " 164: 'laptop',\n",
       " 165: 'leaf',\n",
       " 166: 'leg',\n",
       " 167: 'light_bulb',\n",
       " 168: 'lighthouse',\n",
       " 169: 'lightning',\n",
       " 170: 'line',\n",
       " 171: 'lion',\n",
       " 172: 'lipstick',\n",
       " 173: 'lobster',\n",
       " 174: 'lollipop',\n",
       " 175: 'mailbox',\n",
       " 176: 'map',\n",
       " 177: 'marker',\n",
       " 178: 'matches',\n",
       " 179: 'megaphone',\n",
       " 180: 'mermaid',\n",
       " 181: 'microphone',\n",
       " 182: 'microwave',\n",
       " 183: 'monkey',\n",
       " 184: 'moon',\n",
       " 185: 'mosquito',\n",
       " 186: 'motorbike',\n",
       " 187: 'mountain',\n",
       " 188: 'mouse',\n",
       " 189: 'moustache',\n",
       " 190: 'mouth',\n",
       " 191: 'mug',\n",
       " 192: 'mushroom',\n",
       " 193: 'nail',\n",
       " 194: 'necklace',\n",
       " 195: 'nose',\n",
       " 196: 'ocean',\n",
       " 197: 'octagon',\n",
       " 198: 'octopus',\n",
       " 199: 'onion',\n",
       " 200: 'oven',\n",
       " 201: 'owl',\n",
       " 202: 'paint_can',\n",
       " 203: 'paintbrush',\n",
       " 204: 'palm_tree',\n",
       " 205: 'panda',\n",
       " 206: 'pants',\n",
       " 207: 'paper_clip',\n",
       " 208: 'parachute',\n",
       " 209: 'parrot',\n",
       " 210: 'passport',\n",
       " 211: 'peanut',\n",
       " 212: 'pear',\n",
       " 213: 'peas',\n",
       " 214: 'pencil',\n",
       " 215: 'penguin',\n",
       " 216: 'piano',\n",
       " 217: 'pickup_truck',\n",
       " 218: 'picture_frame',\n",
       " 219: 'pig',\n",
       " 220: 'pillow',\n",
       " 221: 'pineapple',\n",
       " 222: 'pizza',\n",
       " 223: 'pliers',\n",
       " 224: 'police_car',\n",
       " 225: 'pond',\n",
       " 226: 'pool',\n",
       " 227: 'popsicle',\n",
       " 228: 'postcard',\n",
       " 229: 'potato',\n",
       " 230: 'power_outlet',\n",
       " 231: 'purse',\n",
       " 232: 'rabbit',\n",
       " 233: 'raccoon',\n",
       " 234: 'radio',\n",
       " 235: 'rain',\n",
       " 236: 'rainbow',\n",
       " 237: 'rake',\n",
       " 238: 'remote_control',\n",
       " 239: 'rhinoceros',\n",
       " 240: 'river',\n",
       " 241: 'roller_coaster',\n",
       " 242: 'rollerskates',\n",
       " 243: 'sailboat',\n",
       " 244: 'sandwich',\n",
       " 245: 'saw',\n",
       " 246: 'saxophone',\n",
       " 247: 'school_bus',\n",
       " 248: 'scissors',\n",
       " 249: 'scorpion',\n",
       " 250: 'screwdriver',\n",
       " 251: 'sea_turtle',\n",
       " 252: 'see_saw',\n",
       " 253: 'shark',\n",
       " 254: 'sheep',\n",
       " 255: 'shoe',\n",
       " 256: 'shorts',\n",
       " 257: 'shovel',\n",
       " 258: 'sink',\n",
       " 259: 'skateboard',\n",
       " 260: 'skull',\n",
       " 261: 'skyscraper',\n",
       " 262: 'sleeping_bag',\n",
       " 263: 'smiley_face',\n",
       " 264: 'snail',\n",
       " 265: 'snake',\n",
       " 266: 'snorkel',\n",
       " 267: 'snowflake',\n",
       " 268: 'snowman',\n",
       " 269: 'soccer_ball',\n",
       " 270: 'sock',\n",
       " 271: 'speedboat',\n",
       " 272: 'spider',\n",
       " 273: 'spoon',\n",
       " 274: 'spreadsheet',\n",
       " 275: 'square',\n",
       " 276: 'squiggle',\n",
       " 277: 'squirrel',\n",
       " 278: 'stairs',\n",
       " 279: 'star',\n",
       " 280: 'steak',\n",
       " 281: 'stereo',\n",
       " 282: 'stethoscope',\n",
       " 283: 'stitches',\n",
       " 284: 'stop_sign',\n",
       " 285: 'stove',\n",
       " 286: 'strawberry',\n",
       " 287: 'streetlight',\n",
       " 288: 'string_bean',\n",
       " 289: 'submarine',\n",
       " 290: 'suitcase',\n",
       " 291: 'sun',\n",
       " 292: 'swan',\n",
       " 293: 'sweater',\n",
       " 294: 'swing_set',\n",
       " 295: 'sword',\n",
       " 296: 't-shirt',\n",
       " 297: 'table',\n",
       " 298: 'teapot',\n",
       " 299: 'teddy-bear',\n",
       " 300: 'telephone',\n",
       " 301: 'television',\n",
       " 302: 'tennis_racquet',\n",
       " 303: 'tent',\n",
       " 304: 'The_Eiffel_Tower',\n",
       " 305: 'The_Great_Wall_of_China',\n",
       " 306: 'The_Mona_Lisa',\n",
       " 307: 'tiger',\n",
       " 308: 'toaster',\n",
       " 309: 'toe',\n",
       " 310: 'toilet',\n",
       " 311: 'tooth',\n",
       " 312: 'toothbrush',\n",
       " 313: 'toothpaste',\n",
       " 314: 'tornado',\n",
       " 315: 'tractor',\n",
       " 316: 'traffic_light',\n",
       " 317: 'train',\n",
       " 318: 'tree',\n",
       " 319: 'triangle',\n",
       " 320: 'trombone',\n",
       " 321: 'truck',\n",
       " 322: 'trumpet',\n",
       " 323: 'umbrella',\n",
       " 324: 'underwear',\n",
       " 325: 'van',\n",
       " 326: 'vase',\n",
       " 327: 'violin',\n",
       " 328: 'washing_machine',\n",
       " 329: 'watermelon',\n",
       " 330: 'waterslide',\n",
       " 331: 'whale',\n",
       " 332: 'wheel',\n",
       " 333: 'windmill',\n",
       " 334: 'wine_bottle',\n",
       " 335: 'wine_glass',\n",
       " 336: 'wristwatch',\n",
       " 337: 'yoga',\n",
       " 338: 'zebra',\n",
       " 339: 'zigzag'}"
      ]
     },
     "execution_count": 5,
     "metadata": {},
     "output_type": "execute_result"
    }
   ],
   "source": [
    "numstonames"
   ]
  },
  {
   "cell_type": "code",
   "execution_count": 6,
   "id": "4605946a",
   "metadata": {
    "scrolled": true
   },
   "outputs": [
    {
     "data": {
      "text/plain": [
       "{'airplane': 0,\n",
       " 'alarm clock': 1,\n",
       " 'ambulance': 2,\n",
       " 'angel': 3,\n",
       " 'animal migration': 4,\n",
       " 'ant': 5,\n",
       " 'anvil': 6,\n",
       " 'apple': 7,\n",
       " 'arm': 8,\n",
       " 'asparagus': 9,\n",
       " 'axe': 10,\n",
       " 'backpack': 11,\n",
       " 'banana': 12,\n",
       " 'bandage': 13,\n",
       " 'barn': 14,\n",
       " 'baseball bat': 15,\n",
       " 'baseball': 16,\n",
       " 'basket': 17,\n",
       " 'basketball': 18,\n",
       " 'bat': 19,\n",
       " 'bathtub': 20,\n",
       " 'beach': 21,\n",
       " 'bear': 22,\n",
       " 'beard': 23,\n",
       " 'bed': 24,\n",
       " 'bee': 25,\n",
       " 'belt': 26,\n",
       " 'bench': 27,\n",
       " 'bicycle': 28,\n",
       " 'binoculars': 29,\n",
       " 'bird': 30,\n",
       " 'birthday cake': 31,\n",
       " 'blackberry': 32,\n",
       " 'blueberry': 33,\n",
       " 'book': 34,\n",
       " 'boomerang': 35,\n",
       " 'bottlecap': 36,\n",
       " 'bowtie': 37,\n",
       " 'bracelet': 38,\n",
       " 'brain': 39,\n",
       " 'bread': 40,\n",
       " 'bridge': 41,\n",
       " 'broccoli': 42,\n",
       " 'broom': 43,\n",
       " 'bucket': 44,\n",
       " 'bulldozer': 45,\n",
       " 'bus': 46,\n",
       " 'bush': 47,\n",
       " 'butterfly': 48,\n",
       " 'cactus': 49,\n",
       " 'cake': 50,\n",
       " 'calculator': 51,\n",
       " 'calendar': 52,\n",
       " 'camel': 53,\n",
       " 'camera': 54,\n",
       " 'camouflage': 55,\n",
       " 'campfire': 56,\n",
       " 'candle': 57,\n",
       " 'cannon': 58,\n",
       " 'canoe': 59,\n",
       " 'car': 60,\n",
       " 'carrot': 61,\n",
       " 'castle': 62,\n",
       " 'cat': 63,\n",
       " 'ceiling fan': 64,\n",
       " 'cell phone': 65,\n",
       " 'cello': 66,\n",
       " 'chair': 67,\n",
       " 'chandelier': 68,\n",
       " 'church': 69,\n",
       " 'circle': 70,\n",
       " 'clarinet': 71,\n",
       " 'clock': 72,\n",
       " 'cloud': 73,\n",
       " 'coffee cup': 74,\n",
       " 'compass': 75,\n",
       " 'computer': 76,\n",
       " 'cookie': 77,\n",
       " 'cooler': 78,\n",
       " 'couch': 79,\n",
       " 'cow': 80,\n",
       " 'crab': 81,\n",
       " 'crayon': 82,\n",
       " 'crocodile': 83,\n",
       " 'crown': 84,\n",
       " 'cruise ship': 85,\n",
       " 'cup': 86,\n",
       " 'diamond': 87,\n",
       " 'dishwasher': 88,\n",
       " 'diving board': 89,\n",
       " 'dog': 90,\n",
       " 'dolphin': 91,\n",
       " 'donut': 92,\n",
       " 'door': 93,\n",
       " 'dragon': 94,\n",
       " 'dresser': 95,\n",
       " 'drill': 96,\n",
       " 'drums': 97,\n",
       " 'duck': 98,\n",
       " 'dumbbell': 99,\n",
       " 'ear': 100,\n",
       " 'elbow': 101,\n",
       " 'elephant': 102,\n",
       " 'envelope': 103,\n",
       " 'eraser': 104,\n",
       " 'eye': 105,\n",
       " 'eyeglasses': 106,\n",
       " 'face': 107,\n",
       " 'fan': 108,\n",
       " 'feather': 109,\n",
       " 'fence': 110,\n",
       " 'finger': 111,\n",
       " 'fire hydrant': 112,\n",
       " 'fireplace': 113,\n",
       " 'firetruck': 114,\n",
       " 'fish': 115,\n",
       " 'flamingo': 116,\n",
       " 'flashlight': 117,\n",
       " 'flip flops': 118,\n",
       " 'floor lamp': 119,\n",
       " 'flower': 120,\n",
       " 'flying saucer': 121,\n",
       " 'foot': 122,\n",
       " 'fork': 123,\n",
       " 'frog': 124,\n",
       " 'frying pan': 125,\n",
       " 'garden hose': 126,\n",
       " 'garden': 127,\n",
       " 'giraffe': 128,\n",
       " 'goatee': 129,\n",
       " 'golf club': 130,\n",
       " 'grapes': 131,\n",
       " 'grass': 132,\n",
       " 'guitar': 133,\n",
       " 'hamburger': 134,\n",
       " 'hammer': 135,\n",
       " 'hand': 136,\n",
       " 'harp': 137,\n",
       " 'hat': 138,\n",
       " 'headphones': 139,\n",
       " 'hedgehog': 140,\n",
       " 'helicopter': 141,\n",
       " 'helmet': 142,\n",
       " 'hexagon': 143,\n",
       " 'hockey puck': 144,\n",
       " 'hockey stick': 145,\n",
       " 'horse': 146,\n",
       " 'hospital': 147,\n",
       " 'hot air balloon': 148,\n",
       " 'hot dog': 149,\n",
       " 'hot tub': 150,\n",
       " 'hourglass': 151,\n",
       " 'house plant': 152,\n",
       " 'house': 153,\n",
       " 'hurricane': 154,\n",
       " 'ice cream': 155,\n",
       " 'jacket': 156,\n",
       " 'jail': 157,\n",
       " 'kangaroo': 158,\n",
       " 'key': 159,\n",
       " 'keyboard': 160,\n",
       " 'knee': 161,\n",
       " 'ladder': 162,\n",
       " 'lantern': 163,\n",
       " 'laptop': 164,\n",
       " 'leaf': 165,\n",
       " 'leg': 166,\n",
       " 'light bulb': 167,\n",
       " 'lighthouse': 168,\n",
       " 'lightning': 169,\n",
       " 'line': 170,\n",
       " 'lion': 171,\n",
       " 'lipstick': 172,\n",
       " 'lobster': 173,\n",
       " 'lollipop': 174,\n",
       " 'mailbox': 175,\n",
       " 'map': 176,\n",
       " 'marker': 177,\n",
       " 'matches': 178,\n",
       " 'megaphone': 179,\n",
       " 'mermaid': 180,\n",
       " 'microphone': 181,\n",
       " 'microwave': 182,\n",
       " 'monkey': 183,\n",
       " 'moon': 184,\n",
       " 'mosquito': 185,\n",
       " 'motorbike': 186,\n",
       " 'mountain': 187,\n",
       " 'mouse': 188,\n",
       " 'moustache': 189,\n",
       " 'mouth': 190,\n",
       " 'mug': 191,\n",
       " 'mushroom': 192,\n",
       " 'nail': 193,\n",
       " 'necklace': 194,\n",
       " 'nose': 195,\n",
       " 'ocean': 196,\n",
       " 'octagon': 197,\n",
       " 'octopus': 198,\n",
       " 'onion': 199,\n",
       " 'oven': 200,\n",
       " 'owl': 201,\n",
       " 'paint can': 202,\n",
       " 'paintbrush': 203,\n",
       " 'palm tree': 204,\n",
       " 'panda': 205,\n",
       " 'pants': 206,\n",
       " 'paper clip': 207,\n",
       " 'parachute': 208,\n",
       " 'parrot': 209,\n",
       " 'passport': 210,\n",
       " 'peanut': 211,\n",
       " 'pear': 212,\n",
       " 'peas': 213,\n",
       " 'pencil': 214,\n",
       " 'penguin': 215,\n",
       " 'piano': 216,\n",
       " 'pickup truck': 217,\n",
       " 'picture frame': 218,\n",
       " 'pig': 219,\n",
       " 'pillow': 220,\n",
       " 'pineapple': 221,\n",
       " 'pizza': 222,\n",
       " 'pliers': 223,\n",
       " 'police car': 224,\n",
       " 'pond': 225,\n",
       " 'pool': 226,\n",
       " 'popsicle': 227,\n",
       " 'postcard': 228,\n",
       " 'potato': 229,\n",
       " 'power outlet': 230,\n",
       " 'purse': 231,\n",
       " 'rabbit': 232,\n",
       " 'raccoon': 233,\n",
       " 'radio': 234,\n",
       " 'rain': 235,\n",
       " 'rainbow': 236,\n",
       " 'rake': 237,\n",
       " 'remote control': 238,\n",
       " 'rhinoceros': 239,\n",
       " 'river': 240,\n",
       " 'roller coaster': 241,\n",
       " 'rollerskates': 242,\n",
       " 'sailboat': 243,\n",
       " 'sandwich': 244,\n",
       " 'saw': 245,\n",
       " 'saxophone': 246,\n",
       " 'school bus': 247,\n",
       " 'scissors': 248,\n",
       " 'scorpion': 249,\n",
       " 'screwdriver': 250,\n",
       " 'sea turtle': 251,\n",
       " 'see saw': 252,\n",
       " 'shark': 253,\n",
       " 'sheep': 254,\n",
       " 'shoe': 255,\n",
       " 'shorts': 256,\n",
       " 'shovel': 257,\n",
       " 'sink': 258,\n",
       " 'skateboard': 259,\n",
       " 'skull': 260,\n",
       " 'skyscraper': 261,\n",
       " 'sleeping bag': 262,\n",
       " 'smiley face': 263,\n",
       " 'snail': 264,\n",
       " 'snake': 265,\n",
       " 'snorkel': 266,\n",
       " 'snowflake': 267,\n",
       " 'snowman': 268,\n",
       " 'soccer ball': 269,\n",
       " 'sock': 270,\n",
       " 'speedboat': 271,\n",
       " 'spider': 272,\n",
       " 'spoon': 273,\n",
       " 'spreadsheet': 274,\n",
       " 'square': 275,\n",
       " 'squiggle': 276,\n",
       " 'squirrel': 277,\n",
       " 'stairs': 278,\n",
       " 'star': 279,\n",
       " 'steak': 280,\n",
       " 'stereo': 281,\n",
       " 'stethoscope': 282,\n",
       " 'stitches': 283,\n",
       " 'stop sign': 284,\n",
       " 'stove': 285,\n",
       " 'strawberry': 286,\n",
       " 'streetlight': 287,\n",
       " 'string bean': 288,\n",
       " 'submarine': 289,\n",
       " 'suitcase': 290,\n",
       " 'sun': 291,\n",
       " 'swan': 292,\n",
       " 'sweater': 293,\n",
       " 'swing set': 294,\n",
       " 'sword': 295,\n",
       " 't-shirt': 296,\n",
       " 'table': 297,\n",
       " 'teapot': 298,\n",
       " 'teddy-bear': 299,\n",
       " 'telephone': 300,\n",
       " 'television': 301,\n",
       " 'tennis racquet': 302,\n",
       " 'tent': 303,\n",
       " 'The Eiffel Tower': 304,\n",
       " 'The Great Wall of China': 305,\n",
       " 'The Mona Lisa': 306,\n",
       " 'tiger': 307,\n",
       " 'toaster': 308,\n",
       " 'toe': 309,\n",
       " 'toilet': 310,\n",
       " 'tooth': 311,\n",
       " 'toothbrush': 312,\n",
       " 'toothpaste': 313,\n",
       " 'tornado': 314,\n",
       " 'tractor': 315,\n",
       " 'traffic light': 316,\n",
       " 'train': 317,\n",
       " 'tree': 318,\n",
       " 'triangle': 319,\n",
       " 'trombone': 320,\n",
       " 'truck': 321,\n",
       " 'trumpet': 322,\n",
       " 'umbrella': 323,\n",
       " 'underwear': 324,\n",
       " 'van': 325,\n",
       " 'vase': 326,\n",
       " 'violin': 327,\n",
       " 'washing machine': 328,\n",
       " 'watermelon': 329,\n",
       " 'waterslide': 330,\n",
       " 'whale': 331,\n",
       " 'wheel': 332,\n",
       " 'windmill': 333,\n",
       " 'wine bottle': 334,\n",
       " 'wine glass': 335,\n",
       " 'wristwatch': 336,\n",
       " 'yoga': 337,\n",
       " 'zebra': 338,\n",
       " 'zigzag': 339}"
      ]
     },
     "execution_count": 6,
     "metadata": {},
     "output_type": "execute_result"
    }
   ],
   "source": [
    "inv_numstonames = {v.replace(\"_\", \" \"): k for k, v in numstonames.items()}\n",
    "inv_numstonames"
   ]
  },
  {
   "cell_type": "markdown",
   "id": "0296f8d3",
   "metadata": {},
   "source": [
    "We have the dictionary numstonames to replace our model predictions which will be outputted as integers from 0-339 back to words.\n",
    "\n",
    "The inv_numstonames is to convert our dataframe that will be read in into integers 0-339."
   ]
  },
  {
   "cell_type": "code",
   "execution_count": 4,
   "id": "287eb2de",
   "metadata": {},
   "outputs": [],
   "source": [
    "def draw_resize(drawing):\n",
    "    \"\"\" To convert drawing values into image, resize it to 32,32 and scale it \"\"\"\n",
    "    image = Image.new(\"P\", (255,255), color=255) # substatiate image as a 255 color image for CNN model\n",
    "    image_draw = ImageDraw.Draw(image) # draw a blank image\n",
    "    for stroke in ast.literal_eval(drawing): # convert drawing column into strokes\n",
    "        for i in range(len(stroke[0])-1):\n",
    "            image_draw.line([stroke[0][i], \n",
    "                             stroke[1][i],\n",
    "                             stroke[0][i+1], \n",
    "                             stroke[1][i+1]],\n",
    "                            fill=0, width=5)\n",
    "    image = image.resize((imheight, imwidth)) # resize the image dimensions\n",
    "    return np.array(image)/255"
   ]
  },
  {
   "cell_type": "markdown",
   "id": "f7558b30",
   "metadata": {},
   "source": [
    "Function to convert strokes into image and resize it to 32,32. Lastly scale it by dividing by 255. Due to limited knowledge in converting the strokes data into images, I used the function from a very helpful kernel. [Source](https://www.kaggle.com/jpmiller/image-based-cnn/notebook?scriptVersionId=6576524&cellId=15)"
   ]
  },
  {
   "cell_type": "code",
   "execution_count": 56,
   "id": "24daa140",
   "metadata": {},
   "outputs": [
    {
     "data": {
      "application/vnd.jupyter.widget-view+json": {
       "model_id": "f06e220ac0bd4c70b100282d3560a86b",
       "version_major": 2,
       "version_minor": 0
      },
      "text/plain": [
       "  0%|          | 0/340 [00:00<?, ?it/s]"
      ]
     },
     "metadata": {},
     "output_type": "display_data"
    },
    {
     "data": {
      "application/javascript": [
       "$(document).ready(\n",
       "    function() {\n",
       "        function appendUniqueDiv(){\n",
       "            // append a div with our uuid so we can check that it's already\n",
       "            // been sent and avoid duplicates on page reload\n",
       "            var notifiedDiv = document.createElement(\"div\")\n",
       "            notifiedDiv.id = \"4bb11994-d3bd-42ee-8f1d-98415832d6e2\"\n",
       "            element.append(notifiedDiv)\n",
       "        }\n",
       "\n",
       "        // only send notifications if the pageload is complete; this will\n",
       "        // help stop extra notifications when a saved notebook is loaded,\n",
       "        // which during testing gives us state \"interactive\", not \"complete\"\n",
       "        if (document.readyState === 'complete') {\n",
       "            // check for the div that signifies that the notification\n",
       "            // was already sent\n",
       "            if (document.getElementById(\"4bb11994-d3bd-42ee-8f1d-98415832d6e2\") === null) {\n",
       "                var notificationPayload = {\"requireInteraction\": false, \"icon\": \"/static/base/images/favicon.ico\", \"body\": \"Cell execution has finished!\"};\n",
       "                if (Notification.permission !== 'denied') {\n",
       "                    if (Notification.permission !== 'granted') { \n",
       "                        Notification.requestPermission(function (permission) {\n",
       "                            if(!('permission' in Notification)) {\n",
       "                                Notification.permission = permission\n",
       "                            }\n",
       "                        })\n",
       "                    }\n",
       "                    if (Notification.permission === 'granted') {\n",
       "                    var notification = new Notification(\"Jupyter Notebook\", notificationPayload)\n",
       "                    appendUniqueDiv()\n",
       "                    notification.onclick = function () {\n",
       "                        window.focus();\n",
       "                        this.close();\n",
       "                        };\n",
       "                    } \n",
       "                }     \n",
       "            }\n",
       "        }\n",
       "    }\n",
       ")\n"
      ],
      "text/plain": [
       "<IPython.core.display.Javascript object>"
      ]
     },
     "metadata": {},
     "output_type": "display_data"
    }
   ],
   "source": [
    "%%notify\n",
    "trainlist = []\n",
    "for i in tqdm(range(0,340)): # iterate through all csvs in paths\n",
    "    sketch = pd.read_csv(paths[i], usecols=['drawing', 'recognized', 'word'], nrows=2500) # skiprows=[i for i in range(1,1501)], # read csv and only take 3 columns\n",
    "    sketch = sketch[sketch.recognized==True].head(2000) # take only correct sketches, 3000 rows use up 90+% memory\n",
    "    trainlist.append(sketch) # append into trainlist\n",
    "\n",
    "train_df = pd.DataFrame(np.concatenate(trainlist), columns = ['drawing', 'recognized', 'word']) # convert into df"
   ]
  },
  {
   "cell_type": "code",
   "execution_count": 57,
   "id": "03c540a8",
   "metadata": {
    "scrolled": true
   },
   "outputs": [],
   "source": [
    "train_df.drop(columns = 'recognized', inplace=True)"
   ]
  },
  {
   "cell_type": "code",
   "execution_count": 58,
   "id": "9167a4df",
   "metadata": {},
   "outputs": [],
   "source": [
    "train_df.word = train_df.word.map(inv_numstonames)"
   ]
  },
  {
   "cell_type": "code",
   "execution_count": 59,
   "id": "bf3a9b9a",
   "metadata": {},
   "outputs": [
    {
     "data": {
      "text/html": [
       "<div>\n",
       "<style scoped>\n",
       "    .dataframe tbody tr th:only-of-type {\n",
       "        vertical-align: middle;\n",
       "    }\n",
       "\n",
       "    .dataframe tbody tr th {\n",
       "        vertical-align: top;\n",
       "    }\n",
       "\n",
       "    .dataframe thead th {\n",
       "        text-align: right;\n",
       "    }\n",
       "</style>\n",
       "<table border=\"1\" class=\"dataframe\">\n",
       "  <thead>\n",
       "    <tr style=\"text-align: right;\">\n",
       "      <th></th>\n",
       "      <th>drawing</th>\n",
       "      <th>word</th>\n",
       "    </tr>\n",
       "  </thead>\n",
       "  <tbody>\n",
       "    <tr>\n",
       "      <th>0</th>\n",
       "      <td>[[[167, 109, 80, 69, 58, 31, 57, 117, 99, 52, ...</td>\n",
       "      <td>0</td>\n",
       "    </tr>\n",
       "    <tr>\n",
       "      <th>1</th>\n",
       "      <td>[[[90, 88, 95, 104, 112, 122], [65, 31, 12, 0,...</td>\n",
       "      <td>0</td>\n",
       "    </tr>\n",
       "    <tr>\n",
       "      <th>2</th>\n",
       "      <td>[[[82, 49, 15, 4, 0, 5, 30, 85, 89, 93, 112, 1...</td>\n",
       "      <td>0</td>\n",
       "    </tr>\n",
       "    <tr>\n",
       "      <th>3</th>\n",
       "      <td>[[[64, 38, 23, 8, 0, 6, 26, 68], [74, 77, 84, ...</td>\n",
       "      <td>0</td>\n",
       "    </tr>\n",
       "    <tr>\n",
       "      <th>4</th>\n",
       "      <td>[[[195, 164, 127, 40, 13, 0, 4, 28, 93, 172, 2...</td>\n",
       "      <td>0</td>\n",
       "    </tr>\n",
       "    <tr>\n",
       "      <th>...</th>\n",
       "      <td>...</td>\n",
       "      <td>...</td>\n",
       "    </tr>\n",
       "    <tr>\n",
       "      <th>25495</th>\n",
       "      <td>[[[50, 0, 8, 50, 85], [35, 1, 0, 16, 19]], [[8...</td>\n",
       "      <td>339</td>\n",
       "    </tr>\n",
       "    <tr>\n",
       "      <th>25496</th>\n",
       "      <td>[[[53, 163, 56, 0, 44, 143, 140, 118, 87, 39, ...</td>\n",
       "      <td>339</td>\n",
       "    </tr>\n",
       "    <tr>\n",
       "      <th>25497</th>\n",
       "      <td>[[[0, 5, 19, 34, 43, 48, 59, 62, 53, 52, 92, 1...</td>\n",
       "      <td>339</td>\n",
       "    </tr>\n",
       "    <tr>\n",
       "      <th>25498</th>\n",
       "      <td>[[[0, 16, 30, 39, 64, 76, 123, 126, 151, 170, ...</td>\n",
       "      <td>339</td>\n",
       "    </tr>\n",
       "    <tr>\n",
       "      <th>25499</th>\n",
       "      <td>[[[0, 10, 37, 49, 69, 90, 114, 113, 165, 215, ...</td>\n",
       "      <td>339</td>\n",
       "    </tr>\n",
       "  </tbody>\n",
       "</table>\n",
       "<p>25500 rows × 2 columns</p>\n",
       "</div>"
      ],
      "text/plain": [
       "                                                 drawing  word\n",
       "0      [[[167, 109, 80, 69, 58, 31, 57, 117, 99, 52, ...     0\n",
       "1      [[[90, 88, 95, 104, 112, 122], [65, 31, 12, 0,...     0\n",
       "2      [[[82, 49, 15, 4, 0, 5, 30, 85, 89, 93, 112, 1...     0\n",
       "3      [[[64, 38, 23, 8, 0, 6, 26, 68], [74, 77, 84, ...     0\n",
       "4      [[[195, 164, 127, 40, 13, 0, 4, 28, 93, 172, 2...     0\n",
       "...                                                  ...   ...\n",
       "25495  [[[50, 0, 8, 50, 85], [35, 1, 0, 16, 19]], [[8...   339\n",
       "25496  [[[53, 163, 56, 0, 44, 143, 140, 118, 87, 39, ...   339\n",
       "25497  [[[0, 5, 19, 34, 43, 48, 59, 62, 53, 52, 92, 1...   339\n",
       "25498  [[[0, 16, 30, 39, 64, 76, 123, 126, 151, 170, ...   339\n",
       "25499  [[[0, 10, 37, 49, 69, 90, 114, 113, 165, 215, ...   339\n",
       "\n",
       "[25500 rows x 2 columns]"
      ]
     },
     "execution_count": 59,
     "metadata": {},
     "output_type": "execute_result"
    }
   ],
   "source": [
    "train_df"
   ]
  },
  {
   "cell_type": "markdown",
   "id": "1af7b43c",
   "metadata": {},
   "source": [
    "Dropping the 'recognized' column as we will not be needing it and also convert the label from string to integers from 0 to 339 to define the 340 classes which is needed for tensorflow's to_categorical function."
   ]
  },
  {
   "cell_type": "code",
   "execution_count": 60,
   "id": "e17bd804",
   "metadata": {},
   "outputs": [],
   "source": [
    "# train_df.to_csv('550-625img_for_collab.csv', index=False)"
   ]
  },
  {
   "cell_type": "code",
   "execution_count": 61,
   "id": "804677e7",
   "metadata": {},
   "outputs": [
    {
     "data": {
      "application/javascript": [
       "$(document).ready(\n",
       "    function() {\n",
       "        function appendUniqueDiv(){\n",
       "            // append a div with our uuid so we can check that it's already\n",
       "            // been sent and avoid duplicates on page reload\n",
       "            var notifiedDiv = document.createElement(\"div\")\n",
       "            notifiedDiv.id = \"bfff767f-b020-4377-b1b8-e9963a043ed5\"\n",
       "            element.append(notifiedDiv)\n",
       "        }\n",
       "\n",
       "        // only send notifications if the pageload is complete; this will\n",
       "        // help stop extra notifications when a saved notebook is loaded,\n",
       "        // which during testing gives us state \"interactive\", not \"complete\"\n",
       "        if (document.readyState === 'complete') {\n",
       "            // check for the div that signifies that the notification\n",
       "            // was already sent\n",
       "            if (document.getElementById(\"bfff767f-b020-4377-b1b8-e9963a043ed5\") === null) {\n",
       "                var notificationPayload = {\"requireInteraction\": false, \"icon\": \"/static/base/images/favicon.ico\", \"body\": \"Cell execution has finished!\"};\n",
       "                if (Notification.permission !== 'denied') {\n",
       "                    if (Notification.permission !== 'granted') { \n",
       "                        Notification.requestPermission(function (permission) {\n",
       "                            if(!('permission' in Notification)) {\n",
       "                                Notification.permission = permission\n",
       "                            }\n",
       "                        })\n",
       "                    }\n",
       "                    if (Notification.permission === 'granted') {\n",
       "                    var notification = new Notification(\"Jupyter Notebook\", notificationPayload)\n",
       "                    appendUniqueDiv()\n",
       "                    notification.onclick = function () {\n",
       "                        window.focus();\n",
       "                        this.close();\n",
       "                        };\n",
       "                    } \n",
       "                }     \n",
       "            }\n",
       "        }\n",
       "    }\n",
       ")\n"
      ],
      "text/plain": [
       "<IPython.core.display.Javascript object>"
      ]
     },
     "metadata": {},
     "output_type": "display_data"
    }
   ],
   "source": [
    "%%notify\n",
    "# convert drawing values into readable format for CNN\n",
    "train_df.drawing = train_df.drawing.map(draw_resize)"
   ]
  },
  {
   "cell_type": "code",
   "execution_count": 62,
   "id": "1a6081bb",
   "metadata": {},
   "outputs": [],
   "source": [
    "# change labels into one hot encoded data which can be fitted into CNN\n",
    "y = tf.keras.utils.to_categorical(np.array(train_df['word']), num_classes=num_classes)"
   ]
  },
  {
   "cell_type": "markdown",
   "id": "b6dc8dcb",
   "metadata": {},
   "source": [
    "We read in 2000 true images per class (340 classes) to get a total of 680000 images. Then we map the function 'draw_resize' to convert the drawing columns into an image array that can be fed into the CNN model. This is the most i can squeeze into the CPU memory as the drawing of the image and resizing it takes up the bulk of the memory. \n",
    "\n",
    "We also convert the word column into one hot encoded data which contains a sparse matrix of 0s and 1s that can be fed into the CNN model. "
   ]
  },
  {
   "cell_type": "markdown",
   "id": "c3b5274a",
   "metadata": {},
   "source": [
    "## Train Test Split "
   ]
  },
  {
   "cell_type": "code",
   "execution_count": 63,
   "id": "6eecfb18",
   "metadata": {},
   "outputs": [
    {
     "data": {
      "application/javascript": [
       "$(document).ready(\n",
       "    function() {\n",
       "        function appendUniqueDiv(){\n",
       "            // append a div with our uuid so we can check that it's already\n",
       "            // been sent and avoid duplicates on page reload\n",
       "            var notifiedDiv = document.createElement(\"div\")\n",
       "            notifiedDiv.id = \"66a1e6f1-b9b0-4786-9f79-0d5469245975\"\n",
       "            element.append(notifiedDiv)\n",
       "        }\n",
       "\n",
       "        // only send notifications if the pageload is complete; this will\n",
       "        // help stop extra notifications when a saved notebook is loaded,\n",
       "        // which during testing gives us state \"interactive\", not \"complete\"\n",
       "        if (document.readyState === 'complete') {\n",
       "            // check for the div that signifies that the notification\n",
       "            // was already sent\n",
       "            if (document.getElementById(\"66a1e6f1-b9b0-4786-9f79-0d5469245975\") === null) {\n",
       "                var notificationPayload = {\"requireInteraction\": false, \"icon\": \"/static/base/images/favicon.ico\", \"body\": \"Cell execution has finished!\"};\n",
       "                if (Notification.permission !== 'denied') {\n",
       "                    if (Notification.permission !== 'granted') { \n",
       "                        Notification.requestPermission(function (permission) {\n",
       "                            if(!('permission' in Notification)) {\n",
       "                                Notification.permission = permission\n",
       "                            }\n",
       "                        })\n",
       "                    }\n",
       "                    if (Notification.permission === 'granted') {\n",
       "                    var notification = new Notification(\"Jupyter Notebook\", notificationPayload)\n",
       "                    appendUniqueDiv()\n",
       "                    notification.onclick = function () {\n",
       "                        window.focus();\n",
       "                        this.close();\n",
       "                        };\n",
       "                    } \n",
       "                }     \n",
       "            }\n",
       "        }\n",
       "    }\n",
       ")\n"
      ],
      "text/plain": [
       "<IPython.core.display.Javascript object>"
      ]
     },
     "metadata": {},
     "output_type": "display_data"
    }
   ],
   "source": [
    "%%notify\n",
    "X_train, X_test, y_train, y_test = train_test_split(train_df.drawing,\n",
    "                                                    y,\n",
    "                                                    random_state=42,\n",
    "                                                    test_size=0.1, # 0.2, 0.3\n",
    "                                                    stratify=y)"
   ]
  },
  {
   "cell_type": "markdown",
   "id": "a1d72784",
   "metadata": {},
   "source": [
    "Our test size is 0.1 and we stratify=y to keep the 340 class ratio the same for train and test."
   ]
  },
  {
   "cell_type": "code",
   "execution_count": 64,
   "id": "0ac09cc7",
   "metadata": {},
   "outputs": [
    {
     "name": "stdout",
     "output_type": "stream",
     "text": [
      "(22950,) (22950, 340) \n",
      " (2550,) (2550, 340)\n"
     ]
    }
   ],
   "source": [
    "print(X_train.shape, y_train.shape, \"\\n\", X_test.shape, y_test.shape)"
   ]
  },
  {
   "cell_type": "code",
   "execution_count": 65,
   "id": "935b9c69",
   "metadata": {},
   "outputs": [
    {
     "data": {
      "application/javascript": [
       "$(document).ready(\n",
       "    function() {\n",
       "        function appendUniqueDiv(){\n",
       "            // append a div with our uuid so we can check that it's already\n",
       "            // been sent and avoid duplicates on page reload\n",
       "            var notifiedDiv = document.createElement(\"div\")\n",
       "            notifiedDiv.id = \"cc240ab5-b94f-4eed-8d0f-4afa3a7fe633\"\n",
       "            element.append(notifiedDiv)\n",
       "        }\n",
       "\n",
       "        // only send notifications if the pageload is complete; this will\n",
       "        // help stop extra notifications when a saved notebook is loaded,\n",
       "        // which during testing gives us state \"interactive\", not \"complete\"\n",
       "        if (document.readyState === 'complete') {\n",
       "            // check for the div that signifies that the notification\n",
       "            // was already sent\n",
       "            if (document.getElementById(\"cc240ab5-b94f-4eed-8d0f-4afa3a7fe633\") === null) {\n",
       "                var notificationPayload = {\"requireInteraction\": false, \"icon\": \"/static/base/images/favicon.ico\", \"body\": \"Cell execution has finished!\"};\n",
       "                if (Notification.permission !== 'denied') {\n",
       "                    if (Notification.permission !== 'granted') { \n",
       "                        Notification.requestPermission(function (permission) {\n",
       "                            if(!('permission' in Notification)) {\n",
       "                                Notification.permission = permission\n",
       "                            }\n",
       "                        })\n",
       "                    }\n",
       "                    if (Notification.permission === 'granted') {\n",
       "                    var notification = new Notification(\"Jupyter Notebook\", notificationPayload)\n",
       "                    appendUniqueDiv()\n",
       "                    notification.onclick = function () {\n",
       "                        window.focus();\n",
       "                        this.close();\n",
       "                        };\n",
       "                    } \n",
       "                }     \n",
       "            }\n",
       "        }\n",
       "    }\n",
       ")\n"
      ],
      "text/plain": [
       "<IPython.core.display.Javascript object>"
      ]
     },
     "metadata": {},
     "output_type": "display_data"
    }
   ],
   "source": [
    "%%notify\n",
    "train_tf = tf.constant(X_train.tolist(), shape = (X_train.shape[0], imheight, imwidth, 1))"
   ]
  },
  {
   "cell_type": "code",
   "execution_count": 66,
   "id": "663a69c4",
   "metadata": {},
   "outputs": [],
   "source": [
    "train_tf_label = tf.constant(y_train.tolist())"
   ]
  },
  {
   "cell_type": "code",
   "execution_count": 67,
   "id": "e40d1680",
   "metadata": {},
   "outputs": [],
   "source": [
    "test_tf = tf.constant(X_test.tolist(), shape = (X_test.shape[0], imheight, imwidth, 1))"
   ]
  },
  {
   "cell_type": "code",
   "execution_count": 68,
   "id": "3a1105bb",
   "metadata": {},
   "outputs": [],
   "source": [
    "test_tf_label = tf.constant(y_test.tolist())"
   ]
  },
  {
   "cell_type": "code",
   "execution_count": 69,
   "id": "e768c27b",
   "metadata": {},
   "outputs": [
    {
     "name": "stdout",
     "output_type": "stream",
     "text": [
      "(22950, 128, 128, 1) (22950, 340) \n",
      " (2550, 128, 128, 1) (2550, 340)\n"
     ]
    }
   ],
   "source": [
    "print(train_tf.shape, train_tf_label.shape, \"\\n\", test_tf.shape, test_tf_label.shape)"
   ]
  },
  {
   "cell_type": "code",
   "execution_count": 70,
   "id": "a383308c",
   "metadata": {
    "scrolled": true
   },
   "outputs": [],
   "source": [
    "train_dataset = tf.data.Dataset.from_tensor_slices((train_tf, train_tf_label))\n",
    "# train_dataset = train_dataset.shuffle(len(train_tf))\n",
    "# train_dataset = train_dataset.repeat(2)\n",
    "train_dataset = train_dataset.batch(32, drop_remainder=True)"
   ]
  },
  {
   "cell_type": "code",
   "execution_count": 71,
   "id": "1d6ba001",
   "metadata": {},
   "outputs": [],
   "source": [
    "test_dataset = tf.data.Dataset.from_tensor_slices((test_tf, test_tf_label))\n",
    "# test_dataset = test_dataset.shuffle(len(test_tf))\n",
    "# test_dataset = test_dataset.repeat(2)\n",
    "test_dataset = test_dataset.batch(32, drop_remainder=True)"
   ]
  },
  {
   "cell_type": "code",
   "execution_count": 72,
   "id": "dc273e0d",
   "metadata": {},
   "outputs": [
    {
     "data": {
      "text/plain": [
       "<BatchDataset shapes: ((32, 128, 128, 1), (32, 340)), types: (tf.float64, tf.float32)>"
      ]
     },
     "execution_count": 72,
     "metadata": {},
     "output_type": "execute_result"
    }
   ],
   "source": [
    "train_dataset"
   ]
  },
  {
   "cell_type": "markdown",
   "id": "74f9cae3",
   "metadata": {},
   "source": [
    "We reshape our image array into (32, 32, 1) before putting it into the TensorFlow dataset pipeline. We will be sending out 32 samples in each batch to reduce memory usage during the model training."
   ]
  },
  {
   "cell_type": "markdown",
   "id": "74fd2996",
   "metadata": {},
   "source": [
    "## Basic CNN model Architecture"
   ]
  },
  {
   "cell_type": "code",
   "execution_count": 42,
   "id": "0ca3e1b9",
   "metadata": {},
   "outputs": [
    {
     "name": "stdout",
     "output_type": "stream",
     "text": [
      "Model: \"sequential\"\n",
      "_________________________________________________________________\n",
      "Layer (type)                 Output Shape              Param #   \n",
      "=================================================================\n",
      "conv2d (Conv2D)              (None, 32, 32, 32)        320       \n",
      "_________________________________________________________________\n",
      "max_pooling2d (MaxPooling2D) (None, 16, 16, 32)        0         \n",
      "_________________________________________________________________\n",
      "conv2d_1 (Conv2D)            (None, 16, 16, 64)        18496     \n",
      "_________________________________________________________________\n",
      "max_pooling2d_1 (MaxPooling2 (None, 8, 8, 64)          0         \n",
      "_________________________________________________________________\n",
      "flatten (Flatten)            (None, 4096)              0         \n",
      "_________________________________________________________________\n",
      "dense (Dense)                (None, 680)               2785960   \n",
      "_________________________________________________________________\n",
      "dropout (Dropout)            (None, 680)               0         \n",
      "_________________________________________________________________\n",
      "dense_1 (Dense)              (None, 340)               231540    \n",
      "=================================================================\n",
      "Total params: 3,036,316\n",
      "Trainable params: 3,036,316\n",
      "Non-trainable params: 0\n",
      "_________________________________________________________________\n"
     ]
    }
   ],
   "source": [
    "model = Sequential()\n",
    "model.add(Conv2D(32, kernel_size=(3, 3), padding='same', activation='relu', input_shape=(imheight, imwidth, 1)))\n",
    "model.add(MaxPooling2D(pool_size=(2, 2)))\n",
    "model.add(Conv2D(64, kernel_size=(3, 3), padding='same', activation='relu'))\n",
    "model.add(MaxPooling2D(pool_size=(2, 2)))\n",
    "# model.add(Dropout(0.2))\n",
    "model.add(Flatten())\n",
    "# model.add(Dense(1360, activation='relu'))\n",
    "# model.add(Dropout(0.5))\n",
    "model.add(Dense(680, activation='relu'))\n",
    "model.add(Dropout(0.5))\n",
    "model.add(Dense(num_classes, activation='softmax'))\n",
    "model.summary()"
   ]
  },
  {
   "cell_type": "markdown",
   "id": "8abd95b8",
   "metadata": {},
   "source": [
    "Tried out different Architecture but realized that adding too many layers increases the training time exponentially. Hence decided to only include 2 Convolution layers which gives the 3D image depth and retain the height and width dimensions. 2 MaxPooling layers to extract features and reduce the height and width dimensions by half each. We then flatten the 3D image into a flat 1 dimensional array and include 1 dense layer of 680 nodes followed by dropping half of it to regularize our model and reduce variance. Finally we have a last dense layer with 'softmax' activation that outputs a vector of 340 probabilities (for 340 class) summing to 1.  "
   ]
  },
  {
   "cell_type": "code",
   "execution_count": 10,
   "id": "d1540cdc",
   "metadata": {},
   "outputs": [],
   "source": [
    "# metrics for prediction and submission to kaggle\n",
    "# function from tensorflow.keras library \n",
    "def top_3_accuracy(true_classes, predicted_classes): \n",
    "    top3 = top_k_categorical_accuracy(true_classes, predicted_classes, 3)\n",
    "    return top3"
   ]
  },
  {
   "cell_type": "code",
   "execution_count": 33,
   "id": "68a16165",
   "metadata": {},
   "outputs": [],
   "source": [
    "reduceLROnPlat = ReduceLROnPlateau(monitor='val_loss', factor=0.5, patience=3, \n",
    "                                   verbose=1, mode='auto', min_delta=0.005, min_lr=0.0001)\n",
    "earlystop = EarlyStopping(monitor='val_top_3_accuracy', mode='max', patience=5) \n",
    "callbacks = [reduceLROnPlat, earlystop]"
   ]
  },
  {
   "cell_type": "markdown",
   "id": "92366f60",
   "metadata": {},
   "source": [
    "To set up callbacks for reducing learning rate and early stopping. To reduce learning rate by half when val_loss does not improve (reduce) by 0.005 for 3 epochs. Also to stop running the model when val_top_3_accuracy does not improve for 5 epochs. "
   ]
  },
  {
   "cell_type": "code",
   "execution_count": 45,
   "id": "be37b81f",
   "metadata": {},
   "outputs": [],
   "source": [
    "model.compile(loss='categorical_crossentropy',\n",
    "              optimizer='adam',\n",
    "              metrics=['accuracy', top_3_accuracy])"
   ]
  },
  {
   "cell_type": "markdown",
   "id": "03a4372d",
   "metadata": {},
   "source": [
    "We will be setting our loss as 'categorical_crossentropy' as there are multiple classes (340) and we will be monitoring the metrics accuracy and top_3_accuracy."
   ]
  },
  {
   "cell_type": "code",
   "execution_count": 46,
   "id": "c905636b",
   "metadata": {
    "scrolled": false
   },
   "outputs": [
    {
     "name": "stdout",
     "output_type": "stream",
     "text": [
      "Epoch 1/10\n",
      "57223/57223 [==============================] - 5054s 88ms/step - loss: 2.5709 - accuracy: 0.3964 - top_3_accuracy: 0.6019 - val_loss: 1.8778 - val_accuracy: 0.5326 - val_top_3_accuracy: 0.7409\n",
      "Epoch 2/10\n",
      "57223/57223 [==============================] - 4819s 84ms/step - loss: 2.1557 - accuracy: 0.4725 - top_3_accuracy: 0.6857 - val_loss: 1.8257 - val_accuracy: 0.5446 - val_top_3_accuracy: 0.7511\n",
      "Epoch 3/10\n",
      "57223/57223 [==============================] - 20431s 357ms/step - loss: 2.0731 - accuracy: 0.4891 - top_3_accuracy: 0.7025 - val_loss: 1.8256 - val_accuracy: 0.5447 - val_top_3_accuracy: 0.7532\n",
      "Epoch 4/10\n",
      "57223/57223 [==============================] - 12987s 227ms/step - loss: 2.0362 - accuracy: 0.4968 - top_3_accuracy: 0.7098 - val_loss: 1.8422 - val_accuracy: 0.5440 - val_top_3_accuracy: 0.7511\n",
      "Epoch 5/10\n",
      "57223/57223 [==============================] - 5260s 92ms/step - loss: 2.0195 - accuracy: 0.5004 - top_3_accuracy: 0.7138 - val_loss: 1.8119 - val_accuracy: 0.5512 - val_top_3_accuracy: 0.7554\n",
      "Epoch 6/10\n",
      "57223/57223 [==============================] - 8156s 143ms/step - loss: 2.0152 - accuracy: 0.5018 - top_3_accuracy: 0.7153 - val_loss: 1.8453 - val_accuracy: 0.5456 - val_top_3_accuracy: 0.7517\n",
      "Epoch 7/10\n",
      "57223/57223 [==============================] - 13280s 232ms/step - loss: 2.0165 - accuracy: 0.5020 - top_3_accuracy: 0.7153 - val_loss: 1.9021 - val_accuracy: 0.5383 - val_top_3_accuracy: 0.7458\n",
      "Epoch 8/10\n",
      "57223/57223 [==============================] - ETA: 0s - loss: 2.0232 - accuracy: 0.5009 - top_3_accuracy: 0.7145\n",
      "Epoch 00008: ReduceLROnPlateau reducing learning rate to 0.0005000000237487257.\n",
      "57223/57223 [==============================] - 15764s 275ms/step - loss: 2.0232 - accuracy: 0.5009 - top_3_accuracy: 0.7145 - val_loss: 1.9403 - val_accuracy: 0.5332 - val_top_3_accuracy: 0.7386\n",
      "Epoch 9/10\n",
      "57223/57223 [==============================] - 24820s 434ms/step - loss: 1.8873 - accuracy: 0.5266 - top_3_accuracy: 0.7383 - val_loss: 1.7863 - val_accuracy: 0.5594 - val_top_3_accuracy: 0.7637\n",
      "Epoch 10/10\n",
      "57223/57223 [==============================] - 20191s 353ms/step - loss: 1.8584 - accuracy: 0.5325 - top_3_accuracy: 0.7441 - val_loss: 1.8123 - val_accuracy: 0.5569 - val_top_3_accuracy: 0.7620\n"
     ]
    },
    {
     "data": {
      "application/javascript": [
       "$(document).ready(\n",
       "    function() {\n",
       "        function appendUniqueDiv(){\n",
       "            // append a div with our uuid so we can check that it's already\n",
       "            // been sent and avoid duplicates on page reload\n",
       "            var notifiedDiv = document.createElement(\"div\")\n",
       "            notifiedDiv.id = \"0cf74007-2f01-4b94-a15a-b0f29ab9018f\"\n",
       "            element.append(notifiedDiv)\n",
       "        }\n",
       "\n",
       "        // only send notifications if the pageload is complete; this will\n",
       "        // help stop extra notifications when a saved notebook is loaded,\n",
       "        // which during testing gives us state \"interactive\", not \"complete\"\n",
       "        if (document.readyState === 'complete') {\n",
       "            // check for the div that signifies that the notification\n",
       "            // was already sent\n",
       "            if (document.getElementById(\"0cf74007-2f01-4b94-a15a-b0f29ab9018f\") === null) {\n",
       "                var notificationPayload = {\"requireInteraction\": false, \"icon\": \"/static/base/images/favicon.ico\", \"body\": \"Cell execution has finished!\"};\n",
       "                if (Notification.permission !== 'denied') {\n",
       "                    if (Notification.permission !== 'granted') { \n",
       "                        Notification.requestPermission(function (permission) {\n",
       "                            if(!('permission' in Notification)) {\n",
       "                                Notification.permission = permission\n",
       "                            }\n",
       "                        })\n",
       "                    }\n",
       "                    if (Notification.permission === 'granted') {\n",
       "                    var notification = new Notification(\"Jupyter Notebook\", notificationPayload)\n",
       "                    appendUniqueDiv()\n",
       "                    notification.onclick = function () {\n",
       "                        window.focus();\n",
       "                        this.close();\n",
       "                        };\n",
       "                    } \n",
       "                }     \n",
       "            }\n",
       "        }\n",
       "    }\n",
       ")\n"
      ],
      "text/plain": [
       "<IPython.core.display.Javascript object>"
      ]
     },
     "metadata": {},
     "output_type": "display_data"
    }
   ],
   "source": [
    "%%notify\n",
    "history = model.fit(train_dataset,\n",
    "          batch_size = 32,\n",
    "          epochs = 10,\n",
    "          validation_data = test_dataset,\n",
    "          callbacks = callbacks,\n",
    "          verbose = 1)"
   ]
  },
  {
   "cell_type": "code",
   "execution_count": 56,
   "id": "635d12e0",
   "metadata": {
    "scrolled": true
   },
   "outputs": [
    {
     "name": "stdout",
     "output_type": "stream",
     "text": [
      "INFO:tensorflow:Assets written to: saved_models/3000img\\assets\n"
     ]
    }
   ],
   "source": [
    "#model save\n",
    "# model.save(\"saved_models/3000img\")"
   ]
  },
  {
   "cell_type": "code",
   "execution_count": 33,
   "id": "c7673861",
   "metadata": {},
   "outputs": [
    {
     "name": "stdout",
     "output_type": "stream",
     "text": [
      " Volume in drive C is OS\n",
      " Volume Serial Number is 880D-7B05\n",
      "\n",
      " Directory of C:\\Users\\zende\\Desktop\\DSI\\roughpaper\\materials\\project_capstone\\Quick, Draw! Doodle Recognition Challenge\\saved_models\n",
      "\n",
      "28/07/2021  01:13 am    <DIR>          .\n",
      "28/07/2021  01:13 am    <DIR>          ..\n",
      "22/07/2021  10:22 pm    <DIR>          .ipynb_checkpoints\n",
      "25/07/2021  07:29 pm    <DIR>          3000img\n",
      "22/07/2021  10:16 pm    <DIR>          my_model_2000img\n",
      "28/07/2021  01:13 am    <DIR>          vgg_1000img_model\n",
      "28/07/2021  01:13 am    <DIR>          vgg_500img_model\n",
      "               0 File(s)              0 bytes\n",
      "               7 Dir(s)  313,697,996,800 bytes free\n"
     ]
    }
   ],
   "source": [
    "!dir saved_models"
   ]
  },
  {
   "cell_type": "code",
   "execution_count": 43,
   "id": "34f9f0e5",
   "metadata": {},
   "outputs": [],
   "source": [
    "# to load model\n",
    "best_model = tf.keras.models.load_model(\"saved_models/my_model_2000img\", custom_objects={'top_3_accuracy':top_3_accuracy})"
   ]
  },
  {
   "cell_type": "code",
   "execution_count": 44,
   "id": "ee552c06",
   "metadata": {},
   "outputs": [
    {
     "name": "stdout",
     "output_type": "stream",
     "text": [
      "Model: \"sequential_5\"\n",
      "_________________________________________________________________\n",
      "Layer (type)                 Output Shape              Param #   \n",
      "=================================================================\n",
      "conv2d_9 (Conv2D)            (None, 32, 32, 32)        320       \n",
      "_________________________________________________________________\n",
      "max_pooling2d_8 (MaxPooling2 (None, 16, 16, 32)        0         \n",
      "_________________________________________________________________\n",
      "conv2d_10 (Conv2D)           (None, 16, 16, 64)        18496     \n",
      "_________________________________________________________________\n",
      "max_pooling2d_9 (MaxPooling2 (None, 8, 8, 64)          0         \n",
      "_________________________________________________________________\n",
      "dropout_8 (Dropout)          (None, 8, 8, 64)          0         \n",
      "_________________________________________________________________\n",
      "flatten_4 (Flatten)          (None, 4096)              0         \n",
      "_________________________________________________________________\n",
      "dense_8 (Dense)              (None, 680)               2785960   \n",
      "_________________________________________________________________\n",
      "dropout_9 (Dropout)          (None, 680)               0         \n",
      "_________________________________________________________________\n",
      "dense_9 (Dense)              (None, 340)               231540    \n",
      "=================================================================\n",
      "Total params: 3,036,316\n",
      "Trainable params: 3,036,316\n",
      "Non-trainable params: 0\n",
      "_________________________________________________________________\n"
     ]
    }
   ],
   "source": [
    "best_model.summary()"
   ]
  },
  {
   "cell_type": "markdown",
   "id": "55dcabb7",
   "metadata": {},
   "source": [
    "## Model performance"
   ]
  },
  {
   "cell_type": "code",
   "execution_count": 320,
   "id": "972cc77d",
   "metadata": {},
   "outputs": [
    {
     "name": "stdout",
     "output_type": "stream",
     "text": [
      "4250/4250 [==============================] - 32s 8ms/step - loss: 1.7429 - accuracy: 0.5655 - top_3_accuracy: 0.7669\n"
     ]
    },
    {
     "data": {
      "text/plain": [
       "[1.742902398109436, 0.5655146837234497, 0.7668970823287964]"
      ]
     },
     "execution_count": 320,
     "metadata": {},
     "output_type": "execute_result"
    }
   ],
   "source": [
    "model.evaluate(test_dataset)"
   ]
  },
  {
   "cell_type": "code",
   "execution_count": 321,
   "id": "00257870",
   "metadata": {},
   "outputs": [
    {
     "data": {
      "text/plain": [
       "<matplotlib.legend.Legend at 0x1cf8d6bb0d0>"
      ]
     },
     "execution_count": 321,
     "metadata": {},
     "output_type": "execute_result"
    },
    {
     "data": {
      "image/png": "[encoded data removed]",
      "text/plain": [
       "<Figure size 864x576 with 1 Axes>"
      ]
     },
     "metadata": {
      "needs_background": "light"
     },
     "output_type": "display_data"
    }
   ],
   "source": [
    "plt.figure(figsize = (12,8))\n",
    "\n",
    "plt.plot(history.history['accuracy'], label = 'Train')\n",
    "plt.plot(history.history['val_accuracy'], label = 'Test')\n",
    "\n",
    "plt.legend()"
   ]
  },
  {
   "cell_type": "code",
   "execution_count": 322,
   "id": "072caa7e",
   "metadata": {},
   "outputs": [
    {
     "data": {
      "text/plain": [
       "<matplotlib.legend.Legend at 0x1cf8dcc2b80>"
      ]
     },
     "execution_count": 322,
     "metadata": {},
     "output_type": "execute_result"
    },
    {
     "data": {
      "image/png": "[encoded data removed]",
      "text/plain": [
       "<Figure size 864x576 with 1 Axes>"
      ]
     },
     "metadata": {
      "needs_background": "light"
     },
     "output_type": "display_data"
    }
   ],
   "source": [
    "plt.figure(figsize = (12,8))\n",
    "\n",
    "plt.plot(history.history['top_3_accuracy'], label = 'Train')\n",
    "plt.plot(history.history['val_top_3_accuracy'], label = 'Test')\n",
    "\n",
    "plt.legend()"
   ]
  },
  {
   "cell_type": "markdown",
   "id": "f01b8e24",
   "metadata": {},
   "source": [
    "Our custom CNN model performs quite well with a validation accuracy of 0.56 and top 3 accuracy of 0.76. The graph does not show signs of overfitting, the test is performing better than the train score and the lines are very near convergence. This shows that our model will generalize well to new images and there is low variance. "
   ]
  },
  {
   "cell_type": "markdown",
   "id": "db088517",
   "metadata": {},
   "source": [
    "## Transfer learning from Tensorflow "
   ]
  },
  {
   "cell_type": "markdown",
   "id": "016e0694",
   "metadata": {},
   "source": [
    "### VGG16 model with 32x32 (1000image per class)"
   ]
  },
  {
   "cell_type": "code",
   "execution_count": 25,
   "id": "5a8a1c73",
   "metadata": {},
   "outputs": [],
   "source": [
    "# create the base pre-trained model\n",
    "base_model = tf.keras.applications.vgg16.VGG16(weights='imagenet', include_top=False, input_shape=(imheight, imwidth, 3))"
   ]
  },
  {
   "cell_type": "code",
   "execution_count": 26,
   "id": "ac105585",
   "metadata": {},
   "outputs": [
    {
     "name": "stdout",
     "output_type": "stream",
     "text": [
      "Model: \"vgg16\"\n",
      "_________________________________________________________________\n",
      "Layer (type)                 Output Shape              Param #   \n",
      "=================================================================\n",
      "input_1 (InputLayer)         [(None, 32, 32, 3)]       0         \n",
      "_________________________________________________________________\n",
      "block1_conv1 (Conv2D)        (None, 32, 32, 64)        1792      \n",
      "_________________________________________________________________\n",
      "block1_conv2 (Conv2D)        (None, 32, 32, 64)        36928     \n",
      "_________________________________________________________________\n",
      "block1_pool (MaxPooling2D)   (None, 16, 16, 64)        0         \n",
      "_________________________________________________________________\n",
      "block2_conv1 (Conv2D)        (None, 16, 16, 128)       73856     \n",
      "_________________________________________________________________\n",
      "block2_conv2 (Conv2D)        (None, 16, 16, 128)       147584    \n",
      "_________________________________________________________________\n",
      "block2_pool (MaxPooling2D)   (None, 8, 8, 128)         0         \n",
      "_________________________________________________________________\n",
      "block3_conv1 (Conv2D)        (None, 8, 8, 256)         295168    \n",
      "_________________________________________________________________\n",
      "block3_conv2 (Conv2D)        (None, 8, 8, 256)         590080    \n",
      "_________________________________________________________________\n",
      "block3_conv3 (Conv2D)        (None, 8, 8, 256)         590080    \n",
      "_________________________________________________________________\n",
      "block3_pool (MaxPooling2D)   (None, 4, 4, 256)         0         \n",
      "_________________________________________________________________\n",
      "block4_conv1 (Conv2D)        (None, 4, 4, 512)         1180160   \n",
      "_________________________________________________________________\n",
      "block4_conv2 (Conv2D)        (None, 4, 4, 512)         2359808   \n",
      "_________________________________________________________________\n",
      "block4_conv3 (Conv2D)        (None, 4, 4, 512)         2359808   \n",
      "_________________________________________________________________\n",
      "block4_pool (MaxPooling2D)   (None, 2, 2, 512)         0         \n",
      "_________________________________________________________________\n",
      "block5_conv1 (Conv2D)        (None, 2, 2, 512)         2359808   \n",
      "_________________________________________________________________\n",
      "block5_conv2 (Conv2D)        (None, 2, 2, 512)         2359808   \n",
      "_________________________________________________________________\n",
      "block5_conv3 (Conv2D)        (None, 2, 2, 512)         2359808   \n",
      "_________________________________________________________________\n",
      "block5_pool (MaxPooling2D)   (None, 1, 1, 512)         0         \n",
      "=================================================================\n",
      "Total params: 14,714,688\n",
      "Trainable params: 14,714,688\n",
      "Non-trainable params: 0\n",
      "_________________________________________________________________\n"
     ]
    }
   ],
   "source": [
    "base_model.summary()"
   ]
  },
  {
   "cell_type": "code",
   "execution_count": 27,
   "id": "bf55b16b",
   "metadata": {},
   "outputs": [
    {
     "data": {
      "text/plain": [
       "19"
      ]
     },
     "execution_count": 27,
     "metadata": {},
     "output_type": "execute_result"
    }
   ],
   "source": [
    "len(base_model.layers)"
   ]
  },
  {
   "cell_type": "code",
   "execution_count": 28,
   "id": "6b698bef",
   "metadata": {},
   "outputs": [],
   "source": [
    "# freeze all convolutional VGG16 layers\n",
    "for layer in base_model.layers:\n",
    "    #print(layer.name)\n",
    "    layer.trainable = False"
   ]
  },
  {
   "cell_type": "code",
   "execution_count": 29,
   "id": "a373872c",
   "metadata": {
    "scrolled": false
   },
   "outputs": [
    {
     "name": "stdout",
     "output_type": "stream",
     "text": [
      "Model: \"sequential\"\n",
      "_________________________________________________________________\n",
      "Layer (type)                 Output Shape              Param #   \n",
      "=================================================================\n",
      "3layers_for_vgg (Conv2D)     (None, 32, 32, 3)         30        \n",
      "_________________________________________________________________\n",
      "vgg16 (Functional)           (None, 1, 1, 512)         14714688  \n",
      "_________________________________________________________________\n",
      "flatten (Flatten)            (None, 512)               0         \n",
      "_________________________________________________________________\n",
      "dense (Dense)                (None, 680)               348840    \n",
      "_________________________________________________________________\n",
      "dropout (Dropout)            (None, 680)               0         \n",
      "_________________________________________________________________\n",
      "dense_1 (Dense)              (None, 340)               231540    \n",
      "=================================================================\n",
      "Total params: 15,295,098\n",
      "Trainable params: 580,410\n",
      "Non-trainable params: 14,714,688\n",
      "_________________________________________________________________\n"
     ]
    }
   ],
   "source": [
    "vgg_to_rgb_model = Sequential()\n",
    "vgg_to_rgb_model.add(Conv2D(3, kernel_size=(3, 3), padding='same', activation='relu', input_shape=(imheight, imwidth, 1), name='3layers_for_vgg'))\n",
    "vgg_to_rgb_model.add(base_model)\n",
    "vgg_to_rgb_model.add(Flatten())\n",
    "vgg_to_rgb_model.add(Dense(512, activation='relu'))\n",
    "vgg_to_rgb_model.add(Dropout(0.3))\n",
    "vgg_to_rgb_model.add(Dense(num_classes, activation='softmax'))\n",
    "\n",
    "vgg_to_rgb_model.summary()"
   ]
  },
  {
   "cell_type": "code",
   "execution_count": 30,
   "id": "6142f6af",
   "metadata": {},
   "outputs": [
    {
     "name": "stdout",
     "output_type": "stream",
     "text": [
      "3layers_for_vgg\n",
      "True\n",
      "vgg16\n",
      "True\n",
      "flatten\n",
      "True\n",
      "dense\n",
      "True\n",
      "dropout\n",
      "True\n",
      "dense_1\n",
      "True\n"
     ]
    }
   ],
   "source": [
    "for layer in vgg_to_rgb_model.layers:\n",
    "    print(layer.name)\n",
    "    print(layer.trainable)"
   ]
  },
  {
   "cell_type": "code",
   "execution_count": 31,
   "id": "05af68da",
   "metadata": {},
   "outputs": [],
   "source": [
    "reduceLROnPlat = ReduceLROnPlateau(monitor='val_loss', factor=0.5, patience=2, \n",
    "                                   verbose=1, mode='auto', min_delta=0.005, cooldown=5, min_lr=0.0001)\n",
    "earlystop = EarlyStopping(monitor='val_top_3_accuracy', mode='max', patience=3) \n",
    "callbacks = [reduceLROnPlat, earlystop]"
   ]
  },
  {
   "cell_type": "code",
   "execution_count": 32,
   "id": "a7dc3028",
   "metadata": {},
   "outputs": [],
   "source": [
    "vgg_to_rgb_model.compile(loss='categorical_crossentropy',\n",
    "              optimizer='adam',\n",
    "              metrics=['accuracy', top_3_accuracy])"
   ]
  },
  {
   "cell_type": "code",
   "execution_count": 33,
   "id": "f4dab341",
   "metadata": {
    "scrolled": true
   },
   "outputs": [
    {
     "name": "stdout",
     "output_type": "stream",
     "text": [
      "Epoch 1/4\n",
      "  275/19125 [..............................] - ETA: 3:44:56 - loss: 5.6534 - accuracy: 0.0162 - top_3_accuracy: 0.0393"
     ]
    },
    {
     "ename": "KeyboardInterrupt",
     "evalue": "",
     "output_type": "error",
     "traceback": [
      "\u001b[1;31m---------------------------------------------------------------------------\u001b[0m",
      "\u001b[1;31mKeyboardInterrupt\u001b[0m                         Traceback (most recent call last)",
      "\u001b[1;32m<ipython-input-33-59529c223fb5>\u001b[0m in \u001b[0;36m<module>\u001b[1;34m\u001b[0m\n\u001b[1;32m----> 1\u001b[1;33m history_vgg = vgg_to_rgb_model.fit(train_dataset,\n\u001b[0m\u001b[0;32m      2\u001b[0m           \u001b[0mbatch_size\u001b[0m \u001b[1;33m=\u001b[0m \u001b[1;36m32\u001b[0m\u001b[1;33m,\u001b[0m\u001b[1;33m\u001b[0m\u001b[1;33m\u001b[0m\u001b[0m\n\u001b[0;32m      3\u001b[0m           \u001b[0mepochs\u001b[0m \u001b[1;33m=\u001b[0m \u001b[1;36m4\u001b[0m\u001b[1;33m,\u001b[0m\u001b[1;33m\u001b[0m\u001b[1;33m\u001b[0m\u001b[0m\n\u001b[0;32m      4\u001b[0m           \u001b[0mvalidation_data\u001b[0m \u001b[1;33m=\u001b[0m \u001b[0mtest_dataset\u001b[0m\u001b[1;33m,\u001b[0m\u001b[1;33m\u001b[0m\u001b[1;33m\u001b[0m\u001b[0m\n\u001b[0;32m      5\u001b[0m           \u001b[0mcallbacks\u001b[0m \u001b[1;33m=\u001b[0m \u001b[0mcallbacks\u001b[0m\u001b[1;33m,\u001b[0m\u001b[1;33m\u001b[0m\u001b[1;33m\u001b[0m\u001b[0m\n",
      "\u001b[1;32m~\\anaconda3\\envs\\tensordsi\\lib\\site-packages\\tensorflow\\python\\keras\\engine\\training.py\u001b[0m in \u001b[0;36m_method_wrapper\u001b[1;34m(self, *args, **kwargs)\u001b[0m\n\u001b[0;32m    106\u001b[0m   \u001b[1;32mdef\u001b[0m \u001b[0m_method_wrapper\u001b[0m\u001b[1;33m(\u001b[0m\u001b[0mself\u001b[0m\u001b[1;33m,\u001b[0m \u001b[1;33m*\u001b[0m\u001b[0margs\u001b[0m\u001b[1;33m,\u001b[0m \u001b[1;33m**\u001b[0m\u001b[0mkwargs\u001b[0m\u001b[1;33m)\u001b[0m\u001b[1;33m:\u001b[0m\u001b[1;33m\u001b[0m\u001b[1;33m\u001b[0m\u001b[0m\n\u001b[0;32m    107\u001b[0m     \u001b[1;32mif\u001b[0m \u001b[1;32mnot\u001b[0m \u001b[0mself\u001b[0m\u001b[1;33m.\u001b[0m\u001b[0m_in_multi_worker_mode\u001b[0m\u001b[1;33m(\u001b[0m\u001b[1;33m)\u001b[0m\u001b[1;33m:\u001b[0m  \u001b[1;31m# pylint: disable=protected-access\u001b[0m\u001b[1;33m\u001b[0m\u001b[1;33m\u001b[0m\u001b[0m\n\u001b[1;32m--> 108\u001b[1;33m       \u001b[1;32mreturn\u001b[0m \u001b[0mmethod\u001b[0m\u001b[1;33m(\u001b[0m\u001b[0mself\u001b[0m\u001b[1;33m,\u001b[0m \u001b[1;33m*\u001b[0m\u001b[0margs\u001b[0m\u001b[1;33m,\u001b[0m \u001b[1;33m**\u001b[0m\u001b[0mkwargs\u001b[0m\u001b[1;33m)\u001b[0m\u001b[1;33m\u001b[0m\u001b[1;33m\u001b[0m\u001b[0m\n\u001b[0m\u001b[0;32m    109\u001b[0m \u001b[1;33m\u001b[0m\u001b[0m\n\u001b[0;32m    110\u001b[0m     \u001b[1;31m# Running inside `run_distribute_coordinator` already.\u001b[0m\u001b[1;33m\u001b[0m\u001b[1;33m\u001b[0m\u001b[1;33m\u001b[0m\u001b[0m\n",
      "\u001b[1;32m~\\anaconda3\\envs\\tensordsi\\lib\\site-packages\\tensorflow\\python\\keras\\engine\\training.py\u001b[0m in \u001b[0;36mfit\u001b[1;34m(self, x, y, batch_size, epochs, verbose, callbacks, validation_split, validation_data, shuffle, class_weight, sample_weight, initial_epoch, steps_per_epoch, validation_steps, validation_batch_size, validation_freq, max_queue_size, workers, use_multiprocessing)\u001b[0m\n\u001b[0;32m   1096\u001b[0m                 batch_size=batch_size):\n\u001b[0;32m   1097\u001b[0m               \u001b[0mcallbacks\u001b[0m\u001b[1;33m.\u001b[0m\u001b[0mon_train_batch_begin\u001b[0m\u001b[1;33m(\u001b[0m\u001b[0mstep\u001b[0m\u001b[1;33m)\u001b[0m\u001b[1;33m\u001b[0m\u001b[1;33m\u001b[0m\u001b[0m\n\u001b[1;32m-> 1098\u001b[1;33m               \u001b[0mtmp_logs\u001b[0m \u001b[1;33m=\u001b[0m \u001b[0mtrain_function\u001b[0m\u001b[1;33m(\u001b[0m\u001b[0miterator\u001b[0m\u001b[1;33m)\u001b[0m\u001b[1;33m\u001b[0m\u001b[1;33m\u001b[0m\u001b[0m\n\u001b[0m\u001b[0;32m   1099\u001b[0m               \u001b[1;32mif\u001b[0m \u001b[0mdata_handler\u001b[0m\u001b[1;33m.\u001b[0m\u001b[0mshould_sync\u001b[0m\u001b[1;33m:\u001b[0m\u001b[1;33m\u001b[0m\u001b[1;33m\u001b[0m\u001b[0m\n\u001b[0;32m   1100\u001b[0m                 \u001b[0mcontext\u001b[0m\u001b[1;33m.\u001b[0m\u001b[0masync_wait\u001b[0m\u001b[1;33m(\u001b[0m\u001b[1;33m)\u001b[0m\u001b[1;33m\u001b[0m\u001b[1;33m\u001b[0m\u001b[0m\n",
      "\u001b[1;32m~\\anaconda3\\envs\\tensordsi\\lib\\site-packages\\tensorflow\\python\\eager\\def_function.py\u001b[0m in \u001b[0;36m__call__\u001b[1;34m(self, *args, **kwds)\u001b[0m\n\u001b[0;32m    778\u001b[0m       \u001b[1;32melse\u001b[0m\u001b[1;33m:\u001b[0m\u001b[1;33m\u001b[0m\u001b[1;33m\u001b[0m\u001b[0m\n\u001b[0;32m    779\u001b[0m         \u001b[0mcompiler\u001b[0m \u001b[1;33m=\u001b[0m \u001b[1;34m\"nonXla\"\u001b[0m\u001b[1;33m\u001b[0m\u001b[1;33m\u001b[0m\u001b[0m\n\u001b[1;32m--> 780\u001b[1;33m         \u001b[0mresult\u001b[0m \u001b[1;33m=\u001b[0m \u001b[0mself\u001b[0m\u001b[1;33m.\u001b[0m\u001b[0m_call\u001b[0m\u001b[1;33m(\u001b[0m\u001b[1;33m*\u001b[0m\u001b[0margs\u001b[0m\u001b[1;33m,\u001b[0m \u001b[1;33m**\u001b[0m\u001b[0mkwds\u001b[0m\u001b[1;33m)\u001b[0m\u001b[1;33m\u001b[0m\u001b[1;33m\u001b[0m\u001b[0m\n\u001b[0m\u001b[0;32m    781\u001b[0m \u001b[1;33m\u001b[0m\u001b[0m\n\u001b[0;32m    782\u001b[0m       \u001b[0mnew_tracing_count\u001b[0m \u001b[1;33m=\u001b[0m \u001b[0mself\u001b[0m\u001b[1;33m.\u001b[0m\u001b[0m_get_tracing_count\u001b[0m\u001b[1;33m(\u001b[0m\u001b[1;33m)\u001b[0m\u001b[1;33m\u001b[0m\u001b[1;33m\u001b[0m\u001b[0m\n",
      "\u001b[1;32m~\\anaconda3\\envs\\tensordsi\\lib\\site-packages\\tensorflow\\python\\eager\\def_function.py\u001b[0m in \u001b[0;36m_call\u001b[1;34m(self, *args, **kwds)\u001b[0m\n\u001b[0;32m    805\u001b[0m       \u001b[1;31m# In this case we have created variables on the first call, so we run the\u001b[0m\u001b[1;33m\u001b[0m\u001b[1;33m\u001b[0m\u001b[1;33m\u001b[0m\u001b[0m\n\u001b[0;32m    806\u001b[0m       \u001b[1;31m# defunned version which is guaranteed to never create variables.\u001b[0m\u001b[1;33m\u001b[0m\u001b[1;33m\u001b[0m\u001b[1;33m\u001b[0m\u001b[0m\n\u001b[1;32m--> 807\u001b[1;33m       \u001b[1;32mreturn\u001b[0m \u001b[0mself\u001b[0m\u001b[1;33m.\u001b[0m\u001b[0m_stateless_fn\u001b[0m\u001b[1;33m(\u001b[0m\u001b[1;33m*\u001b[0m\u001b[0margs\u001b[0m\u001b[1;33m,\u001b[0m \u001b[1;33m**\u001b[0m\u001b[0mkwds\u001b[0m\u001b[1;33m)\u001b[0m  \u001b[1;31m# pylint: disable=not-callable\u001b[0m\u001b[1;33m\u001b[0m\u001b[1;33m\u001b[0m\u001b[0m\n\u001b[0m\u001b[0;32m    808\u001b[0m     \u001b[1;32melif\u001b[0m \u001b[0mself\u001b[0m\u001b[1;33m.\u001b[0m\u001b[0m_stateful_fn\u001b[0m \u001b[1;32mis\u001b[0m \u001b[1;32mnot\u001b[0m \u001b[1;32mNone\u001b[0m\u001b[1;33m:\u001b[0m\u001b[1;33m\u001b[0m\u001b[1;33m\u001b[0m\u001b[0m\n\u001b[0;32m    809\u001b[0m       \u001b[1;31m# Release the lock early so that multiple threads can perform the call\u001b[0m\u001b[1;33m\u001b[0m\u001b[1;33m\u001b[0m\u001b[1;33m\u001b[0m\u001b[0m\n",
      "\u001b[1;32m~\\anaconda3\\envs\\tensordsi\\lib\\site-packages\\tensorflow\\python\\eager\\function.py\u001b[0m in \u001b[0;36m__call__\u001b[1;34m(self, *args, **kwargs)\u001b[0m\n\u001b[0;32m   2827\u001b[0m     \u001b[1;32mwith\u001b[0m \u001b[0mself\u001b[0m\u001b[1;33m.\u001b[0m\u001b[0m_lock\u001b[0m\u001b[1;33m:\u001b[0m\u001b[1;33m\u001b[0m\u001b[1;33m\u001b[0m\u001b[0m\n\u001b[0;32m   2828\u001b[0m       \u001b[0mgraph_function\u001b[0m\u001b[1;33m,\u001b[0m \u001b[0margs\u001b[0m\u001b[1;33m,\u001b[0m \u001b[0mkwargs\u001b[0m \u001b[1;33m=\u001b[0m \u001b[0mself\u001b[0m\u001b[1;33m.\u001b[0m\u001b[0m_maybe_define_function\u001b[0m\u001b[1;33m(\u001b[0m\u001b[0margs\u001b[0m\u001b[1;33m,\u001b[0m \u001b[0mkwargs\u001b[0m\u001b[1;33m)\u001b[0m\u001b[1;33m\u001b[0m\u001b[1;33m\u001b[0m\u001b[0m\n\u001b[1;32m-> 2829\u001b[1;33m     \u001b[1;32mreturn\u001b[0m \u001b[0mgraph_function\u001b[0m\u001b[1;33m.\u001b[0m\u001b[0m_filtered_call\u001b[0m\u001b[1;33m(\u001b[0m\u001b[0margs\u001b[0m\u001b[1;33m,\u001b[0m \u001b[0mkwargs\u001b[0m\u001b[1;33m)\u001b[0m  \u001b[1;31m# pylint: disable=protected-access\u001b[0m\u001b[1;33m\u001b[0m\u001b[1;33m\u001b[0m\u001b[0m\n\u001b[0m\u001b[0;32m   2830\u001b[0m \u001b[1;33m\u001b[0m\u001b[0m\n\u001b[0;32m   2831\u001b[0m   \u001b[1;33m@\u001b[0m\u001b[0mproperty\u001b[0m\u001b[1;33m\u001b[0m\u001b[1;33m\u001b[0m\u001b[0m\n",
      "\u001b[1;32m~\\anaconda3\\envs\\tensordsi\\lib\\site-packages\\tensorflow\\python\\eager\\function.py\u001b[0m in \u001b[0;36m_filtered_call\u001b[1;34m(self, args, kwargs, cancellation_manager)\u001b[0m\n\u001b[0;32m   1841\u001b[0m       \u001b[0;31m`\u001b[0m\u001b[0margs\u001b[0m\u001b[0;31m`\u001b[0m \u001b[1;32mand\u001b[0m\u001b[0;31m \u001b[0m\u001b[0;31m`\u001b[0m\u001b[0mkwargs\u001b[0m\u001b[0;31m`\u001b[0m\u001b[1;33m.\u001b[0m\u001b[1;33m\u001b[0m\u001b[1;33m\u001b[0m\u001b[0m\n\u001b[0;32m   1842\u001b[0m     \"\"\"\n\u001b[1;32m-> 1843\u001b[1;33m     return self._call_flat(\n\u001b[0m\u001b[0;32m   1844\u001b[0m         [t for t in nest.flatten((args, kwargs), expand_composites=True)\n\u001b[0;32m   1845\u001b[0m          if isinstance(t, (ops.Tensor,\n",
      "\u001b[1;32m~\\anaconda3\\envs\\tensordsi\\lib\\site-packages\\tensorflow\\python\\eager\\function.py\u001b[0m in \u001b[0;36m_call_flat\u001b[1;34m(self, args, captured_inputs, cancellation_manager)\u001b[0m\n\u001b[0;32m   1921\u001b[0m         and executing_eagerly):\n\u001b[0;32m   1922\u001b[0m       \u001b[1;31m# No tape is watching; skip to running the function.\u001b[0m\u001b[1;33m\u001b[0m\u001b[1;33m\u001b[0m\u001b[1;33m\u001b[0m\u001b[0m\n\u001b[1;32m-> 1923\u001b[1;33m       return self._build_call_outputs(self._inference_function.call(\n\u001b[0m\u001b[0;32m   1924\u001b[0m           ctx, args, cancellation_manager=cancellation_manager))\n\u001b[0;32m   1925\u001b[0m     forward_backward = self._select_forward_and_backward_functions(\n",
      "\u001b[1;32m~\\anaconda3\\envs\\tensordsi\\lib\\site-packages\\tensorflow\\python\\eager\\function.py\u001b[0m in \u001b[0;36mcall\u001b[1;34m(self, ctx, args, cancellation_manager)\u001b[0m\n\u001b[0;32m    543\u001b[0m       \u001b[1;32mwith\u001b[0m \u001b[0m_InterpolateFunctionError\u001b[0m\u001b[1;33m(\u001b[0m\u001b[0mself\u001b[0m\u001b[1;33m)\u001b[0m\u001b[1;33m:\u001b[0m\u001b[1;33m\u001b[0m\u001b[1;33m\u001b[0m\u001b[0m\n\u001b[0;32m    544\u001b[0m         \u001b[1;32mif\u001b[0m \u001b[0mcancellation_manager\u001b[0m \u001b[1;32mis\u001b[0m \u001b[1;32mNone\u001b[0m\u001b[1;33m:\u001b[0m\u001b[1;33m\u001b[0m\u001b[1;33m\u001b[0m\u001b[0m\n\u001b[1;32m--> 545\u001b[1;33m           outputs = execute.execute(\n\u001b[0m\u001b[0;32m    546\u001b[0m               \u001b[0mstr\u001b[0m\u001b[1;33m(\u001b[0m\u001b[0mself\u001b[0m\u001b[1;33m.\u001b[0m\u001b[0msignature\u001b[0m\u001b[1;33m.\u001b[0m\u001b[0mname\u001b[0m\u001b[1;33m)\u001b[0m\u001b[1;33m,\u001b[0m\u001b[1;33m\u001b[0m\u001b[1;33m\u001b[0m\u001b[0m\n\u001b[0;32m    547\u001b[0m               \u001b[0mnum_outputs\u001b[0m\u001b[1;33m=\u001b[0m\u001b[0mself\u001b[0m\u001b[1;33m.\u001b[0m\u001b[0m_num_outputs\u001b[0m\u001b[1;33m,\u001b[0m\u001b[1;33m\u001b[0m\u001b[1;33m\u001b[0m\u001b[0m\n",
      "\u001b[1;32m~\\anaconda3\\envs\\tensordsi\\lib\\site-packages\\tensorflow\\python\\eager\\execute.py\u001b[0m in \u001b[0;36mquick_execute\u001b[1;34m(op_name, num_outputs, inputs, attrs, ctx, name)\u001b[0m\n\u001b[0;32m     57\u001b[0m   \u001b[1;32mtry\u001b[0m\u001b[1;33m:\u001b[0m\u001b[1;33m\u001b[0m\u001b[1;33m\u001b[0m\u001b[0m\n\u001b[0;32m     58\u001b[0m     \u001b[0mctx\u001b[0m\u001b[1;33m.\u001b[0m\u001b[0mensure_initialized\u001b[0m\u001b[1;33m(\u001b[0m\u001b[1;33m)\u001b[0m\u001b[1;33m\u001b[0m\u001b[1;33m\u001b[0m\u001b[0m\n\u001b[1;32m---> 59\u001b[1;33m     tensors = pywrap_tfe.TFE_Py_Execute(ctx._handle, device_name, op_name,\n\u001b[0m\u001b[0;32m     60\u001b[0m                                         inputs, attrs, num_outputs)\n\u001b[0;32m     61\u001b[0m   \u001b[1;32mexcept\u001b[0m \u001b[0mcore\u001b[0m\u001b[1;33m.\u001b[0m\u001b[0m_NotOkStatusException\u001b[0m \u001b[1;32mas\u001b[0m \u001b[0me\u001b[0m\u001b[1;33m:\u001b[0m\u001b[1;33m\u001b[0m\u001b[1;33m\u001b[0m\u001b[0m\n",
      "\u001b[1;31mKeyboardInterrupt\u001b[0m: "
     ]
    },
    {
     "data": {
      "application/javascript": [
       "$(document).ready(\n",
       "    function() {\n",
       "        function appendUniqueDiv(){\n",
       "            // append a div with our uuid so we can check that it's already\n",
       "            // been sent and avoid duplicates on page reload\n",
       "            var notifiedDiv = document.createElement(\"div\")\n",
       "            notifiedDiv.id = \"bba4ede7-d807-457f-a96d-0c81235fdd8c\"\n",
       "            element.append(notifiedDiv)\n",
       "        }\n",
       "\n",
       "        // only send notifications if the pageload is complete; this will\n",
       "        // help stop extra notifications when a saved notebook is loaded,\n",
       "        // which during testing gives us state \"interactive\", not \"complete\"\n",
       "        if (document.readyState === 'complete') {\n",
       "            // check for the div that signifies that the notification\n",
       "            // was already sent\n",
       "            if (document.getElementById(\"bba4ede7-d807-457f-a96d-0c81235fdd8c\") === null) {\n",
       "                var notificationPayload = {\"requireInteraction\": false, \"icon\": \"/static/base/images/favicon.ico\", \"body\": \"Cell execution has finished!\"};\n",
       "                if (Notification.permission !== 'denied') {\n",
       "                    if (Notification.permission !== 'granted') { \n",
       "                        Notification.requestPermission(function (permission) {\n",
       "                            if(!('permission' in Notification)) {\n",
       "                                Notification.permission = permission\n",
       "                            }\n",
       "                        })\n",
       "                    }\n",
       "                    if (Notification.permission === 'granted') {\n",
       "                    var notification = new Notification(\"Jupyter Notebook\", notificationPayload)\n",
       "                    appendUniqueDiv()\n",
       "                    notification.onclick = function () {\n",
       "                        window.focus();\n",
       "                        this.close();\n",
       "                        };\n",
       "                    } \n",
       "                }     \n",
       "            }\n",
       "        }\n",
       "    }\n",
       ")\n"
      ],
      "text/plain": [
       "<IPython.core.display.Javascript object>"
      ]
     },
     "metadata": {},
     "output_type": "display_data"
    }
   ],
   "source": [
    "%%notify\n",
    "history_vgg = vgg_to_rgb_model.fit(train_dataset,\n",
    "          batch_size = 32,\n",
    "          epochs = 4,\n",
    "          validation_data = test_dataset,\n",
    "          callbacks = callbacks,\n",
    "          verbose = 1)"
   ]
  },
  {
   "cell_type": "markdown",
   "id": "de33fe8d",
   "metadata": {},
   "source": [
    "Was not able to run VGG16 model on my notebook. Hence i used google colab to run it. [Colab](https://colab.research.google.com/drive/1YqRAJRwymRgK2DhF1yZQFdqZVx7wwa9V?usp=sharing)\n",
    "\n",
    "This model was trained with 32x32 images for 1000 images per class totaling 340k images. I first instantiate the VGG16 base model and freeze all layers as we do not have the computing power nor time to run through all of them. I also included a Conv2D layer before the VGG16 base model to create 3 layers (32x32x3) as the original image is greyscale and of 32x32x1 dimension. I then flatten the 3D image into a flat 1 dimensional array and include 1 dense layer of 512 nodes followed by dropping 30% of it to regularize our model and reduce variance. Finally we have a last dense layer with 'softmax' activation that outputs a vector of 340 probabilities (for 340 class) summing to 1.    \n",
    "\n",
    "The results were not as good as the original CNN model i ran in the notebook. (val_top_3_acc of 0.7669). The VGG16 model was only able to get a val_top_3_acc of 0.57.\n",
    "\n",
    "This might be due to the limited RAM allocated (12gb) in Google colab, i was only able to run 1000image per class before going over the allocated RAM. Another reason is that VGG16 model is trained on 224x224 images while our images are 32x32. The pre-trained model weights are meant for images of 224x224. "
   ]
  },
  {
   "cell_type": "code",
   "execution_count": 36,
   "id": "84427ad3",
   "metadata": {},
   "outputs": [],
   "source": [
    "vgg_model = tf.keras.models.load_model(\"saved_models/vgg_1000img_model\", custom_objects={'top_3_accuracy':top_3_accuracy})"
   ]
  },
  {
   "cell_type": "code",
   "execution_count": 37,
   "id": "0f4369dd",
   "metadata": {
    "scrolled": true
   },
   "outputs": [
    {
     "name": "stdout",
     "output_type": "stream",
     "text": [
      "Model: \"sequential\"\n",
      "_________________________________________________________________\n",
      "Layer (type)                 Output Shape              Param #   \n",
      "=================================================================\n",
      "3layers_for_vgg (Conv2D)     (None, 32, 32, 3)         30        \n",
      "_________________________________________________________________\n",
      "vgg16 (Functional)           (None, 1, 1, 512)         14714688  \n",
      "_________________________________________________________________\n",
      "flatten (Flatten)            (None, 512)               0         \n",
      "_________________________________________________________________\n",
      "dense (Dense)                (None, 512)               262656    \n",
      "_________________________________________________________________\n",
      "dropout (Dropout)            (None, 512)               0         \n",
      "_________________________________________________________________\n",
      "dense_1 (Dense)              (None, 340)               174420    \n",
      "=================================================================\n",
      "Total params: 15,151,794\n",
      "Trainable params: 15,151,794\n",
      "Non-trainable params: 0\n",
      "_________________________________________________________________\n"
     ]
    }
   ],
   "source": [
    "vgg_model.summary()"
   ]
  },
  {
   "cell_type": "code",
   "execution_count": 39,
   "id": "eb5f6c26",
   "metadata": {},
   "outputs": [],
   "source": [
    "vgg_model.compile(loss='categorical_crossentropy',\n",
    "              optimizer='adam',\n",
    "              metrics=['accuracy', top_3_accuracy])"
   ]
  },
  {
   "cell_type": "code",
   "execution_count": 40,
   "id": "0ba8a710",
   "metadata": {},
   "outputs": [
    {
     "name": "stdout",
     "output_type": "stream",
     "text": [
      "2125/2125 [==============================] - 278s 131ms/step - loss: 2.5948 - accuracy: 0.3795 - top_3_accuracy: 0.5892\n"
     ]
    },
    {
     "data": {
      "text/plain": [
       "[2.5948307514190674, 0.37954410910606384, 0.5891764760017395]"
      ]
     },
     "execution_count": 40,
     "metadata": {},
     "output_type": "execute_result"
    }
   ],
   "source": [
    "vgg_model.evaluate(test_dataset)"
   ]
  },
  {
   "cell_type": "markdown",
   "id": "3a68c44d",
   "metadata": {},
   "source": [
    "### VGG16 model with 128x128 (75image per class)"
   ]
  },
  {
   "cell_type": "code",
   "execution_count": 11,
   "id": "d3c069a3",
   "metadata": {},
   "outputs": [],
   "source": [
    "vgg_model_128 = tf.keras.models.load_model(\"saved_models/vgg_50img128x128_model\", custom_objects={'top_3_accuracy':top_3_accuracy})"
   ]
  },
  {
   "cell_type": "code",
   "execution_count": 35,
   "id": "6e5b495a",
   "metadata": {
    "scrolled": true
   },
   "outputs": [
    {
     "name": "stdout",
     "output_type": "stream",
     "text": [
      "Model: \"sequential_3\"\n",
      "_________________________________________________________________\n",
      "Layer (type)                 Output Shape              Param #   \n",
      "=================================================================\n",
      "3layers_for_vgg (Conv2D)     (None, 128, 128, 3)       30        \n",
      "_________________________________________________________________\n",
      "vgg16 (Functional)           (None, 4, 4, 512)         14714688  \n",
      "_________________________________________________________________\n",
      "global_average_pooling2d_2 ( (None, 512)               0         \n",
      "_________________________________________________________________\n",
      "dense_6 (Dense)              (None, 512)               262656    \n",
      "_________________________________________________________________\n",
      "dropout_3 (Dropout)          (None, 512)               0         \n",
      "_________________________________________________________________\n",
      "dense_7 (Dense)              (None, 340)               174420    \n",
      "=================================================================\n",
      "Total params: 15,151,794\n",
      "Trainable params: 15,151,794\n",
      "Non-trainable params: 0\n",
      "_________________________________________________________________\n"
     ]
    }
   ],
   "source": [
    "vgg_model_128.summary()"
   ]
  },
  {
   "cell_type": "code",
   "execution_count": 36,
   "id": "0f6c117e",
   "metadata": {},
   "outputs": [],
   "source": [
    "vgg_model_128.compile(loss='categorical_crossentropy',\n",
    "              optimizer='adam',\n",
    "              metrics=['accuracy', top_3_accuracy])"
   ]
  },
  {
   "cell_type": "code",
   "execution_count": 73,
   "id": "9fc07ecc",
   "metadata": {},
   "outputs": [
    {
     "name": "stdout",
     "output_type": "stream",
     "text": [
      "79/79 [==============================] - 158s 2s/step - loss: 1.6551 - accuracy: 0.5641 - top_3_accuracy: 0.7844\n"
     ]
    },
    {
     "data": {
      "text/plain": [
       "[1.6550629138946533, 0.5640822649002075, 0.784414529800415]"
      ]
     },
     "execution_count": 73,
     "metadata": {},
     "output_type": "execute_result"
    }
   ],
   "source": [
    "vgg_model_128.evaluate(test_dataset)"
   ]
  },
  {
   "cell_type": "markdown",
   "id": "86f4957b",
   "metadata": {},
   "source": [
    "We got a much better score of 0.78 for top 3 accuracy with the VGG16 model with 128x128 images.\n",
    "\n",
    "The model trained with a bigger dimension of image proves to be better for the VGG model as the weights are trained with 224x224 images. Downsizing our dimensions too much gives us a worse score than the custom CNN model. One drawback of a bigger dimension is that I was not able to read in as much images. I was only able to read in 75 images before the RAM usage in Google Colab crashed the session. "
   ]
  },
  {
   "cell_type": "markdown",
   "id": "5ec467da",
   "metadata": {},
   "source": [
    "## Submissions"
   ]
  },
  {
   "cell_type": "markdown",
   "id": "2ebffe43",
   "metadata": {},
   "source": [
    "### Basic CNN model"
   ]
  },
  {
   "cell_type": "code",
   "execution_count": 47,
   "id": "896baa18",
   "metadata": {},
   "outputs": [
    {
     "data": {
      "text/html": [
       "<div>\n",
       "<style scoped>\n",
       "    .dataframe tbody tr th:only-of-type {\n",
       "        vertical-align: middle;\n",
       "    }\n",
       "\n",
       "    .dataframe tbody tr th {\n",
       "        vertical-align: top;\n",
       "    }\n",
       "\n",
       "    .dataframe thead th {\n",
       "        text-align: right;\n",
       "    }\n",
       "</style>\n",
       "<table border=\"1\" class=\"dataframe\">\n",
       "  <thead>\n",
       "    <tr style=\"text-align: right;\">\n",
       "      <th></th>\n",
       "      <th>key_id</th>\n",
       "      <th>drawing</th>\n",
       "    </tr>\n",
       "  </thead>\n",
       "  <tbody>\n",
       "    <tr>\n",
       "      <th>0</th>\n",
       "      <td>9000003627287624</td>\n",
       "      <td>[[[17, 18, 20, 25, 137, 174, 242, 249, 251, 25...</td>\n",
       "    </tr>\n",
       "    <tr>\n",
       "      <th>1</th>\n",
       "      <td>9000010688666847</td>\n",
       "      <td>[[[174, 145, 106, 38, 11, 4, 4, 15, 29, 78, 16...</td>\n",
       "    </tr>\n",
       "    <tr>\n",
       "      <th>2</th>\n",
       "      <td>9000023642890129</td>\n",
       "      <td>[[[0, 12, 14, 17, 16, 24, 55, 57, 60, 79, 82, ...</td>\n",
       "    </tr>\n",
       "    <tr>\n",
       "      <th>3</th>\n",
       "      <td>9000038588854897</td>\n",
       "      <td>[[[0, 9, 23, 40, 54, 60, 81, 105, 123, 167, 20...</td>\n",
       "    </tr>\n",
       "    <tr>\n",
       "      <th>4</th>\n",
       "      <td>9000052667981386</td>\n",
       "      <td>[[[87, 82, 71, 63, 66, 92, 96, 95], [220, 218,...</td>\n",
       "    </tr>\n",
       "  </tbody>\n",
       "</table>\n",
       "</div>"
      ],
      "text/plain": [
       "             key_id                                            drawing\n",
       "0  9000003627287624  [[[17, 18, 20, 25, 137, 174, 242, 249, 251, 25...\n",
       "1  9000010688666847  [[[174, 145, 106, 38, 11, 4, 4, 15, 29, 78, 16...\n",
       "2  9000023642890129  [[[0, 12, 14, 17, 16, 24, 55, 57, 60, 79, 82, ...\n",
       "3  9000038588854897  [[[0, 9, 23, 40, 54, 60, 81, 105, 123, 167, 20...\n",
       "4  9000052667981386  [[[87, 82, 71, 63, 66, 92, 96, 95], [220, 218,..."
      ]
     },
     "execution_count": 47,
     "metadata": {},
     "output_type": "execute_result"
    }
   ],
   "source": [
    "# Read the test csv data \n",
    "test = pd.read_csv('test_simplified.csv', usecols = ['key_id', 'drawing'])"
   ]
  },
  {
   "cell_type": "code",
   "execution_count": 48,
   "id": "0232f6f1",
   "metadata": {},
   "outputs": [
    {
     "data": {
      "application/javascript": [
       "$(document).ready(\n",
       "    function() {\n",
       "        function appendUniqueDiv(){\n",
       "            // append a div with our uuid so we can check that it's already\n",
       "            // been sent and avoid duplicates on page reload\n",
       "            var notifiedDiv = document.createElement(\"div\")\n",
       "            notifiedDiv.id = \"6fc79940-a824-4fe2-88dd-382520301c37\"\n",
       "            element.append(notifiedDiv)\n",
       "        }\n",
       "\n",
       "        // only send notifications if the pageload is complete; this will\n",
       "        // help stop extra notifications when a saved notebook is loaded,\n",
       "        // which during testing gives us state \"interactive\", not \"complete\"\n",
       "        if (document.readyState === 'complete') {\n",
       "            // check for the div that signifies that the notification\n",
       "            // was already sent\n",
       "            if (document.getElementById(\"6fc79940-a824-4fe2-88dd-382520301c37\") === null) {\n",
       "                var notificationPayload = {\"requireInteraction\": false, \"icon\": \"/static/base/images/favicon.ico\", \"body\": \"Cell execution has finished!\"};\n",
       "                if (Notification.permission !== 'denied') {\n",
       "                    if (Notification.permission !== 'granted') { \n",
       "                        Notification.requestPermission(function (permission) {\n",
       "                            if(!('permission' in Notification)) {\n",
       "                                Notification.permission = permission\n",
       "                            }\n",
       "                        })\n",
       "                    }\n",
       "                    if (Notification.permission === 'granted') {\n",
       "                    var notification = new Notification(\"Jupyter Notebook\", notificationPayload)\n",
       "                    appendUniqueDiv()\n",
       "                    notification.onclick = function () {\n",
       "                        window.focus();\n",
       "                        this.close();\n",
       "                        };\n",
       "                    } \n",
       "                }     \n",
       "            }\n",
       "        }\n",
       "    }\n",
       ")\n"
      ],
      "text/plain": [
       "<IPython.core.display.Javascript object>"
      ]
     },
     "metadata": {},
     "output_type": "display_data"
    }
   ],
   "source": [
    "%%notify\n",
    "test.drawing = test.drawing.map(draw_resize)"
   ]
  },
  {
   "cell_type": "code",
   "execution_count": 49,
   "id": "17709ad6",
   "metadata": {},
   "outputs": [
    {
     "data": {
      "text/html": [
       "<div>\n",
       "<style scoped>\n",
       "    .dataframe tbody tr th:only-of-type {\n",
       "        vertical-align: middle;\n",
       "    }\n",
       "\n",
       "    .dataframe tbody tr th {\n",
       "        vertical-align: top;\n",
       "    }\n",
       "\n",
       "    .dataframe thead th {\n",
       "        text-align: right;\n",
       "    }\n",
       "</style>\n",
       "<table border=\"1\" class=\"dataframe\">\n",
       "  <thead>\n",
       "    <tr style=\"text-align: right;\">\n",
       "      <th></th>\n",
       "      <th>key_id</th>\n",
       "      <th>drawing</th>\n",
       "    </tr>\n",
       "  </thead>\n",
       "  <tbody>\n",
       "    <tr>\n",
       "      <th>0</th>\n",
       "      <td>9000003627287624</td>\n",
       "      <td>[[0.0, 1.0, 1.0, 1.0, 1.0, 1.0, 1.0, 1.0, 1.0,...</td>\n",
       "    </tr>\n",
       "    <tr>\n",
       "      <th>1</th>\n",
       "      <td>9000010688666847</td>\n",
       "      <td>[[1.0, 1.0, 1.0, 1.0, 1.0, 1.0, 1.0, 1.0, 1.0,...</td>\n",
       "    </tr>\n",
       "    <tr>\n",
       "      <th>2</th>\n",
       "      <td>9000023642890129</td>\n",
       "      <td>[[1.0, 1.0, 1.0, 1.0, 1.0, 1.0, 1.0, 1.0, 1.0,...</td>\n",
       "    </tr>\n",
       "    <tr>\n",
       "      <th>3</th>\n",
       "      <td>9000038588854897</td>\n",
       "      <td>[[1.0, 1.0, 1.0, 1.0, 1.0, 1.0, 1.0, 1.0, 1.0,...</td>\n",
       "    </tr>\n",
       "    <tr>\n",
       "      <th>4</th>\n",
       "      <td>9000052667981386</td>\n",
       "      <td>[[1.0, 1.0, 1.0, 1.0, 1.0, 1.0, 1.0, 1.0, 1.0,...</td>\n",
       "    </tr>\n",
       "  </tbody>\n",
       "</table>\n",
       "</div>"
      ],
      "text/plain": [
       "             key_id                                            drawing\n",
       "0  9000003627287624  [[0.0, 1.0, 1.0, 1.0, 1.0, 1.0, 1.0, 1.0, 1.0,...\n",
       "1  9000010688666847  [[1.0, 1.0, 1.0, 1.0, 1.0, 1.0, 1.0, 1.0, 1.0,...\n",
       "2  9000023642890129  [[1.0, 1.0, 1.0, 1.0, 1.0, 1.0, 1.0, 1.0, 1.0,...\n",
       "3  9000038588854897  [[1.0, 1.0, 1.0, 1.0, 1.0, 1.0, 1.0, 1.0, 1.0,...\n",
       "4  9000052667981386  [[1.0, 1.0, 1.0, 1.0, 1.0, 1.0, 1.0, 1.0, 1.0,..."
      ]
     },
     "execution_count": 49,
     "metadata": {},
     "output_type": "execute_result"
    }
   ],
   "source": [
    "test.head()"
   ]
  },
  {
   "cell_type": "code",
   "execution_count": 52,
   "id": "65420f95",
   "metadata": {},
   "outputs": [],
   "source": [
    "sub_test_tf = tf.constant(test.drawing.tolist(), shape = (test.shape[0], imheight, imwidth, 1))"
   ]
  },
  {
   "cell_type": "code",
   "execution_count": 54,
   "id": "7b7c047b",
   "metadata": {},
   "outputs": [],
   "source": [
    "sub_preds = best_model.predict(sub_test_tf)"
   ]
  },
  {
   "cell_type": "code",
   "execution_count": 60,
   "id": "41486f78",
   "metadata": {},
   "outputs": [],
   "source": [
    "sub_preds_num = np.argsort(-sub_preds)[:, 0:3]"
   ]
  },
  {
   "cell_type": "code",
   "execution_count": 69,
   "id": "a8724c15",
   "metadata": {},
   "outputs": [
    {
     "data": {
      "text/html": [
       "<div>\n",
       "<style scoped>\n",
       "    .dataframe tbody tr th:only-of-type {\n",
       "        vertical-align: middle;\n",
       "    }\n",
       "\n",
       "    .dataframe tbody tr th {\n",
       "        vertical-align: top;\n",
       "    }\n",
       "\n",
       "    .dataframe thead th {\n",
       "        text-align: right;\n",
       "    }\n",
       "</style>\n",
       "<table border=\"1\" class=\"dataframe\">\n",
       "  <thead>\n",
       "    <tr style=\"text-align: right;\">\n",
       "      <th></th>\n",
       "      <th>first</th>\n",
       "      <th>second</th>\n",
       "      <th>third</th>\n",
       "    </tr>\n",
       "  </thead>\n",
       "  <tbody>\n",
       "    <tr>\n",
       "      <th>0</th>\n",
       "      <td>radio</td>\n",
       "      <td>stereo</td>\n",
       "      <td>motorbike</td>\n",
       "    </tr>\n",
       "    <tr>\n",
       "      <th>1</th>\n",
       "      <td>hockey_puck</td>\n",
       "      <td>pool</td>\n",
       "      <td>belt</td>\n",
       "    </tr>\n",
       "    <tr>\n",
       "      <th>2</th>\n",
       "      <td>castle</td>\n",
       "      <td>The_Great_Wall_of_China</td>\n",
       "      <td>camel</td>\n",
       "    </tr>\n",
       "    <tr>\n",
       "      <th>3</th>\n",
       "      <td>mountain</td>\n",
       "      <td>tent</td>\n",
       "      <td>triangle</td>\n",
       "    </tr>\n",
       "    <tr>\n",
       "      <th>4</th>\n",
       "      <td>campfire</td>\n",
       "      <td>feather</td>\n",
       "      <td>waterslide</td>\n",
       "    </tr>\n",
       "    <tr>\n",
       "      <th>...</th>\n",
       "      <td>...</td>\n",
       "      <td>...</td>\n",
       "      <td>...</td>\n",
       "    </tr>\n",
       "    <tr>\n",
       "      <th>112194</th>\n",
       "      <td>blueberry</td>\n",
       "      <td>apple</td>\n",
       "      <td>circle</td>\n",
       "    </tr>\n",
       "    <tr>\n",
       "      <th>112195</th>\n",
       "      <td>skull</td>\n",
       "      <td>mushroom</td>\n",
       "      <td>rain</td>\n",
       "    </tr>\n",
       "    <tr>\n",
       "      <th>112196</th>\n",
       "      <td>broccoli</td>\n",
       "      <td>rain</td>\n",
       "      <td>tree</td>\n",
       "    </tr>\n",
       "    <tr>\n",
       "      <th>112197</th>\n",
       "      <td>brain</td>\n",
       "      <td>backpack</td>\n",
       "      <td>camouflage</td>\n",
       "    </tr>\n",
       "    <tr>\n",
       "      <th>112198</th>\n",
       "      <td>chair</td>\n",
       "      <td>toilet</td>\n",
       "      <td>cooler</td>\n",
       "    </tr>\n",
       "  </tbody>\n",
       "</table>\n",
       "<p>112199 rows × 3 columns</p>\n",
       "</div>"
      ],
      "text/plain": [
       "              first                   second       third\n",
       "0             radio                   stereo   motorbike\n",
       "1       hockey_puck                     pool        belt\n",
       "2            castle  The_Great_Wall_of_China       camel\n",
       "3          mountain                     tent    triangle\n",
       "4          campfire                  feather  waterslide\n",
       "...             ...                      ...         ...\n",
       "112194    blueberry                    apple      circle\n",
       "112195        skull                 mushroom        rain\n",
       "112196     broccoli                     rain        tree\n",
       "112197        brain                 backpack  camouflage\n",
       "112198        chair                   toilet      cooler\n",
       "\n",
       "[112199 rows x 3 columns]"
      ]
     },
     "execution_count": 69,
     "metadata": {},
     "output_type": "execute_result"
    }
   ],
   "source": [
    "preds_df = pd.DataFrame({'first': sub_preds_num[:,0], 'second': sub_preds_num[:,1], 'third': sub_preds_num[:,2]})\n",
    "preds_df = preds_df.replace(numstonames)\n",
    "preds_df['words'] = preds_df['first'] + \" \" + preds_df['second'] + \" \" + preds_df['third']"
   ]
  },
  {
   "cell_type": "code",
   "execution_count": 80,
   "id": "ba5d5630",
   "metadata": {},
   "outputs": [
    {
     "data": {
      "text/plain": [
       "0                  radio stereo motorbike\n",
       "1                   hockey_puck pool belt\n",
       "2    castle The_Great_Wall_of_China camel\n",
       "3                  mountain tent triangle\n",
       "4             campfire feather waterslide\n",
       "Name: words, dtype: object"
      ]
     },
     "execution_count": 80,
     "metadata": {},
     "output_type": "execute_result"
    }
   ],
   "source": [
    "preds_df.words.head()"
   ]
  },
  {
   "cell_type": "code",
   "execution_count": 75,
   "id": "7ca0257b",
   "metadata": {},
   "outputs": [],
   "source": [
    "test['word'] = preds_df.words.values"
   ]
  },
  {
   "cell_type": "code",
   "execution_count": 77,
   "id": "c52cc4db",
   "metadata": {},
   "outputs": [],
   "source": [
    "submission = test[['key_id', 'word']]"
   ]
  },
  {
   "cell_type": "code",
   "execution_count": 79,
   "id": "c19ca8b8",
   "metadata": {},
   "outputs": [],
   "source": [
    "submission.to_csv('kaggle_subs/kag_sub_CNN2000.csv', index=False)"
   ]
  },
  {
   "cell_type": "markdown",
   "id": "26d1977d",
   "metadata": {},
   "source": [
    "Got a kaggle score of 0.60811 for custom CNN model"
   ]
  },
  {
   "cell_type": "markdown",
   "id": "cb366ac5",
   "metadata": {},
   "source": [
    "### VGG16 128x128 model"
   ]
  },
  {
   "cell_type": "code",
   "execution_count": 5,
   "id": "33494df1",
   "metadata": {},
   "outputs": [],
   "source": [
    "# Read the test csv data \n",
    "test = pd.read_csv('test_simplified.csv', usecols = ['key_id', 'drawing'])"
   ]
  },
  {
   "cell_type": "code",
   "execution_count": 6,
   "id": "8c5e7fdd",
   "metadata": {},
   "outputs": [
    {
     "data": {
      "application/javascript": [
       "$(document).ready(\n",
       "    function() {\n",
       "        function appendUniqueDiv(){\n",
       "            // append a div with our uuid so we can check that it's already\n",
       "            // been sent and avoid duplicates on page reload\n",
       "            var notifiedDiv = document.createElement(\"div\")\n",
       "            notifiedDiv.id = \"59026ee7-6d40-470d-8534-b3cab0d81e8b\"\n",
       "            element.append(notifiedDiv)\n",
       "        }\n",
       "\n",
       "        // only send notifications if the pageload is complete; this will\n",
       "        // help stop extra notifications when a saved notebook is loaded,\n",
       "        // which during testing gives us state \"interactive\", not \"complete\"\n",
       "        if (document.readyState === 'complete') {\n",
       "            // check for the div that signifies that the notification\n",
       "            // was already sent\n",
       "            if (document.getElementById(\"59026ee7-6d40-470d-8534-b3cab0d81e8b\") === null) {\n",
       "                var notificationPayload = {\"requireInteraction\": false, \"icon\": \"/static/base/images/favicon.ico\", \"body\": \"Cell execution has finished!\"};\n",
       "                if (Notification.permission !== 'denied') {\n",
       "                    if (Notification.permission !== 'granted') { \n",
       "                        Notification.requestPermission(function (permission) {\n",
       "                            if(!('permission' in Notification)) {\n",
       "                                Notification.permission = permission\n",
       "                            }\n",
       "                        })\n",
       "                    }\n",
       "                    if (Notification.permission === 'granted') {\n",
       "                    var notification = new Notification(\"Jupyter Notebook\", notificationPayload)\n",
       "                    appendUniqueDiv()\n",
       "                    notification.onclick = function () {\n",
       "                        window.focus();\n",
       "                        this.close();\n",
       "                        };\n",
       "                    } \n",
       "                }     \n",
       "            }\n",
       "        }\n",
       "    }\n",
       ")\n"
      ],
      "text/plain": [
       "<IPython.core.display.Javascript object>"
      ]
     },
     "metadata": {},
     "output_type": "display_data"
    }
   ],
   "source": [
    "%%notify\n",
    "test.drawing = test.drawing.map(draw_resize)"
   ]
  },
  {
   "cell_type": "code",
   "execution_count": 7,
   "id": "223828e4",
   "metadata": {
    "scrolled": true
   },
   "outputs": [],
   "source": [
    "sub_test_tf = tf.constant(test.drawing.tolist(), shape = (test.shape[0], imheight, imwidth, 1))"
   ]
  },
  {
   "cell_type": "code",
   "execution_count": 12,
   "id": "d3850eb1",
   "metadata": {
    "scrolled": true
   },
   "outputs": [
    {
     "ename": "KeyboardInterrupt",
     "evalue": "",
     "output_type": "error",
     "traceback": [
      "\u001b[1;31m---------------------------------------------------------------------------\u001b[0m",
      "\u001b[1;31mKeyboardInterrupt\u001b[0m                         Traceback (most recent call last)",
      "\u001b[1;32m<ipython-input-12-dcb9da5b2647>\u001b[0m in \u001b[0;36m<module>\u001b[1;34m\u001b[0m\n\u001b[1;32m----> 1\u001b[1;33m \u001b[0msub_preds\u001b[0m \u001b[1;33m=\u001b[0m \u001b[0mvgg_model_128\u001b[0m\u001b[1;33m.\u001b[0m\u001b[0mpredict\u001b[0m\u001b[1;33m(\u001b[0m\u001b[0msub_test_tf\u001b[0m\u001b[1;33m)\u001b[0m\u001b[1;33m\u001b[0m\u001b[1;33m\u001b[0m\u001b[0m\n\u001b[0m\u001b[0;32m      2\u001b[0m \u001b[0msub_preds_num\u001b[0m \u001b[1;33m=\u001b[0m \u001b[0mnp\u001b[0m\u001b[1;33m.\u001b[0m\u001b[0margsort\u001b[0m\u001b[1;33m(\u001b[0m\u001b[1;33m-\u001b[0m\u001b[0msub_preds\u001b[0m\u001b[1;33m)\u001b[0m\u001b[1;33m[\u001b[0m\u001b[1;33m:\u001b[0m\u001b[1;33m,\u001b[0m \u001b[1;36m0\u001b[0m\u001b[1;33m:\u001b[0m\u001b[1;36m3\u001b[0m\u001b[1;33m]\u001b[0m\u001b[1;33m\u001b[0m\u001b[1;33m\u001b[0m\u001b[0m\n",
      "\u001b[1;32m~\\anaconda3\\envs\\tensordsi\\lib\\site-packages\\tensorflow\\python\\keras\\engine\\training.py\u001b[0m in \u001b[0;36m_method_wrapper\u001b[1;34m(self, *args, **kwargs)\u001b[0m\n\u001b[0;32m    128\u001b[0m       raise ValueError('{} is not supported in multi-worker mode.'.format(\n\u001b[0;32m    129\u001b[0m           method.__name__))\n\u001b[1;32m--> 130\u001b[1;33m     \u001b[1;32mreturn\u001b[0m \u001b[0mmethod\u001b[0m\u001b[1;33m(\u001b[0m\u001b[0mself\u001b[0m\u001b[1;33m,\u001b[0m \u001b[1;33m*\u001b[0m\u001b[0margs\u001b[0m\u001b[1;33m,\u001b[0m \u001b[1;33m**\u001b[0m\u001b[0mkwargs\u001b[0m\u001b[1;33m)\u001b[0m\u001b[1;33m\u001b[0m\u001b[1;33m\u001b[0m\u001b[0m\n\u001b[0m\u001b[0;32m    131\u001b[0m \u001b[1;33m\u001b[0m\u001b[0m\n\u001b[0;32m    132\u001b[0m   return tf_decorator.make_decorator(\n",
      "\u001b[1;32m~\\anaconda3\\envs\\tensordsi\\lib\\site-packages\\tensorflow\\python\\keras\\engine\\training.py\u001b[0m in \u001b[0;36mpredict\u001b[1;34m(self, x, batch_size, verbose, steps, callbacks, max_queue_size, workers, use_multiprocessing)\u001b[0m\n\u001b[0;32m   1597\u001b[0m           \u001b[1;32mfor\u001b[0m \u001b[0mstep\u001b[0m \u001b[1;32min\u001b[0m \u001b[0mdata_handler\u001b[0m\u001b[1;33m.\u001b[0m\u001b[0msteps\u001b[0m\u001b[1;33m(\u001b[0m\u001b[1;33m)\u001b[0m\u001b[1;33m:\u001b[0m\u001b[1;33m\u001b[0m\u001b[1;33m\u001b[0m\u001b[0m\n\u001b[0;32m   1598\u001b[0m             \u001b[0mcallbacks\u001b[0m\u001b[1;33m.\u001b[0m\u001b[0mon_predict_batch_begin\u001b[0m\u001b[1;33m(\u001b[0m\u001b[0mstep\u001b[0m\u001b[1;33m)\u001b[0m\u001b[1;33m\u001b[0m\u001b[1;33m\u001b[0m\u001b[0m\n\u001b[1;32m-> 1599\u001b[1;33m             \u001b[0mtmp_batch_outputs\u001b[0m \u001b[1;33m=\u001b[0m \u001b[0mpredict_function\u001b[0m\u001b[1;33m(\u001b[0m\u001b[0miterator\u001b[0m\u001b[1;33m)\u001b[0m\u001b[1;33m\u001b[0m\u001b[1;33m\u001b[0m\u001b[0m\n\u001b[0m\u001b[0;32m   1600\u001b[0m             \u001b[1;32mif\u001b[0m \u001b[0mdata_handler\u001b[0m\u001b[1;33m.\u001b[0m\u001b[0mshould_sync\u001b[0m\u001b[1;33m:\u001b[0m\u001b[1;33m\u001b[0m\u001b[1;33m\u001b[0m\u001b[0m\n\u001b[0;32m   1601\u001b[0m               \u001b[0mcontext\u001b[0m\u001b[1;33m.\u001b[0m\u001b[0masync_wait\u001b[0m\u001b[1;33m(\u001b[0m\u001b[1;33m)\u001b[0m\u001b[1;33m\u001b[0m\u001b[1;33m\u001b[0m\u001b[0m\n",
      "\u001b[1;32m~\\anaconda3\\envs\\tensordsi\\lib\\site-packages\\tensorflow\\python\\eager\\def_function.py\u001b[0m in \u001b[0;36m__call__\u001b[1;34m(self, *args, **kwds)\u001b[0m\n\u001b[0;32m    778\u001b[0m       \u001b[1;32melse\u001b[0m\u001b[1;33m:\u001b[0m\u001b[1;33m\u001b[0m\u001b[1;33m\u001b[0m\u001b[0m\n\u001b[0;32m    779\u001b[0m         \u001b[0mcompiler\u001b[0m \u001b[1;33m=\u001b[0m \u001b[1;34m\"nonXla\"\u001b[0m\u001b[1;33m\u001b[0m\u001b[1;33m\u001b[0m\u001b[0m\n\u001b[1;32m--> 780\u001b[1;33m         \u001b[0mresult\u001b[0m \u001b[1;33m=\u001b[0m \u001b[0mself\u001b[0m\u001b[1;33m.\u001b[0m\u001b[0m_call\u001b[0m\u001b[1;33m(\u001b[0m\u001b[1;33m*\u001b[0m\u001b[0margs\u001b[0m\u001b[1;33m,\u001b[0m \u001b[1;33m**\u001b[0m\u001b[0mkwds\u001b[0m\u001b[1;33m)\u001b[0m\u001b[1;33m\u001b[0m\u001b[1;33m\u001b[0m\u001b[0m\n\u001b[0m\u001b[0;32m    781\u001b[0m \u001b[1;33m\u001b[0m\u001b[0m\n\u001b[0;32m    782\u001b[0m       \u001b[0mnew_tracing_count\u001b[0m \u001b[1;33m=\u001b[0m \u001b[0mself\u001b[0m\u001b[1;33m.\u001b[0m\u001b[0m_get_tracing_count\u001b[0m\u001b[1;33m(\u001b[0m\u001b[1;33m)\u001b[0m\u001b[1;33m\u001b[0m\u001b[1;33m\u001b[0m\u001b[0m\n",
      "\u001b[1;32m~\\anaconda3\\envs\\tensordsi\\lib\\site-packages\\tensorflow\\python\\eager\\def_function.py\u001b[0m in \u001b[0;36m_call\u001b[1;34m(self, *args, **kwds)\u001b[0m\n\u001b[0;32m    812\u001b[0m       \u001b[1;31m# In this case we have not created variables on the first call. So we can\u001b[0m\u001b[1;33m\u001b[0m\u001b[1;33m\u001b[0m\u001b[1;33m\u001b[0m\u001b[0m\n\u001b[0;32m    813\u001b[0m       \u001b[1;31m# run the first trace but we should fail if variables are created.\u001b[0m\u001b[1;33m\u001b[0m\u001b[1;33m\u001b[0m\u001b[1;33m\u001b[0m\u001b[0m\n\u001b[1;32m--> 814\u001b[1;33m       \u001b[0mresults\u001b[0m \u001b[1;33m=\u001b[0m \u001b[0mself\u001b[0m\u001b[1;33m.\u001b[0m\u001b[0m_stateful_fn\u001b[0m\u001b[1;33m(\u001b[0m\u001b[1;33m*\u001b[0m\u001b[0margs\u001b[0m\u001b[1;33m,\u001b[0m \u001b[1;33m**\u001b[0m\u001b[0mkwds\u001b[0m\u001b[1;33m)\u001b[0m\u001b[1;33m\u001b[0m\u001b[1;33m\u001b[0m\u001b[0m\n\u001b[0m\u001b[0;32m    815\u001b[0m       \u001b[1;32mif\u001b[0m \u001b[0mself\u001b[0m\u001b[1;33m.\u001b[0m\u001b[0m_created_variables\u001b[0m\u001b[1;33m:\u001b[0m\u001b[1;33m\u001b[0m\u001b[1;33m\u001b[0m\u001b[0m\n\u001b[0;32m    816\u001b[0m         raise ValueError(\"Creating variables on a non-first call to a function\"\n",
      "\u001b[1;32m~\\anaconda3\\envs\\tensordsi\\lib\\site-packages\\tensorflow\\python\\eager\\function.py\u001b[0m in \u001b[0;36m__call__\u001b[1;34m(self, *args, **kwargs)\u001b[0m\n\u001b[0;32m   2827\u001b[0m     \u001b[1;32mwith\u001b[0m \u001b[0mself\u001b[0m\u001b[1;33m.\u001b[0m\u001b[0m_lock\u001b[0m\u001b[1;33m:\u001b[0m\u001b[1;33m\u001b[0m\u001b[1;33m\u001b[0m\u001b[0m\n\u001b[0;32m   2828\u001b[0m       \u001b[0mgraph_function\u001b[0m\u001b[1;33m,\u001b[0m \u001b[0margs\u001b[0m\u001b[1;33m,\u001b[0m \u001b[0mkwargs\u001b[0m \u001b[1;33m=\u001b[0m \u001b[0mself\u001b[0m\u001b[1;33m.\u001b[0m\u001b[0m_maybe_define_function\u001b[0m\u001b[1;33m(\u001b[0m\u001b[0margs\u001b[0m\u001b[1;33m,\u001b[0m \u001b[0mkwargs\u001b[0m\u001b[1;33m)\u001b[0m\u001b[1;33m\u001b[0m\u001b[1;33m\u001b[0m\u001b[0m\n\u001b[1;32m-> 2829\u001b[1;33m     \u001b[1;32mreturn\u001b[0m \u001b[0mgraph_function\u001b[0m\u001b[1;33m.\u001b[0m\u001b[0m_filtered_call\u001b[0m\u001b[1;33m(\u001b[0m\u001b[0margs\u001b[0m\u001b[1;33m,\u001b[0m \u001b[0mkwargs\u001b[0m\u001b[1;33m)\u001b[0m  \u001b[1;31m# pylint: disable=protected-access\u001b[0m\u001b[1;33m\u001b[0m\u001b[1;33m\u001b[0m\u001b[0m\n\u001b[0m\u001b[0;32m   2830\u001b[0m \u001b[1;33m\u001b[0m\u001b[0m\n\u001b[0;32m   2831\u001b[0m   \u001b[1;33m@\u001b[0m\u001b[0mproperty\u001b[0m\u001b[1;33m\u001b[0m\u001b[1;33m\u001b[0m\u001b[0m\n",
      "\u001b[1;32m~\\anaconda3\\envs\\tensordsi\\lib\\site-packages\\tensorflow\\python\\eager\\function.py\u001b[0m in \u001b[0;36m_filtered_call\u001b[1;34m(self, args, kwargs, cancellation_manager)\u001b[0m\n\u001b[0;32m   1841\u001b[0m       \u001b[0;31m`\u001b[0m\u001b[0margs\u001b[0m\u001b[0;31m`\u001b[0m \u001b[1;32mand\u001b[0m\u001b[0;31m \u001b[0m\u001b[0;31m`\u001b[0m\u001b[0mkwargs\u001b[0m\u001b[0;31m`\u001b[0m\u001b[1;33m.\u001b[0m\u001b[1;33m\u001b[0m\u001b[1;33m\u001b[0m\u001b[0m\n\u001b[0;32m   1842\u001b[0m     \"\"\"\n\u001b[1;32m-> 1843\u001b[1;33m     return self._call_flat(\n\u001b[0m\u001b[0;32m   1844\u001b[0m         [t for t in nest.flatten((args, kwargs), expand_composites=True)\n\u001b[0;32m   1845\u001b[0m          if isinstance(t, (ops.Tensor,\n",
      "\u001b[1;32m~\\anaconda3\\envs\\tensordsi\\lib\\site-packages\\tensorflow\\python\\eager\\function.py\u001b[0m in \u001b[0;36m_call_flat\u001b[1;34m(self, args, captured_inputs, cancellation_manager)\u001b[0m\n\u001b[0;32m   1921\u001b[0m         and executing_eagerly):\n\u001b[0;32m   1922\u001b[0m       \u001b[1;31m# No tape is watching; skip to running the function.\u001b[0m\u001b[1;33m\u001b[0m\u001b[1;33m\u001b[0m\u001b[1;33m\u001b[0m\u001b[0m\n\u001b[1;32m-> 1923\u001b[1;33m       return self._build_call_outputs(self._inference_function.call(\n\u001b[0m\u001b[0;32m   1924\u001b[0m           ctx, args, cancellation_manager=cancellation_manager))\n\u001b[0;32m   1925\u001b[0m     forward_backward = self._select_forward_and_backward_functions(\n",
      "\u001b[1;32m~\\anaconda3\\envs\\tensordsi\\lib\\site-packages\\tensorflow\\python\\eager\\function.py\u001b[0m in \u001b[0;36mcall\u001b[1;34m(self, ctx, args, cancellation_manager)\u001b[0m\n\u001b[0;32m    543\u001b[0m       \u001b[1;32mwith\u001b[0m \u001b[0m_InterpolateFunctionError\u001b[0m\u001b[1;33m(\u001b[0m\u001b[0mself\u001b[0m\u001b[1;33m)\u001b[0m\u001b[1;33m:\u001b[0m\u001b[1;33m\u001b[0m\u001b[1;33m\u001b[0m\u001b[0m\n\u001b[0;32m    544\u001b[0m         \u001b[1;32mif\u001b[0m \u001b[0mcancellation_manager\u001b[0m \u001b[1;32mis\u001b[0m \u001b[1;32mNone\u001b[0m\u001b[1;33m:\u001b[0m\u001b[1;33m\u001b[0m\u001b[1;33m\u001b[0m\u001b[0m\n\u001b[1;32m--> 545\u001b[1;33m           outputs = execute.execute(\n\u001b[0m\u001b[0;32m    546\u001b[0m               \u001b[0mstr\u001b[0m\u001b[1;33m(\u001b[0m\u001b[0mself\u001b[0m\u001b[1;33m.\u001b[0m\u001b[0msignature\u001b[0m\u001b[1;33m.\u001b[0m\u001b[0mname\u001b[0m\u001b[1;33m)\u001b[0m\u001b[1;33m,\u001b[0m\u001b[1;33m\u001b[0m\u001b[1;33m\u001b[0m\u001b[0m\n\u001b[0;32m    547\u001b[0m               \u001b[0mnum_outputs\u001b[0m\u001b[1;33m=\u001b[0m\u001b[0mself\u001b[0m\u001b[1;33m.\u001b[0m\u001b[0m_num_outputs\u001b[0m\u001b[1;33m,\u001b[0m\u001b[1;33m\u001b[0m\u001b[1;33m\u001b[0m\u001b[0m\n",
      "\u001b[1;32m~\\anaconda3\\envs\\tensordsi\\lib\\site-packages\\tensorflow\\python\\eager\\execute.py\u001b[0m in \u001b[0;36mquick_execute\u001b[1;34m(op_name, num_outputs, inputs, attrs, ctx, name)\u001b[0m\n\u001b[0;32m     57\u001b[0m   \u001b[1;32mtry\u001b[0m\u001b[1;33m:\u001b[0m\u001b[1;33m\u001b[0m\u001b[1;33m\u001b[0m\u001b[0m\n\u001b[0;32m     58\u001b[0m     \u001b[0mctx\u001b[0m\u001b[1;33m.\u001b[0m\u001b[0mensure_initialized\u001b[0m\u001b[1;33m(\u001b[0m\u001b[1;33m)\u001b[0m\u001b[1;33m\u001b[0m\u001b[1;33m\u001b[0m\u001b[0m\n\u001b[1;32m---> 59\u001b[1;33m     tensors = pywrap_tfe.TFE_Py_Execute(ctx._handle, device_name, op_name,\n\u001b[0m\u001b[0;32m     60\u001b[0m                                         inputs, attrs, num_outputs)\n\u001b[0;32m     61\u001b[0m   \u001b[1;32mexcept\u001b[0m \u001b[0mcore\u001b[0m\u001b[1;33m.\u001b[0m\u001b[0m_NotOkStatusException\u001b[0m \u001b[1;32mas\u001b[0m \u001b[0me\u001b[0m\u001b[1;33m:\u001b[0m\u001b[1;33m\u001b[0m\u001b[1;33m\u001b[0m\u001b[0m\n",
      "\u001b[1;31mKeyboardInterrupt\u001b[0m: "
     ]
    }
   ],
   "source": [
    "sub_preds = vgg_model_128.predict(sub_test_tf)\n",
    "sub_preds_num = np.argsort(-sub_preds)[:, 0:3]"
   ]
  },
  {
   "cell_type": "code",
   "execution_count": 69,
   "id": "e4dc230b",
   "metadata": {},
   "outputs": [
    {
     "data": {
      "text/html": [
       "<div>\n",
       "<style scoped>\n",
       "    .dataframe tbody tr th:only-of-type {\n",
       "        vertical-align: middle;\n",
       "    }\n",
       "\n",
       "    .dataframe tbody tr th {\n",
       "        vertical-align: top;\n",
       "    }\n",
       "\n",
       "    .dataframe thead th {\n",
       "        text-align: right;\n",
       "    }\n",
       "</style>\n",
       "<table border=\"1\" class=\"dataframe\">\n",
       "  <thead>\n",
       "    <tr style=\"text-align: right;\">\n",
       "      <th></th>\n",
       "      <th>first</th>\n",
       "      <th>second</th>\n",
       "      <th>third</th>\n",
       "    </tr>\n",
       "  </thead>\n",
       "  <tbody>\n",
       "    <tr>\n",
       "      <th>0</th>\n",
       "      <td>radio</td>\n",
       "      <td>stereo</td>\n",
       "      <td>motorbike</td>\n",
       "    </tr>\n",
       "    <tr>\n",
       "      <th>1</th>\n",
       "      <td>hockey_puck</td>\n",
       "      <td>pool</td>\n",
       "      <td>belt</td>\n",
       "    </tr>\n",
       "    <tr>\n",
       "      <th>2</th>\n",
       "      <td>castle</td>\n",
       "      <td>The_Great_Wall_of_China</td>\n",
       "      <td>camel</td>\n",
       "    </tr>\n",
       "    <tr>\n",
       "      <th>3</th>\n",
       "      <td>mountain</td>\n",
       "      <td>tent</td>\n",
       "      <td>triangle</td>\n",
       "    </tr>\n",
       "    <tr>\n",
       "      <th>4</th>\n",
       "      <td>campfire</td>\n",
       "      <td>feather</td>\n",
       "      <td>waterslide</td>\n",
       "    </tr>\n",
       "    <tr>\n",
       "      <th>...</th>\n",
       "      <td>...</td>\n",
       "      <td>...</td>\n",
       "      <td>...</td>\n",
       "    </tr>\n",
       "    <tr>\n",
       "      <th>112194</th>\n",
       "      <td>blueberry</td>\n",
       "      <td>apple</td>\n",
       "      <td>circle</td>\n",
       "    </tr>\n",
       "    <tr>\n",
       "      <th>112195</th>\n",
       "      <td>skull</td>\n",
       "      <td>mushroom</td>\n",
       "      <td>rain</td>\n",
       "    </tr>\n",
       "    <tr>\n",
       "      <th>112196</th>\n",
       "      <td>broccoli</td>\n",
       "      <td>rain</td>\n",
       "      <td>tree</td>\n",
       "    </tr>\n",
       "    <tr>\n",
       "      <th>112197</th>\n",
       "      <td>brain</td>\n",
       "      <td>backpack</td>\n",
       "      <td>camouflage</td>\n",
       "    </tr>\n",
       "    <tr>\n",
       "      <th>112198</th>\n",
       "      <td>chair</td>\n",
       "      <td>toilet</td>\n",
       "      <td>cooler</td>\n",
       "    </tr>\n",
       "  </tbody>\n",
       "</table>\n",
       "<p>112199 rows × 3 columns</p>\n",
       "</div>"
      ],
      "text/plain": [
       "              first                   second       third\n",
       "0             radio                   stereo   motorbike\n",
       "1       hockey_puck                     pool        belt\n",
       "2            castle  The_Great_Wall_of_China       camel\n",
       "3          mountain                     tent    triangle\n",
       "4          campfire                  feather  waterslide\n",
       "...             ...                      ...         ...\n",
       "112194    blueberry                    apple      circle\n",
       "112195        skull                 mushroom        rain\n",
       "112196     broccoli                     rain        tree\n",
       "112197        brain                 backpack  camouflage\n",
       "112198        chair                   toilet      cooler\n",
       "\n",
       "[112199 rows x 3 columns]"
      ]
     },
     "execution_count": 69,
     "metadata": {},
     "output_type": "execute_result"
    }
   ],
   "source": [
    "preds_df = pd.DataFrame({'first': sub_preds_num[:,0], 'second': sub_preds_num[:,1], 'third': sub_preds_num[:,2]})\n",
    "preds_df = preds_df.replace(numstonames)\n",
    "preds_df['words'] = preds_df['first'] + \" \" + preds_df['second'] + \" \" + preds_df['third']"
   ]
  },
  {
   "cell_type": "code",
   "execution_count": 80,
   "id": "38362a97",
   "metadata": {},
   "outputs": [
    {
     "data": {
      "text/plain": [
       "0                  radio stereo motorbike\n",
       "1                   hockey_puck pool belt\n",
       "2    castle The_Great_Wall_of_China camel\n",
       "3                  mountain tent triangle\n",
       "4             campfire feather waterslide\n",
       "Name: words, dtype: object"
      ]
     },
     "execution_count": 80,
     "metadata": {},
     "output_type": "execute_result"
    }
   ],
   "source": [
    "preds_df.words.head()"
   ]
  },
  {
   "cell_type": "code",
   "execution_count": 75,
   "id": "5b43478e",
   "metadata": {},
   "outputs": [],
   "source": [
    "test['word'] = preds_df.words.values"
   ]
  },
  {
   "cell_type": "code",
   "execution_count": 77,
   "id": "571882fc",
   "metadata": {},
   "outputs": [],
   "source": [
    "submission = test[['key_id', 'word']]"
   ]
  },
  {
   "cell_type": "code",
   "execution_count": 79,
   "id": "736e03f3",
   "metadata": {},
   "outputs": [],
   "source": [
    "submission.to_csv('kaggle_subs/kag_sub_VGG_128.csv', index=False)"
   ]
  },
  {
   "cell_type": "markdown",
   "id": "e04f0f4b",
   "metadata": {},
   "source": [
    "## Summary "
   ]
  },
  {
   "cell_type": "markdown",
   "id": "f3788b25",
   "metadata": {},
   "source": [
    "| Models          | Train top 3 accuracy | Test top 3 accuracy | Kaggle Score |\n",
    "|-----------------|----------------------|---------------------|--------------|\n",
    "| Custom CNN      | 0.74                 | 0.76                | 0.61         |\n",
    "| VGG16 (32x32)   | 0.55                 | 0.57                | Did not try  |\n",
    "| VGG16 (128x128) | 0.76                 | ***0.78***                |0.62              |"
   ]
  },
  {
   "cell_type": "markdown",
   "id": "1b90175f",
   "metadata": {},
   "source": [
    "Our best model is the VGG16 with 128x128 images. It is evident that a higher dimension image is better for a pre-trained model. However the tradeoff is that we are not able to read in a lot of images due to RAM limitations. The train score and test score do not show signs of overfitting as the scores are pretty close 0.76 and 0.78 respectively. However we only got 0.62 for the kaggle score. One likely reason is our model has not trained on enough images from the train set and it is not able to generalize well to new images outside our test set. There are over 50million images and we only trained on less than a million images. \n",
    "\n",
    "**Limitations**:\n",
    "Our model is only able to predict images from the 340 classes. It will not be able to predict drawings out of the 340 classes. It will instead predict the class that is closest to the 'never-before-seen' image. It is also not trained on colored drawing and will predict colored drawings as if it were grayscale. \n",
    "\n",
    "**Further improvements**:\n",
    "However our model is still able to predict drawings quite well with 3 guesses. Given more time and with a more powerful cloud computer, we can improve our model by reading in 224x224 images instead and training on the entire train dataset.  "
   ]
  },
  {
   "cell_type": "markdown",
   "id": "0d0f9211",
   "metadata": {},
   "source": [
    "## Conclusion"
   ]
  },
  {
   "cell_type": "markdown",
   "id": "1d044c74",
   "metadata": {},
   "source": [
    "Google will be able to build upon our model and further improve it with their expertise and computing power. One way they can capitalize on an improved model will be to create a toddler programme/application that is able to guide the toddler if he/she is drawing the right image. This will help toddlers learn how to draw and develop artistic talent at an early age. "
   ]
  }
 ],
 "metadata": {
  "kernelspec": {
   "display_name": "Python 3",
   "language": "python",
   "name": "python3"
  },
  "language_info": {
   "codemirror_mode": {
    "name": "ipython",
    "version": 3
   },
   "file_extension": ".py",
   "mimetype": "text/x-python",
   "name": "python",
   "nbconvert_exporter": "python",
   "pygments_lexer": "ipython3",
   "version": "3.8.10"
  },
  "toc": {
   "base_numbering": 1,
   "nav_menu": {},
   "number_sections": true,
   "sideBar": true,
   "skip_h1_title": false,
   "title_cell": "Table of Contents",
   "title_sidebar": "Contents",
   "toc_cell": false,
   "toc_position": {
    "height": "calc(100% - 180px)",
    "left": "10px",
    "top": "150px",
    "width": "387.453px"
   },
   "toc_section_display": true,
   "toc_window_display": true
  }
 },
 "nbformat": 4,
 "nbformat_minor": 5
}
